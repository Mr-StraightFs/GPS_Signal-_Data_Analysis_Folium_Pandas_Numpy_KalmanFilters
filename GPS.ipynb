# let's import all the relevant python libraries for this project
import pandas as pd
import folium
from folium import plugins
import ipywidgets
import geocoder
import geopy
import numpy as np
import matplotlib.pyplot as plt
from rdp import rdp

#let's read a parquet file into a dataframe , (file is saved localy at : C:\Users\mlaho\OneDrive\Desktop\OS\Coursera\WoVN\log.parquet )
parquetFile = r'C:\Users\mlaho\OneDrive\Desktop\OS\Coursera\WoVN\log.parquet'
data = pd.read_parquet(parquetFile , engine='auto')

# Let's Visualalize the first 10 rows
print(data.head(30))

# w've got to drop all the NAs, In our case that'd be about the :  (Long,Lat)
# We'll have to dro the NaNs to Visualize the Itenirary
data_viz=data.dropna(subset=['longitude'])
data_viz=data.dropna(subset=['latitude'])
data_viz=data.dropna(subset=['timestamp_secs'])
print(data_viz.head(5))

# One way of Doing that is the  Ramer-Douglas-Peuker Algorithme
# The Ramer-Douglas-Peuker AKA (rdp) is a well-known algorithme that omits irrelevant points on an tenary graph , let's apply it here .
Simple_GPS = rdp(data_viz[['longitude','latitude']].values,epsilon=1e-10

# Let's see hw many observations we've reduced by appying the 'rdp'
print('{} point reduced to {} points '.format(data.shape[0],Simple_GPS.shape[0]) )

#Data Vizualiazation



# Let's Create a MultiLayer Ma on Folium
map_car_gps = folium.Map(location=[35.225867, 138.892303], zoom_start=12, height=700)
# add tiles to map
folium.raster_layers.TileLayer('Open Street Map').add_to(map_car_gps)
folium.raster_layers.TileLayer('Stamen Terrain').add_to(map_car_gps)
folium.raster_layers.TileLayer('Stamen Toner').add_to(map_car_gps)
folium.raster_layers.TileLayer('Stamen Watercolor').add_to(map_car_gps)
folium.raster_layers.TileLayer('CartoDB Positron').add_to(map_car_gps)
folium.raster_layers.TileLayer('CartoDB Dark_Matter').add_to(map_car_gps)
#Let us as a well add a Minimap to the Map (With Folium)
minimap = plugins.MiniMap(toggle_display=True)
# add minimap to map
map_car_gps.add_child(minimap)
# add layer control to show different maps
folium.LayerControl().add_to(map_car_gps)

# display map
folium.Marker(location=[35.225870, 138.892307],
              tooltip='click').add_to(map_car_gps)
folium.Marker(location=[35.210735, 138.900702],
              tooltip='click').add_to(map_car_gps)
route_lats_longs = list()
print("Type of a:", type(route_lats_longs))

for (index, row) in data_viz.iterrows():
    route_lats_longs.append([row.loc['latitude'], row.loc['longitude']])
# The follwing line of code is left intentionally in Comment in case you refer a stable (static) route line
# folium.PolyLine(route_lats_longs).add_to(map_car_gps)

# I will go with the Dynamic one ...
plugins.AntPath(route_lats_longs).add_to(map_car_gps)

rint(map_car_gps)

# As can be seen on the map .. many irregularities tips toward some kind of sonsor signal impairment .. in the next lin eof code we will try to adress that properly .
# Sensor Synchonization
# let us assigne the closets (ong,lat) tuple to each image_id
diff = [] # empty list instantiation

for (index, row) in data.iterrows():
    if pd.isnull(row.loc['image_id']):
        diff.append('Pass')
    else:
        diff_1 = data.loc[index + 1, 'timestamp_secs'] - row.loc['timestamp_secs']
        diff_2 = row.loc['timestamp_secs'] - data.loc[index - 1, 'timestamp_secs']

        if diff_1 < diff_2:
            if diff_1 < 0.5:
                data.loc[index, 'latitude'] = data.loc[index + 1, 'latitude']
                data.loc[index, 'longitude'] = data.loc[index + 1, 'longitude']
            else:
                print('image_id = ' + str(row.loc['image_id']) + ' diff_1 is more than 0.5 s , we pass ')

        elif diff_2 < 0.5:
            data.loc[index, 'latitude'] = data.loc[index - 1, 'latitude']
            data.loc[index, 'longitude'] = data.loc[index - 1, 'longitude']
        else:
            print('image_id = ' + str(row.loc['image_id']) + ' diff_2 is way more than 0.5 s , we pass ')

        diff.append(min(diff_2, diff_1))
        diff_1 = 0
        diff_2 = 0

data['Diff'] = pd.DataFrame(diff) # aending the new oservaton the Diff List

# Vizuaizing the Data
print(data.head(32))


# After properly synchonizing the sensor , Let's again Omit the Nissing Data , for Vizuaization
data_viz_sync=data.dropna(subset=['timestamp_secs'])
data_viz_sync=data.dropna(subset=['longitude'])
data_viz_sync=data.dropna(subset=['latitude'])
data_viz_sync.tail(10)

map_car_gps = folium.Map(location=[35.210735, 138.900702], zoom_start=14, height=700)

# add tiles to map
folium.raster_layers.TileLayer('Open Street Map').add_to(map_car_gps)
folium.raster_layers.TileLayer('Stamen Terrain').add_to(map_car_gps)
folium.raster_layers.TileLayer('Stamen Toner').add_to(map_car_gps)
folium.raster_layers.TileLayer('Stamen Watercolor').add_to(map_car_gps)
folium.raster_layers.TileLayer('CartoDB Positron').add_to(map_car_gps)
folium.raster_layers.TileLayer('CartoDB Dark_Matter').add_to(map_car_gps)

minimap = plugins.MiniMap(toggle_display=True)

# add minimap to map
map_car_gps.add_child(minimap)
# add layer control to show different maps
folium.LayerControl().add_to(map_car_gps)

# display map

folium.Marker(location=[35.225870, 138.892307],
              tooltip='click').add_to(map_car_gps)

folium.Marker(location=[35.210735, 138.900702],
              tooltip='click').add_to(map_car_gps)

route_lats_longs = list()
print("Type of a:", type(route_lats_longs))

for (index, row) in data_viz_sync.iterrows():
    route_lats_longs.append([row.loc['latitude'], row.loc['longitude']])

# folium.PolyLine(route_lats_longs).add_to(map_car_gps)

plugins.AntPath(route_lats_longs).add_to(map_car_gps)

map_car_gps

# Data Viz with Matlotlib
%matplotlib inline
# Vizualizing The same Data on Actual Maps
import mplleaflet
map_ = folium.Map(location=[35.22587, 138.892307], zoom_start=10)

# data.set_index('timestamp_secs', drop=True, inplace=True)
plt.title('Car iteneray')
plt.plot(data['longitude'].values , data['latitude'].values ,'b')
plt.plot(data['longitude'].values , data['latitude'].values , 'rs')




mplleaflet.display(fig=plt.figure())
plt.show()

#The grah clearly shows some undesirable , but existing outliers

#Let's dig deeer to find out the origin these outliers , and maybe get rid of them .
# next up , plotting the latitude against time to see if it exibits any kind of signal loss
plt.plot(data['timestamp_secs'].values , data['latitude'].values ,'b')
plt.title('Latitude against time ')

# next up , plotting the longitude against time to see if it exibits any kind of signal loss
plt.plot(data['timestamp_secs'].values , data['longitude'].values ,'r')
plt.title('Longitute against time ')

# Cearly , both latitude and longtude exhibit signal loss
# We need to do something about that , to smoothen out them signals
# thats the Job of the KALMAN FILTERS in the next Chapter

## Next Up: Signal correction using Kalman Filters
# First , Get the Kalman Library

from pykalman import KalmanFilter
# Preparing Data for Kalman Smoother
gps_measures = np.ma.masked_invalid(data[['longitude','latitude']].values)
plt.plot(gps_measures[:,0],gps_measures[:,1])

# Initialaize KalmanFilter's Params
transistion_matrix = np.array([[1, 0, 1, 0],
                               [0, 1, 0, 1],
                               [0, 0, 1, 0],
                               [0, 0, 0, 1]])

observation_matrix = np.array([[1, 0, 1, 0],
                               [0, 1, 0, 1]])

R = np.diag([1e-4, 1e-4, 100]) ** 2

initial_state_mean = np.hstack([gps_measures[0, :], 2 * [0.]])
initial_state_cov = np.diag([1e-4, 50, 1e-4, 1e-4])

Kf = KalmanFilter(
    transistion_matrices=transistion_matrix,
    observation_matrices=observation_matrix,
    observation_covariance=R,
    initial_state_mean=initial_state_mean,
    initial_state_covariance=initial_state_cov,
    em_vars=['transistion_covariance']

)

#Learn the Optimal Params
Kf=Kf.em(gps_measures,n_iter=100)
# Update the Kalman Params
state_means , state_vars = Kf.smooth(gps_measures)
