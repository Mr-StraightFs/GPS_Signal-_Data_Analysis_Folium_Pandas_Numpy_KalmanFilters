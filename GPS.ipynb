{
 "cells": [
  {
   "cell_type": "code",
   "execution_count": 115,
   "id": "11bb6d76",
   "metadata": {},
   "outputs": [],
   "source": [
    "# let's import all the relevant python libraries for this project \n",
    "import pandas as pd\n",
    "import folium\n",
    "from folium import plugins\n",
    "import ipywidgets\n",
    "import geocoder\n",
    "import geopy\n",
    "import numpy as np\n",
    "import matplotlib.pyplot as plt\n"
   ]
  },
  {
   "cell_type": "code",
   "execution_count": 117,
   "id": "af92f154",
   "metadata": {},
   "outputs": [],
   "source": [
    "\n",
    "# This function reads a parquet file into a dataframe \n",
    "def read_parquet(path):\n",
    "    '''\n",
    "    Parameters:\n",
    "    path : path to the parquet file \n",
    "\n",
    "    Return: a pandas dataframe  \n",
    "    '''\n",
    "    data = pd.read_parquet(path , engine='auto')\n",
    "    return data \n",
    "    \n"
   ]
  },
  {
   "cell_type": "markdown",
   "id": "efc0315b",
   "metadata": {},
   "source": [
    "Part 1 : Data Ingestion and Visualization \n",
    "Goals :  \n",
    "- Write a function that reads the parquet file into suitable data structures.. \n",
    "- Visualize the data to get a better understanding (e.g. with folium)\n"
   ]
  },
  {
   "cell_type": "code",
   "execution_count": 118,
   "id": "705dada6",
   "metadata": {},
   "outputs": [],
   "source": [
    "#let's read a parquet file into a dataframe , (file is saved localy at : C:\\Users\\mlaho\\OneDrive\\Desktop\\OS\\Coursera\\WoVN\\log.parquet )\n",
    "# Please replace the following parquetFile with your path \n",
    "my_path = r'C:\\Users\\mlaho\\OneDrive\\Desktop\\OS\\Coursera\\WoVN\\log.parquet'\n",
    "data = read_parquet(my_path)"
   ]
  },
  {
   "cell_type": "code",
   "execution_count": 119,
   "id": "811d5f11",
   "metadata": {},
   "outputs": [
    {
     "data": {
      "text/html": [
       "<div>\n",
       "<style scoped>\n",
       "    .dataframe tbody tr th:only-of-type {\n",
       "        vertical-align: middle;\n",
       "    }\n",
       "\n",
       "    .dataframe tbody tr th {\n",
       "        vertical-align: top;\n",
       "    }\n",
       "\n",
       "    .dataframe thead th {\n",
       "        text-align: right;\n",
       "    }\n",
       "</style>\n",
       "<table border=\"1\" class=\"dataframe\">\n",
       "  <thead>\n",
       "    <tr style=\"text-align: right;\">\n",
       "      <th></th>\n",
       "      <th>timestamp_secs</th>\n",
       "      <th>image_id</th>\n",
       "      <th>latitude</th>\n",
       "      <th>longitude</th>\n",
       "    </tr>\n",
       "  </thead>\n",
       "  <tbody>\n",
       "    <tr>\n",
       "      <th>0</th>\n",
       "      <td>0.000000</td>\n",
       "      <td>NaN</td>\n",
       "      <td>35.22587</td>\n",
       "      <td>138.892307</td>\n",
       "    </tr>\n",
       "    <tr>\n",
       "      <th>1</th>\n",
       "      <td>0.055894</td>\n",
       "      <td>0.0</td>\n",
       "      <td>NaN</td>\n",
       "      <td>NaN</td>\n",
       "    </tr>\n",
       "    <tr>\n",
       "      <th>2</th>\n",
       "      <td>0.997609</td>\n",
       "      <td>NaN</td>\n",
       "      <td>35.22587</td>\n",
       "      <td>138.892307</td>\n",
       "    </tr>\n",
       "    <tr>\n",
       "      <th>3</th>\n",
       "      <td>1.997444</td>\n",
       "      <td>NaN</td>\n",
       "      <td>35.22587</td>\n",
       "      <td>138.892307</td>\n",
       "    </tr>\n",
       "    <tr>\n",
       "      <th>4</th>\n",
       "      <td>2.541349</td>\n",
       "      <td>1.0</td>\n",
       "      <td>NaN</td>\n",
       "      <td>NaN</td>\n",
       "    </tr>\n",
       "  </tbody>\n",
       "</table>\n",
       "</div>"
      ],
      "text/plain": [
       "   timestamp_secs  image_id  latitude   longitude\n",
       "0        0.000000       NaN  35.22587  138.892307\n",
       "1        0.055894       0.0       NaN         NaN\n",
       "2        0.997609       NaN  35.22587  138.892307\n",
       "3        1.997444       NaN  35.22587  138.892307\n",
       "4        2.541349       1.0       NaN         NaN"
      ]
     },
     "execution_count": 119,
     "metadata": {},
     "output_type": "execute_result"
    }
   ],
   "source": [
    "# Let's Visualalize the first 10 rows\n",
    "data.head(5)"
   ]
  },
  {
   "cell_type": "code",
   "execution_count": 120,
   "id": "b35cfaf2",
   "metadata": {},
   "outputs": [
    {
     "data": {
      "text/html": [
       "<div>\n",
       "<style scoped>\n",
       "    .dataframe tbody tr th:only-of-type {\n",
       "        vertical-align: middle;\n",
       "    }\n",
       "\n",
       "    .dataframe tbody tr th {\n",
       "        vertical-align: top;\n",
       "    }\n",
       "\n",
       "    .dataframe thead th {\n",
       "        text-align: right;\n",
       "    }\n",
       "</style>\n",
       "<table border=\"1\" class=\"dataframe\">\n",
       "  <thead>\n",
       "    <tr style=\"text-align: right;\">\n",
       "      <th></th>\n",
       "      <th>timestamp_secs</th>\n",
       "      <th>image_id</th>\n",
       "      <th>latitude</th>\n",
       "      <th>longitude</th>\n",
       "    </tr>\n",
       "  </thead>\n",
       "  <tbody>\n",
       "    <tr>\n",
       "      <th>0</th>\n",
       "      <td>0.000000</td>\n",
       "      <td>NaN</td>\n",
       "      <td>35.22587</td>\n",
       "      <td>138.892307</td>\n",
       "    </tr>\n",
       "    <tr>\n",
       "      <th>2</th>\n",
       "      <td>0.997609</td>\n",
       "      <td>NaN</td>\n",
       "      <td>35.22587</td>\n",
       "      <td>138.892307</td>\n",
       "    </tr>\n",
       "    <tr>\n",
       "      <th>3</th>\n",
       "      <td>1.997444</td>\n",
       "      <td>NaN</td>\n",
       "      <td>35.22587</td>\n",
       "      <td>138.892307</td>\n",
       "    </tr>\n",
       "    <tr>\n",
       "      <th>5</th>\n",
       "      <td>3.033717</td>\n",
       "      <td>NaN</td>\n",
       "      <td>35.22587</td>\n",
       "      <td>138.892307</td>\n",
       "    </tr>\n",
       "    <tr>\n",
       "      <th>6</th>\n",
       "      <td>3.997913</td>\n",
       "      <td>NaN</td>\n",
       "      <td>35.22587</td>\n",
       "      <td>138.892307</td>\n",
       "    </tr>\n",
       "  </tbody>\n",
       "</table>\n",
       "</div>"
      ],
      "text/plain": [
       "   timestamp_secs  image_id  latitude   longitude\n",
       "0        0.000000       NaN  35.22587  138.892307\n",
       "2        0.997609       NaN  35.22587  138.892307\n",
       "3        1.997444       NaN  35.22587  138.892307\n",
       "5        3.033717       NaN  35.22587  138.892307\n",
       "6        3.997913       NaN  35.22587  138.892307"
      ]
     },
     "execution_count": 120,
     "metadata": {},
     "output_type": "execute_result"
    }
   ],
   "source": [
    "# in order to visualize the (long,lat) pairs on a folium map \n",
    "# w've got to drop all the NAs, In our case that'd be about the :  (Long,Lat) \n",
    "# We'll have to drop the NaNs to Visualize the Itenirary \n",
    "# data_viz is the resulting dataframe created solely for the purpose of data vizualization \n",
    "\n",
    "data_viz=data.dropna(subset=['longitude'])\n",
    "data_viz=data.dropna(subset=['latitude'])\n",
    "data_viz.head(5)\n"
   ]
  },
  {
   "cell_type": "markdown",
   "id": "62cf4373",
   "metadata": {},
   "source": []
  },
  {
   "cell_type": "code",
   "execution_count": null,
   "id": "44b424e4",
   "metadata": {},
   "outputs": [],
   "source": []
  },
  {
   "cell_type": "code",
   "execution_count": 121,
   "id": "15024f50",
   "metadata": {
    "scrolled": true
   },
   "outputs": [],
   "source": [
    "def visualize_route_with_foliumMaps (df):\n",
    "    \n",
    "    map_car_gps = folium.Map(location=[35.225867 ,138.892303], zoom_start=12 ,height=700)\n",
    "\n",
    "    # add tiles to map\n",
    "    folium.raster_layers.TileLayer('Open Street Map').add_to(map_car_gps)\n",
    "    folium.raster_layers.TileLayer('Stamen Terrain').add_to(map_car_gps)\n",
    "    folium.raster_layers.TileLayer('Stamen Toner').add_to(map_car_gps)\n",
    "    folium.raster_layers.TileLayer('Stamen Watercolor').add_to(map_car_gps)\n",
    "    folium.raster_layers.TileLayer('CartoDB Positron').add_to(map_car_gps)\n",
    "    folium.raster_layers.TileLayer('CartoDB Dark_Matter').add_to(map_car_gps)\n",
    "\n",
    "    minimap = plugins.MiniMap(toggle_display=True)\n",
    "\n",
    "    # add minimap to map\n",
    "    map_car_gps.add_child(minimap)\n",
    "    # add layer control to show different maps\n",
    "    folium.LayerControl().add_to(map_car_gps)\n",
    "\n",
    "    # display map\n",
    "\n",
    "    folium.Marker(location=[35.225870 , 138.892307],  \n",
    "                      tooltip='click').add_to(map_car_gps) # mark the starting point with a location marker\n",
    "\n",
    "    folium.Marker(location=[35.210735,138.900702],  \n",
    "                      tooltip='click').add_to(map_car_gps) # mark the destination point with a location marker\n",
    "\n",
    "    route_lats_longs = list()\n",
    "    print(\"Type of a:\", type(route_lats_longs))\n",
    "\n",
    "    for (index, row) in df.iterrows(): \n",
    "        route_lats_longs.append([row.loc['latitude'], row.loc['longitude']])\n",
    "\n",
    "\n",
    "\n",
    "    plugins.AntPath(route_lats_longs).add_to(map_car_gps) # draning a dynamic itenerary using antpath \n",
    "\n",
    "    # Please check out the layer widget (at the top right corner) that allows you to scoll between the diffrent the types of Maps at your convenence\n",
    "    # Please also use the Zoom and drag feature to browse the Map\n",
    "    return map_car_gps\n",
    "    \n",
    "\n"
   ]
  },
  {
   "cell_type": "code",
   "execution_count": 122,
   "id": "9bd23a2d",
   "metadata": {},
   "outputs": [
    {
     "name": "stdout",
     "output_type": "stream",
     "text": [
      "Type of a: <class 'list'>\n"
     ]
    },
    {
     "data": {
      "text/html": [
       "<div style=\"width:100%;\"><div style=\"position:relative;width:100%;height:0;padding-bottom:60%;\"><span style=\"color:#565656\">Make this Notebook Trusted to load map: File -> Trust Notebook</span><iframe src=\"about:blank\" style=\"position:absolute;width:100%;height:100%;left:0;top:0;border:none !important;\" data-html=%3C%21DOCTYPE%20html%3E%0A%3Chead%3E%20%20%20%20%0A%20%20%20%20%3Cmeta%20http-equiv%3D%22content-type%22%20content%3D%22text/html%3B%20charset%3DUTF-8%22%20/%3E%0A%20%20%20%20%0A%20%20%20%20%20%20%20%20%3Cscript%3E%0A%20%20%20%20%20%20%20%20%20%20%20%20L_NO_TOUCH%20%3D%20false%3B%0A%20%20%20%20%20%20%20%20%20%20%20%20L_DISABLE_3D%20%3D%20false%3B%0A%20%20%20%20%20%20%20%20%3C/script%3E%0A%20%20%20%20%0A%20%20%20%20%3Cstyle%3Ehtml%2C%20body%20%7Bwidth%3A%20100%25%3Bheight%3A%20100%25%3Bmargin%3A%200%3Bpadding%3A%200%3B%7D%3C/style%3E%0A%20%20%20%20%3Cstyle%3E%23map%20%7Bposition%3Aabsolute%3Btop%3A0%3Bbottom%3A0%3Bright%3A0%3Bleft%3A0%3B%7D%3C/style%3E%0A%20%20%20%20%3Cscript%20src%3D%22https%3A//cdn.jsdelivr.net/npm/leaflet%401.6.0/dist/leaflet.js%22%3E%3C/script%3E%0A%20%20%20%20%3Cscript%20src%3D%22https%3A//code.jquery.com/jquery-1.12.4.min.js%22%3E%3C/script%3E%0A%20%20%20%20%3Cscript%20src%3D%22https%3A//maxcdn.bootstrapcdn.com/bootstrap/3.2.0/js/bootstrap.min.js%22%3E%3C/script%3E%0A%20%20%20%20%3Cscript%20src%3D%22https%3A//cdnjs.cloudflare.com/ajax/libs/Leaflet.awesome-markers/2.0.2/leaflet.awesome-markers.js%22%3E%3C/script%3E%0A%20%20%20%20%3Clink%20rel%3D%22stylesheet%22%20href%3D%22https%3A//cdn.jsdelivr.net/npm/leaflet%401.6.0/dist/leaflet.css%22/%3E%0A%20%20%20%20%3Clink%20rel%3D%22stylesheet%22%20href%3D%22https%3A//maxcdn.bootstrapcdn.com/bootstrap/3.2.0/css/bootstrap.min.css%22/%3E%0A%20%20%20%20%3Clink%20rel%3D%22stylesheet%22%20href%3D%22https%3A//maxcdn.bootstrapcdn.com/bootstrap/3.2.0/css/bootstrap-theme.min.css%22/%3E%0A%20%20%20%20%3Clink%20rel%3D%22stylesheet%22%20href%3D%22https%3A//maxcdn.bootstrapcdn.com/font-awesome/4.6.3/css/font-awesome.min.css%22/%3E%0A%20%20%20%20%3Clink%20rel%3D%22stylesheet%22%20href%3D%22https%3A//cdnjs.cloudflare.com/ajax/libs/Leaflet.awesome-markers/2.0.2/leaflet.awesome-markers.css%22/%3E%0A%20%20%20%20%3Clink%20rel%3D%22stylesheet%22%20href%3D%22https%3A//cdn.jsdelivr.net/gh/python-visualization/folium/folium/templates/leaflet.awesome.rotate.min.css%22/%3E%0A%20%20%20%20%0A%20%20%20%20%20%20%20%20%20%20%20%20%3Cmeta%20name%3D%22viewport%22%20content%3D%22width%3Ddevice-width%2C%0A%20%20%20%20%20%20%20%20%20%20%20%20%20%20%20%20initial-scale%3D1.0%2C%20maximum-scale%3D1.0%2C%20user-scalable%3Dno%22%20/%3E%0A%20%20%20%20%20%20%20%20%20%20%20%20%3Cstyle%3E%0A%20%20%20%20%20%20%20%20%20%20%20%20%20%20%20%20%23map_8e7b4875bf4d49308df7390cf389c13e%20%7B%0A%20%20%20%20%20%20%20%20%20%20%20%20%20%20%20%20%20%20%20%20position%3A%20relative%3B%0A%20%20%20%20%20%20%20%20%20%20%20%20%20%20%20%20%20%20%20%20width%3A%20100.0%25%3B%0A%20%20%20%20%20%20%20%20%20%20%20%20%20%20%20%20%20%20%20%20height%3A%20700.0px%3B%0A%20%20%20%20%20%20%20%20%20%20%20%20%20%20%20%20%20%20%20%20left%3A%200.0%25%3B%0A%20%20%20%20%20%20%20%20%20%20%20%20%20%20%20%20%20%20%20%20top%3A%200.0%25%3B%0A%20%20%20%20%20%20%20%20%20%20%20%20%20%20%20%20%7D%0A%20%20%20%20%20%20%20%20%20%20%20%20%3C/style%3E%0A%20%20%20%20%20%20%20%20%0A%20%20%20%20%3Cscript%20src%3D%22https%3A//cdnjs.cloudflare.com/ajax/libs/leaflet-minimap/3.6.1/Control.MiniMap.js%22%3E%3C/script%3E%0A%20%20%20%20%3Clink%20rel%3D%22stylesheet%22%20href%3D%22https%3A//cdnjs.cloudflare.com/ajax/libs/leaflet-minimap/3.6.1/Control.MiniMap.css%22/%3E%0A%20%20%20%20%3Cscript%20src%3D%22https%3A//cdn.jsdelivr.net/npm/leaflet-ant-path%401.1.2/dist/leaflet-ant-path.min.js%22%3E%3C/script%3E%0A%3C/head%3E%0A%3Cbody%3E%20%20%20%20%0A%20%20%20%20%0A%20%20%20%20%20%20%20%20%20%20%20%20%3Cdiv%20class%3D%22folium-map%22%20id%3D%22map_8e7b4875bf4d49308df7390cf389c13e%22%20%3E%3C/div%3E%0A%20%20%20%20%20%20%20%20%0A%3C/body%3E%0A%3Cscript%3E%20%20%20%20%0A%20%20%20%20%0A%20%20%20%20%20%20%20%20%20%20%20%20var%20map_8e7b4875bf4d49308df7390cf389c13e%20%3D%20L.map%28%0A%20%20%20%20%20%20%20%20%20%20%20%20%20%20%20%20%22map_8e7b4875bf4d49308df7390cf389c13e%22%2C%0A%20%20%20%20%20%20%20%20%20%20%20%20%20%20%20%20%7B%0A%20%20%20%20%20%20%20%20%20%20%20%20%20%20%20%20%20%20%20%20center%3A%20%5B35.225867%2C%20138.892303%5D%2C%0A%20%20%20%20%20%20%20%20%20%20%20%20%20%20%20%20%20%20%20%20crs%3A%20L.CRS.EPSG3857%2C%0A%20%20%20%20%20%20%20%20%20%20%20%20%20%20%20%20%20%20%20%20zoom%3A%2012%2C%0A%20%20%20%20%20%20%20%20%20%20%20%20%20%20%20%20%20%20%20%20zoomControl%3A%20true%2C%0A%20%20%20%20%20%20%20%20%20%20%20%20%20%20%20%20%20%20%20%20preferCanvas%3A%20false%2C%0A%20%20%20%20%20%20%20%20%20%20%20%20%20%20%20%20%7D%0A%20%20%20%20%20%20%20%20%20%20%20%20%29%3B%0A%0A%20%20%20%20%20%20%20%20%20%20%20%20%0A%0A%20%20%20%20%20%20%20%20%0A%20%20%20%20%0A%20%20%20%20%20%20%20%20%20%20%20%20var%20tile_layer_4ac172fd47fd4b69add23f686b371a38%20%3D%20L.tileLayer%28%0A%20%20%20%20%20%20%20%20%20%20%20%20%20%20%20%20%22https%3A//%7Bs%7D.tile.openstreetmap.org/%7Bz%7D/%7Bx%7D/%7By%7D.png%22%2C%0A%20%20%20%20%20%20%20%20%20%20%20%20%20%20%20%20%7B%22attribution%22%3A%20%22Data%20by%20%5Cu0026copy%3B%20%5Cu003ca%20href%3D%5C%22http%3A//openstreetmap.org%5C%22%5Cu003eOpenStreetMap%5Cu003c/a%5Cu003e%2C%20under%20%5Cu003ca%20href%3D%5C%22http%3A//www.openstreetmap.org/copyright%5C%22%5Cu003eODbL%5Cu003c/a%5Cu003e.%22%2C%20%22detectRetina%22%3A%20false%2C%20%22maxNativeZoom%22%3A%2018%2C%20%22maxZoom%22%3A%2018%2C%20%22minZoom%22%3A%200%2C%20%22noWrap%22%3A%20false%2C%20%22opacity%22%3A%201%2C%20%22subdomains%22%3A%20%22abc%22%2C%20%22tms%22%3A%20false%7D%0A%20%20%20%20%20%20%20%20%20%20%20%20%29.addTo%28map_8e7b4875bf4d49308df7390cf389c13e%29%3B%0A%20%20%20%20%20%20%20%20%0A%20%20%20%20%0A%20%20%20%20%20%20%20%20%20%20%20%20var%20tile_layer_5420468a572344998e7131e7c5dfc05c%20%3D%20L.tileLayer%28%0A%20%20%20%20%20%20%20%20%20%20%20%20%20%20%20%20%22https%3A//%7Bs%7D.tile.openstreetmap.org/%7Bz%7D/%7Bx%7D/%7By%7D.png%22%2C%0A%20%20%20%20%20%20%20%20%20%20%20%20%20%20%20%20%7B%22attribution%22%3A%20%22Data%20by%20%5Cu0026copy%3B%20%5Cu003ca%20href%3D%5C%22http%3A//openstreetmap.org%5C%22%5Cu003eOpenStreetMap%5Cu003c/a%5Cu003e%2C%20under%20%5Cu003ca%20href%3D%5C%22http%3A//www.openstreetmap.org/copyright%5C%22%5Cu003eODbL%5Cu003c/a%5Cu003e.%22%2C%20%22detectRetina%22%3A%20false%2C%20%22maxNativeZoom%22%3A%2018%2C%20%22maxZoom%22%3A%2018%2C%20%22minZoom%22%3A%200%2C%20%22noWrap%22%3A%20false%2C%20%22opacity%22%3A%201%2C%20%22subdomains%22%3A%20%22abc%22%2C%20%22tms%22%3A%20false%7D%0A%20%20%20%20%20%20%20%20%20%20%20%20%29.addTo%28map_8e7b4875bf4d49308df7390cf389c13e%29%3B%0A%20%20%20%20%20%20%20%20%0A%20%20%20%20%0A%20%20%20%20%20%20%20%20%20%20%20%20var%20tile_layer_984820ae778e4e10be8e69a01d244bc5%20%3D%20L.tileLayer%28%0A%20%20%20%20%20%20%20%20%20%20%20%20%20%20%20%20%22https%3A//stamen-tiles-%7Bs%7D.a.ssl.fastly.net/terrain/%7Bz%7D/%7Bx%7D/%7By%7D.jpg%22%2C%0A%20%20%20%20%20%20%20%20%20%20%20%20%20%20%20%20%7B%22attribution%22%3A%20%22Map%20tiles%20by%20%5Cu003ca%20href%3D%5C%22http%3A//stamen.com%5C%22%5Cu003eStamen%20Design%5Cu003c/a%5Cu003e%2C%20under%20%5Cu003ca%20href%3D%5C%22http%3A//creativecommons.org/licenses/by/3.0%5C%22%5Cu003eCC%20BY%203.0%5Cu003c/a%5Cu003e.%20Data%20by%20%5Cu0026copy%3B%20%5Cu003ca%20href%3D%5C%22http%3A//openstreetmap.org%5C%22%5Cu003eOpenStreetMap%5Cu003c/a%5Cu003e%2C%20under%20%5Cu003ca%20href%3D%5C%22http%3A//creativecommons.org/licenses/by-sa/3.0%5C%22%5Cu003eCC%20BY%20SA%5Cu003c/a%5Cu003e.%22%2C%20%22detectRetina%22%3A%20false%2C%20%22maxNativeZoom%22%3A%2018%2C%20%22maxZoom%22%3A%2018%2C%20%22minZoom%22%3A%200%2C%20%22noWrap%22%3A%20false%2C%20%22opacity%22%3A%201%2C%20%22subdomains%22%3A%20%22abc%22%2C%20%22tms%22%3A%20false%7D%0A%20%20%20%20%20%20%20%20%20%20%20%20%29.addTo%28map_8e7b4875bf4d49308df7390cf389c13e%29%3B%0A%20%20%20%20%20%20%20%20%0A%20%20%20%20%0A%20%20%20%20%20%20%20%20%20%20%20%20var%20tile_layer_573358ff5b3e45818e20b75ebc749818%20%3D%20L.tileLayer%28%0A%20%20%20%20%20%20%20%20%20%20%20%20%20%20%20%20%22https%3A//stamen-tiles-%7Bs%7D.a.ssl.fastly.net/toner/%7Bz%7D/%7Bx%7D/%7By%7D.png%22%2C%0A%20%20%20%20%20%20%20%20%20%20%20%20%20%20%20%20%7B%22attribution%22%3A%20%22Map%20tiles%20by%20%5Cu003ca%20href%3D%5C%22http%3A//stamen.com%5C%22%5Cu003eStamen%20Design%5Cu003c/a%5Cu003e%2C%20under%20%5Cu003ca%20href%3D%5C%22http%3A//creativecommons.org/licenses/by/3.0%5C%22%5Cu003eCC%20BY%203.0%5Cu003c/a%5Cu003e.%20Data%20by%20%5Cu0026copy%3B%20%5Cu003ca%20href%3D%5C%22http%3A//openstreetmap.org%5C%22%5Cu003eOpenStreetMap%5Cu003c/a%5Cu003e%2C%20under%20%5Cu003ca%20href%3D%5C%22http%3A//www.openstreetmap.org/copyright%5C%22%5Cu003eODbL%5Cu003c/a%5Cu003e.%22%2C%20%22detectRetina%22%3A%20false%2C%20%22maxNativeZoom%22%3A%2018%2C%20%22maxZoom%22%3A%2018%2C%20%22minZoom%22%3A%200%2C%20%22noWrap%22%3A%20false%2C%20%22opacity%22%3A%201%2C%20%22subdomains%22%3A%20%22abc%22%2C%20%22tms%22%3A%20false%7D%0A%20%20%20%20%20%20%20%20%20%20%20%20%29.addTo%28map_8e7b4875bf4d49308df7390cf389c13e%29%3B%0A%20%20%20%20%20%20%20%20%0A%20%20%20%20%0A%20%20%20%20%20%20%20%20%20%20%20%20var%20tile_layer_9eee6195cbcb4de09790845acc914ef0%20%3D%20L.tileLayer%28%0A%20%20%20%20%20%20%20%20%20%20%20%20%20%20%20%20%22https%3A//stamen-tiles-%7Bs%7D.a.ssl.fastly.net/watercolor/%7Bz%7D/%7Bx%7D/%7By%7D.jpg%22%2C%0A%20%20%20%20%20%20%20%20%20%20%20%20%20%20%20%20%7B%22attribution%22%3A%20%22Map%20tiles%20by%20%5Cu003ca%20href%3D%5C%22http%3A//stamen.com%5C%22%5Cu003eStamen%20Design%5Cu003c/a%5Cu003e%2C%20under%20%5Cu003ca%20href%3D%5C%22http%3A//creativecommons.org/licenses/by/3.0%5C%22%5Cu003eCC%20BY%203.0%5Cu003c/a%5Cu003e.%20Data%20by%20%5Cu0026copy%3B%20%5Cu003ca%20href%3D%5C%22http%3A//openstreetmap.org%5C%22%5Cu003eOpenStreetMap%5Cu003c/a%5Cu003e%2C%20under%20%5Cu003ca%20href%3D%5C%22http%3A//creativecommons.org/licenses/by-sa/3.0%5C%22%5Cu003eCC%20BY%20SA%5Cu003c/a%5Cu003e.%22%2C%20%22detectRetina%22%3A%20false%2C%20%22maxNativeZoom%22%3A%2018%2C%20%22maxZoom%22%3A%2018%2C%20%22minZoom%22%3A%200%2C%20%22noWrap%22%3A%20false%2C%20%22opacity%22%3A%201%2C%20%22subdomains%22%3A%20%22abc%22%2C%20%22tms%22%3A%20false%7D%0A%20%20%20%20%20%20%20%20%20%20%20%20%29.addTo%28map_8e7b4875bf4d49308df7390cf389c13e%29%3B%0A%20%20%20%20%20%20%20%20%0A%20%20%20%20%0A%20%20%20%20%20%20%20%20%20%20%20%20var%20tile_layer_fc0fe4e2acb24a79892c0e8fc6b636ef%20%3D%20L.tileLayer%28%0A%20%20%20%20%20%20%20%20%20%20%20%20%20%20%20%20%22https%3A//cartodb-basemaps-%7Bs%7D.global.ssl.fastly.net/light_all/%7Bz%7D/%7Bx%7D/%7By%7D.png%22%2C%0A%20%20%20%20%20%20%20%20%20%20%20%20%20%20%20%20%7B%22attribution%22%3A%20%22%5Cu0026copy%3B%20%5Cu003ca%20href%3D%5C%22http%3A//www.openstreetmap.org/copyright%5C%22%5Cu003eOpenStreetMap%5Cu003c/a%5Cu003e%20contributors%20%5Cu0026copy%3B%20%5Cu003ca%20href%3D%5C%22http%3A//cartodb.com/attributions%5C%22%5Cu003eCartoDB%5Cu003c/a%5Cu003e%2C%20CartoDB%20%5Cu003ca%20href%20%3D%5C%22http%3A//cartodb.com/attributions%5C%22%5Cu003eattributions%5Cu003c/a%5Cu003e%22%2C%20%22detectRetina%22%3A%20false%2C%20%22maxNativeZoom%22%3A%2018%2C%20%22maxZoom%22%3A%2018%2C%20%22minZoom%22%3A%200%2C%20%22noWrap%22%3A%20false%2C%20%22opacity%22%3A%201%2C%20%22subdomains%22%3A%20%22abc%22%2C%20%22tms%22%3A%20false%7D%0A%20%20%20%20%20%20%20%20%20%20%20%20%29.addTo%28map_8e7b4875bf4d49308df7390cf389c13e%29%3B%0A%20%20%20%20%20%20%20%20%0A%20%20%20%20%0A%20%20%20%20%20%20%20%20%20%20%20%20var%20tile_layer_bb87f61663e04147b5a77fb2d5e1b5d9%20%3D%20L.tileLayer%28%0A%20%20%20%20%20%20%20%20%20%20%20%20%20%20%20%20%22https%3A//cartodb-basemaps-%7Bs%7D.global.ssl.fastly.net/dark_all/%7Bz%7D/%7Bx%7D/%7By%7D.png%22%2C%0A%20%20%20%20%20%20%20%20%20%20%20%20%20%20%20%20%7B%22attribution%22%3A%20%22%5Cu0026copy%3B%20%5Cu003ca%20href%3D%5C%22http%3A//www.openstreetmap.org/copyright%5C%22%5Cu003eOpenStreetMap%5Cu003c/a%5Cu003e%20contributors%20%5Cu0026copy%3B%20%5Cu003ca%20href%3D%5C%22http%3A//cartodb.com/attributions%5C%22%5Cu003eCartoDB%5Cu003c/a%5Cu003e%2C%20CartoDB%20%5Cu003ca%20href%20%3D%5C%22http%3A//cartodb.com/attributions%5C%22%5Cu003eattributions%5Cu003c/a%5Cu003e%22%2C%20%22detectRetina%22%3A%20false%2C%20%22maxNativeZoom%22%3A%2018%2C%20%22maxZoom%22%3A%2018%2C%20%22minZoom%22%3A%200%2C%20%22noWrap%22%3A%20false%2C%20%22opacity%22%3A%201%2C%20%22subdomains%22%3A%20%22abc%22%2C%20%22tms%22%3A%20false%7D%0A%20%20%20%20%20%20%20%20%20%20%20%20%29.addTo%28map_8e7b4875bf4d49308df7390cf389c13e%29%3B%0A%20%20%20%20%20%20%20%20%0A%20%20%20%20%0A%20%20%20%20%20%20%20%20%20%20%20%20var%20tile_layer_7fd9f29def204e43bde7d257f97ada09%20%3D%20L.tileLayer%28%0A%20%20%20%20%20%20%20%20%20%20%20%20%20%20%20%20%22https%3A//%7Bs%7D.tile.openstreetmap.org/%7Bz%7D/%7Bx%7D/%7By%7D.png%22%2C%0A%20%20%20%20%20%20%20%20%20%20%20%20%20%20%20%20%7B%22attribution%22%3A%20%22Data%20by%20%5Cu0026copy%3B%20%5Cu003ca%20href%3D%5C%22http%3A//openstreetmap.org%5C%22%5Cu003eOpenStreetMap%5Cu003c/a%5Cu003e%2C%20under%20%5Cu003ca%20href%3D%5C%22http%3A//www.openstreetmap.org/copyright%5C%22%5Cu003eODbL%5Cu003c/a%5Cu003e.%22%2C%20%22detectRetina%22%3A%20false%2C%20%22maxNativeZoom%22%3A%2018%2C%20%22maxZoom%22%3A%2018%2C%20%22minZoom%22%3A%200%2C%20%22noWrap%22%3A%20false%2C%20%22opacity%22%3A%201%2C%20%22subdomains%22%3A%20%22abc%22%2C%20%22tms%22%3A%20false%7D%0A%20%20%20%20%20%20%20%20%20%20%20%20%29%3B%0A%20%20%20%20%20%20%20%20%20%20%20%20var%20mini_map_63c11307680e4815bb1d4973c72ec3d1%20%3D%20new%20L.Control.MiniMap%28%0A%20%20%20%20%20%20%20%20%20%20%20%20%20%20%20%20tile_layer_7fd9f29def204e43bde7d257f97ada09%2C%0A%20%20%20%20%20%20%20%20%20%20%20%20%20%20%20%20%7B%22autoToggleDisplay%22%3A%20false%2C%20%22centerFixed%22%3A%20false%2C%20%22collapsedHeight%22%3A%2025%2C%20%22collapsedWidth%22%3A%2025%2C%20%22height%22%3A%20150%2C%20%22minimized%22%3A%20false%2C%20%22position%22%3A%20%22bottomright%22%2C%20%22toggleDisplay%22%3A%20true%2C%20%22width%22%3A%20150%2C%20%22zoomAnimation%22%3A%20false%2C%20%22zoomLevelOffset%22%3A%20-5%7D%0A%20%20%20%20%20%20%20%20%20%20%20%20%29%3B%0A%20%20%20%20%20%20%20%20%20%20%20%20map_8e7b4875bf4d49308df7390cf389c13e.addControl%28mini_map_63c11307680e4815bb1d4973c72ec3d1%29%3B%0A%20%20%20%20%20%20%20%20%0A%20%20%20%20%0A%20%20%20%20%20%20%20%20%20%20%20%20var%20layer_control_4aae3d4c2b974bea971555d46cc8a595%20%3D%20%7B%0A%20%20%20%20%20%20%20%20%20%20%20%20%20%20%20%20base_layers%20%3A%20%7B%0A%20%20%20%20%20%20%20%20%20%20%20%20%20%20%20%20%20%20%20%20%22openstreetmap%22%20%3A%20tile_layer_5420468a572344998e7131e7c5dfc05c%2C%0A%20%20%20%20%20%20%20%20%20%20%20%20%20%20%20%20%20%20%20%20%22stamenterrain%22%20%3A%20tile_layer_984820ae778e4e10be8e69a01d244bc5%2C%0A%20%20%20%20%20%20%20%20%20%20%20%20%20%20%20%20%20%20%20%20%22stamentoner%22%20%3A%20tile_layer_573358ff5b3e45818e20b75ebc749818%2C%0A%20%20%20%20%20%20%20%20%20%20%20%20%20%20%20%20%20%20%20%20%22stamenwatercolor%22%20%3A%20tile_layer_9eee6195cbcb4de09790845acc914ef0%2C%0A%20%20%20%20%20%20%20%20%20%20%20%20%20%20%20%20%20%20%20%20%22cartodbpositron%22%20%3A%20tile_layer_fc0fe4e2acb24a79892c0e8fc6b636ef%2C%0A%20%20%20%20%20%20%20%20%20%20%20%20%20%20%20%20%20%20%20%20%22cartodbdark_matter%22%20%3A%20tile_layer_bb87f61663e04147b5a77fb2d5e1b5d9%2C%0A%20%20%20%20%20%20%20%20%20%20%20%20%20%20%20%20%7D%2C%0A%20%20%20%20%20%20%20%20%20%20%20%20%20%20%20%20overlays%20%3A%20%20%7B%0A%20%20%20%20%20%20%20%20%20%20%20%20%20%20%20%20%7D%2C%0A%20%20%20%20%20%20%20%20%20%20%20%20%7D%3B%0A%20%20%20%20%20%20%20%20%20%20%20%20L.control.layers%28%0A%20%20%20%20%20%20%20%20%20%20%20%20%20%20%20%20layer_control_4aae3d4c2b974bea971555d46cc8a595.base_layers%2C%0A%20%20%20%20%20%20%20%20%20%20%20%20%20%20%20%20layer_control_4aae3d4c2b974bea971555d46cc8a595.overlays%2C%0A%20%20%20%20%20%20%20%20%20%20%20%20%20%20%20%20%7B%22autoZIndex%22%3A%20true%2C%20%22collapsed%22%3A%20true%2C%20%22position%22%3A%20%22topright%22%7D%0A%20%20%20%20%20%20%20%20%20%20%20%20%29.addTo%28map_8e7b4875bf4d49308df7390cf389c13e%29%3B%0A%20%20%20%20%20%20%20%20%20%20%20%20tile_layer_984820ae778e4e10be8e69a01d244bc5.remove%28%29%3B%0A%20%20%20%20%20%20%20%20%20%20%20%20tile_layer_573358ff5b3e45818e20b75ebc749818.remove%28%29%3B%0A%20%20%20%20%20%20%20%20%20%20%20%20tile_layer_9eee6195cbcb4de09790845acc914ef0.remove%28%29%3B%0A%20%20%20%20%20%20%20%20%20%20%20%20tile_layer_fc0fe4e2acb24a79892c0e8fc6b636ef.remove%28%29%3B%0A%20%20%20%20%20%20%20%20%20%20%20%20tile_layer_bb87f61663e04147b5a77fb2d5e1b5d9.remove%28%29%3B%0A%20%20%20%20%20%20%20%20%0A%20%20%20%20%0A%20%20%20%20%20%20%20%20%20%20%20%20var%20marker_c35c0ac5818b4f7999b33bf97bae0113%20%3D%20L.marker%28%0A%20%20%20%20%20%20%20%20%20%20%20%20%20%20%20%20%5B35.22587%2C%20138.892307%5D%2C%0A%20%20%20%20%20%20%20%20%20%20%20%20%20%20%20%20%7B%7D%0A%20%20%20%20%20%20%20%20%20%20%20%20%29.addTo%28map_8e7b4875bf4d49308df7390cf389c13e%29%3B%0A%20%20%20%20%20%20%20%20%0A%20%20%20%20%0A%20%20%20%20%20%20%20%20%20%20%20%20marker_c35c0ac5818b4f7999b33bf97bae0113.bindTooltip%28%0A%20%20%20%20%20%20%20%20%20%20%20%20%20%20%20%20%60%3Cdiv%3E%0A%20%20%20%20%20%20%20%20%20%20%20%20%20%20%20%20%20%20%20%20%20click%0A%20%20%20%20%20%20%20%20%20%20%20%20%20%20%20%20%20%3C/div%3E%60%2C%0A%20%20%20%20%20%20%20%20%20%20%20%20%20%20%20%20%7B%22sticky%22%3A%20true%7D%0A%20%20%20%20%20%20%20%20%20%20%20%20%29%3B%0A%20%20%20%20%20%20%20%20%0A%20%20%20%20%0A%20%20%20%20%20%20%20%20%20%20%20%20var%20marker_6dc25d9ffd1540ca8b0d1b877714aeaa%20%3D%20L.marker%28%0A%20%20%20%20%20%20%20%20%20%20%20%20%20%20%20%20%5B35.210735%2C%20138.900702%5D%2C%0A%20%20%20%20%20%20%20%20%20%20%20%20%20%20%20%20%7B%7D%0A%20%20%20%20%20%20%20%20%20%20%20%20%29.addTo%28map_8e7b4875bf4d49308df7390cf389c13e%29%3B%0A%20%20%20%20%20%20%20%20%0A%20%20%20%20%0A%20%20%20%20%20%20%20%20%20%20%20%20marker_6dc25d9ffd1540ca8b0d1b877714aeaa.bindTooltip%28%0A%20%20%20%20%20%20%20%20%20%20%20%20%20%20%20%20%60%3Cdiv%3E%0A%20%20%20%20%20%20%20%20%20%20%20%20%20%20%20%20%20%20%20%20%20click%0A%20%20%20%20%20%20%20%20%20%20%20%20%20%20%20%20%20%3C/div%3E%60%2C%0A%20%20%20%20%20%20%20%20%20%20%20%20%20%20%20%20%7B%22sticky%22%3A%20true%7D%0A%20%20%20%20%20%20%20%20%20%20%20%20%29%3B%0A%20%20%20%20%20%20%20%20%0A%20%20%20%20%0A%20%20%20%20%20%20%20%20%20%20%20%20ant_path_cde0a4a342924dee9976cfd8e9ab6d90%20%3D%20L.polyline.antPath%28%0A%20%20%20%20%20%20%20%20%20%20%20%20%20%20%5B%5B35.22587%2C%20138.89230666666666%5D%2C%20%5B35.22587%2C%20138.89230666666666%5D%2C%20%5B35.22587%2C%20138.89230666666666%5D%2C%20%5B35.22587%2C%20138.89230666666666%5D%2C%20%5B35.22587%2C%20138.89230666666666%5D%2C%20%5B35.22587%2C%20138.89230666666666%5D%2C%20%5B35.22586%2C%20138.892315%5D%2C%20%5B35.22586%2C%20138.89231333333333%5D%2C%20%5B35.22586166666667%2C%20138.89231333333333%5D%2C%20%5B35.225863333333336%2C%20138.89231166666664%5D%2C%20%5B35.225863333333336%2C%20138.89231%5D%2C%20%5B35.225865%2C%20138.89231%5D%2C%20%5B35.22586666666667%2C%20138.89230833333335%5D%2C%20%5B35.22586666666667%2C%20138.89230666666666%5D%2C%20%5B35.22586666666667%2C%20138.89230666666666%5D%2C%20%5B35.22586666666667%2C%20138.89230666666666%5D%2C%20%5B35.22586833333333%2C%20138.89230666666666%5D%2C%20%5B35.22586833333333%2C%20138.892305%5D%2C%20%5B35.22586833333333%2C%20138.892305%5D%2C%20%5B35.22586833333333%2C%20138.892305%5D%2C%20%5B35.22586833333333%2C%20138.89230333333336%5D%2C%20%5B35.22586833333333%2C%20138.89230333333336%5D%2C%20%5B35.22586833333333%2C%20138.89230333333336%5D%2C%20%5B35.22586666666667%2C%20138.89230333333336%5D%2C%20%5B35.22586666666667%2C%20138.89230333333336%5D%2C%20%5B35.22586666666667%2C%20138.89230333333336%5D%2C%20%5B35.22586666666667%2C%20138.89230333333336%5D%2C%20%5B35.22586666666667%2C%20138.89230166666667%5D%2C%20%5B35.22586666666667%2C%20138.89230166666667%5D%2C%20%5B35.225865%2C%20138.89230166666667%5D%2C%20%5B35.225865%2C%20138.89230166666667%5D%2C%20%5B35.22819547353815%2C%20138.89009881615925%5D%2C%20%5B35.225863333333336%2C%20138.8923%5D%2C%20%5B35.225863333333336%2C%20138.8923%5D%2C%20%5B35.225863333333336%2C%20138.8923%5D%2C%20%5B35.22586166666667%2C%20138.8923%5D%2C%20%5B35.22586%2C%20138.8923%5D%2C%20%5B35.22586%2C%20138.8923%5D%2C%20%5B35.22586%2C%20138.8923%5D%2C%20%5B35.225858333333335%2C%20138.89229833333331%5D%2C%20%5B35.225858333333335%2C%20138.89229833333331%5D%2C%20%5B35.225856666666665%2C%20138.89229833333331%5D%2C%20%5B35.225856666666665%2C%20138.89229833333331%5D%2C%20%5B35.225856666666665%2C%20138.89229833333331%5D%2C%20%5B35.225856666666665%2C%20138.89229833333331%5D%2C%20%5B35.225855%2C%20138.89229833333331%5D%2C%20%5B35.225855%2C%20138.89229833333331%5D%2C%20%5B35.225855%2C%20138.89229833333331%5D%2C%20%5B35.225855%2C%20138.89229833333331%5D%2C%20%5B35.225855%2C%20138.89229833333331%5D%2C%20%5B35.225855%2C%20138.89229833333331%5D%2C%20%5B35.225855%2C%20138.89229833333331%5D%2C%20%5B35.22555542157567%2C%20138.89002328703867%5D%2C%20%5B35.225855%2C%20138.89229666666668%5D%2C%20%5B35.225855%2C%20138.89229666666668%5D%2C%20%5B35.225855%2C%20138.89229666666668%5D%2C%20%5B35.225855%2C%20138.89229666666668%5D%2C%20%5B35.22585333333333%2C%20138.89229666666668%5D%2C%20%5B35.22585333333333%2C%20138.89229666666668%5D%2C%20%5B35.22585166666667%2C%20138.89229666666668%5D%2C%20%5B35.22585166666667%2C%20138.89229666666668%5D%2C%20%5B35.22585166666667%2C%20138.89229666666668%5D%2C%20%5B35.22585166666667%2C%20138.89229666666668%5D%2C%20%5B35.22585166666667%2C%20138.89229666666668%5D%2C%20%5B35.22585166666667%2C%20138.89229666666668%5D%2C%20%5B35.22585166666667%2C%20138.89229666666668%5D%2C%20%5B35.22585166666667%2C%20138.89229666666668%5D%2C%20%5B35.22133074935241%2C%20138.89432022127323%5D%2C%20%5B35.22585166666667%2C%20138.89229500000002%5D%2C%20%5B35.22585166666667%2C%20138.89229500000002%5D%2C%20%5B35.22585166666667%2C%20138.89229500000002%5D%2C%20%5B35.22585166666667%2C%20138.89229500000002%5D%2C%20%5B35.22585166666667%2C%20138.89229333333333%5D%2C%20%5B35.22585166666667%2C%20138.89229333333333%5D%2C%20%5B35.22585166666667%2C%20138.89229333333333%5D%2C%20%5B35.22585166666667%2C%20138.89229333333333%5D%2C%20%5B35.22585166666667%2C%20138.89229333333333%5D%2C%20%5B35.22585166666667%2C%20138.89229333333333%5D%2C%20%5B35.22585166666667%2C%20138.89229333333333%5D%2C%20%5B35.22585166666667%2C%20138.89229500000002%5D%2C%20%5B35.22585166666667%2C%20138.89229500000002%5D%2C%20%5B35.22585166666667%2C%20138.89229500000002%5D%2C%20%5B35.22585166666667%2C%20138.89229500000002%5D%2C%20%5B35.22585166666667%2C%20138.89229500000002%5D%2C%20%5B35.22585166666667%2C%20138.89229666666668%5D%2C%20%5B35.22585166666667%2C%20138.89229666666668%5D%2C%20%5B35.22585166666667%2C%20138.89229666666668%5D%2C%20%5B35.22585166666667%2C%20138.89229666666668%5D%2C%20%5B35.22585166666667%2C%20138.89229666666668%5D%2C%20%5B35.22585166666667%2C%20138.89229666666668%5D%2C%20%5B35.22585%2C%20138.89229666666668%5D%2C%20%5B35.22585%2C%20138.89229666666668%5D%2C%20%5B35.22585%2C%20138.89229666666668%5D%2C%20%5B35.22585%2C%20138.89229666666668%5D%2C%20%5B35.22585%2C%20138.89229666666668%5D%2C%20%5B35.22585%2C%20138.89229666666668%5D%2C%20%5B35.22584833333334%2C%20138.89229666666668%5D%2C%20%5B35.22584833333334%2C%20138.89229666666668%5D%2C%20%5B35.22584833333334%2C%20138.89229666666668%5D%2C%20%5B35.22584833333334%2C%20138.89229666666668%5D%2C%20%5B35.22584833333334%2C%20138.89229666666668%5D%2C%20%5B35.22584833333334%2C%20138.89229666666668%5D%2C%20%5B35.22584666666667%2C%20138.89229666666668%5D%2C%20%5B35.22584666666667%2C%20138.89229500000002%5D%2C%20%5B35.22584666666667%2C%20138.89229500000002%5D%2C%20%5B35.22584666666667%2C%20138.89229500000002%5D%2C%20%5B35.225845%2C%20138.89229500000002%5D%2C%20%5B35.225845%2C%20138.89229500000002%5D%2C%20%5B35.225845%2C%20138.89229500000002%5D%2C%20%5B35.225845%2C%20138.89229500000002%5D%2C%20%5B35.225845%2C%20138.89229333333333%5D%2C%20%5B35.225845%2C%20138.89229333333333%5D%2C%20%5B35.22258044015536%2C%20138.88969823083048%5D%2C%20%5B35.22584833333334%2C%20138.89228666666668%5D%2C%20%5B35.22585166666667%2C%20138.89227666666665%5D%2C%20%5B35.22586%2C%20138.89226666666667%5D%2C%20%5B35.225876666666665%2C%20138.89225666666667%5D%2C%20%5B35.22589333333334%2C%20138.892255%5D%2C%20%5B35.22591%2C%20138.89225333333334%5D%2C%20%5B35.225925%2C%20138.89225666666667%5D%2C%20%5B35.22593333333334%2C%20138.89226666666667%5D%2C%20%5B35.22593833333334%2C%20138.89226833333333%5D%2C%20%5B35.225946666666665%2C%20138.89227833333334%5D%2C%20%5B35.225955%2C%20138.89229833333331%5D%2C%20%5B35.22595833333333%2C%20138.89232333333334%5D%2C%20%5B35.22595166666667%2C%20138.89235333333332%5D%2C%20%5B35.22594333333333%2C%20138.89237%5D%2C%20%5B35.22593833333334%2C%20138.89237833333334%5D%2C%20%5B35.22593666666667%2C%20138.89237833333334%5D%2C%20%5B35.22593666666667%2C%20138.89237833333334%5D%2C%20%5B35.22593333333334%2C%20138.89238500000002%5D%2C%20%5B35.225926666666666%2C%20138.89239%5D%2C%20%5B35.22591666666666%2C%20138.89238833333332%5D%2C%20%5B35.225905%2C%20138.89238166666667%5D%2C%20%5B35.225895%2C%20138.892365%5D%2C%20%5B35.22588%2C%20138.89234666666667%5D%2C%20%5B35.22585166666667%2C%20138.89233166666665%5D%2C%20%5B35.225829999999995%2C%20138.89231%5D%2C%20%5B35.225818333333336%2C%20138.89230333333336%5D%2C%20%5B35.225813333333335%2C%20138.89229833333331%5D%2C%20%5B35.22580666666667%2C%20138.89229666666668%5D%2C%20%5B35.22580166666667%2C%20138.89229500000002%5D%2C%20%5B35.225795%2C%20138.89229166666667%5D%2C%20%5B35.225788333333334%2C%20138.892285%5D%2C%20%5B35.22578166666666%2C%20138.89227833333334%5D%2C%20%5B35.225766666666665%2C%20138.89226666666667%5D%2C%20%5B35.22574833333333%2C%20138.89225666666667%5D%2C%20%5B35.225723333333335%2C%20138.89225833333333%5D%2C%20%5B35.225695%2C%20138.89228166666666%5D%2C%20%5B35.225675%2C%20138.89232666666666%5D%2C%20%5B35.22253381343324%2C%20138.89021199958256%5D%2C%20%5B35.225608333333334%2C%20138.89246666666668%5D%2C%20%5B35.22557166666666%2C%20138.892545%5D%2C%20%5B35.22552833333334%2C%20138.89263333333335%5D%2C%20%5B35.22552833333334%2C%20138.89263333333335%5D%2C%20%5B35.22552833333334%2C%20138.89263333333335%5D%2C%20%5B35.225410000000004%2C%20138.89286333333334%5D%2C%20%5B35.225363333333334%2C%20138.8929466666667%5D%2C%20%5B35.225316666666664%2C%20138.8930366666667%5D%2C%20%5B35.22386118943057%2C%20138.89215046900662%5D%2C%20%5B35.22527%2C%20138.893115%5D%2C%20%5B35.22519166666667%2C%20138.89325833333334%5D%2C%20%5B35.225161666666665%2C%20138.89331166666668%5D%2C%20%5B35.225138333333334%2C%20138.89335666666665%5D%2C%20%5B35.225116666666665%2C%20138.893395%5D%2C%20%5B35.22510166666667%2C%20138.893425%5D%2C%20%5B35.22510166666667%2C%20138.893425%5D%2C%20%5B35.22507666666667%2C%20138.89346833333332%5D%2C%20%5B35.225069999999995%2C%20138.89347833333335%5D%2C%20%5B35.22506833333333%2C%20138.893485%5D%2C%20%5B35.22506166666667%2C%20138.89350000000002%5D%2C%20%5B35.22504%2C%20138.89353833333334%5D%2C%20%5B35.22501666666667%2C%20138.89358%5D%2C%20%5B35.223964082491776%2C%20138.8897929000554%5D%2C%20%5B35.22495833333333%2C%20138.89369666666667%5D%2C%20%5B35.224918333333335%2C%20138.89377000000002%5D%2C%20%5B35.22027798742249%2C%20138.89850816190457%5D%2C%20%5B35.224825%2C%20138.89394166666668%5D%2C%20%5B35.22477166666667%2C%20138.89403666666666%5D%2C%20%5B35.224713333333334%2C%20138.89413833333336%5D%2C%20%5B35.22465%2C%20138.89425%5D%2C%20%5B35.224585000000005%2C%20138.894365%5D%2C%20%5B35.224585000000005%2C%20138.894365%5D%2C%20%5B35.22445166666667%2C%20138.89459333333335%5D%2C%20%5B35.224381666666666%2C%20138.89471833333334%5D%2C%20%5B35.224309999999996%2C%20138.89484499999998%5D%2C%20%5B35.22423666666667%2C%20138.89496666666668%5D%2C%20%5B35.224156666666666%2C%20138.89508833333332%5D%2C%20%5B35.22408166666666%2C%20138.89520833333333%5D%2C%20%5B35.224021666666665%2C%20138.89531333333335%5D%2C%20%5B35.22397%2C%20138.89541%5D%2C%20%5B35.223911666666666%2C%20138.89549%5D%2C%20%5B35.22385%2C%20138.89554%5D%2C%20%5B35.223780000000005%2C%20138.89555333333334%5D%2C%20%5B35.223715%2C%20138.89551833333334%5D%2C%20%5B35.22364%2C%20138.89546166666665%5D%2C%20%5B35.223571666666665%2C%20138.89537833333333%5D%2C%20%5B35.22350333333333%2C%20138.89529499999998%5D%2C%20%5B35.22106210145844%2C%20138.89377991500965%5D%2C%20%5B35.22337%2C%20138.89514833333334%5D%2C%20%5B35.22331%2C%20138.89507666666665%5D%2C%20%5B35.22325333333333%2C%20138.894995%5D%2C%20%5B35.2232%2C%20138.894905%5D%2C%20%5B35.22316166666667%2C%20138.89479666666665%5D%2C%20%5B35.22313%2C%20138.89468166666666%5D%2C%20%5B35.223105000000004%2C%20138.894555%5D%2C%20%5B35.223083333333335%2C%20138.89442499999998%5D%2C%20%5B35.223060000000004%2C%20138.89429%5D%2C%20%5B35.223036666666665%2C%20138.89415666666667%5D%2C%20%5B35.22301166666667%2C%20138.89402333333334%5D%2C%20%5B35.22298833333333%2C%20138.89389%5D%2C%20%5B35.22296666666667%2C%20138.89375833333332%5D%2C%20%5B35.22295833333333%2C%20138.89362833333334%5D%2C%20%5B35.222965%2C%20138.89350166666665%5D%2C%20%5B35.222991666666665%2C%20138.89337833333332%5D%2C%20%5B35.22302833333333%2C%20138.89326333333332%5D%2C%20%5B35.223065%2C%20138.8931433333333%5D%2C%20%5B35.2231%2C%20138.89301500000002%5D%2C%20%5B35.22311333333334%2C%20138.89287666666667%5D%2C%20%5B35.223108333333336%2C%20138.89273999999997%5D%2C%20%5B35.223103333333334%2C%20138.89260166666665%5D%2C%20%5B35.2231%2C%20138.89246833333334%5D%2C%20%5B35.22309333333333%2C%20138.89234%5D%2C%20%5B35.223085%2C%20138.89221666666666%5D%2C%20%5B35.22305666666667%2C%20138.89209666666665%5D%2C%20%5B35.22300833333334%2C%20138.89197666666666%5D%2C%20%5B35.22295%2C%20138.89185833333335%5D%2C%20%5B35.22288833333334%2C%20138.89173666666665%5D%2C%20%5B35.22282166666666%2C%20138.89162166666668%5D%2C%20%5B35.222743333333334%2C%20138.891515%5D%2C%20%5B35.222658333333335%2C%20138.89140833333335%5D%2C%20%5B35.222568333333335%2C%20138.89131333333336%5D%2C%20%5B35.222485%2C%20138.8912183333333%5D%2C%20%5B35.222406666666664%2C%20138.89112500000002%5D%2C%20%5B35.22233333333334%2C%20138.89103166666666%5D%2C%20%5B35.22226666666666%2C%20138.89093499999998%5D%2C%20%5B35.22221166666667%2C%20138.89083%5D%2C%20%5B35.222165000000004%2C%20138.890715%5D%2C%20%5B35.22212833333333%2C%20138.89059166666667%5D%2C%20%5B35.22210166666667%2C%20138.89046166666668%5D%2C%20%5B35.222076666666666%2C%20138.89033%5D%2C%20%5B35.222049999999996%2C%20138.89019833333333%5D%2C%20%5B35.222025%2C%20138.89006666666668%5D%2C%20%5B35.222%2C%20138.88993333333335%5D%2C%20%5B35.22156731603683%2C%20138.89277409958999%5D%2C%20%5B35.22195%2C%20138.88967%5D%2C%20%5B35.22192666666667%2C%20138.88954833333335%5D%2C%20%5B35.22190166666667%2C%20138.88942666666665%5D%2C%20%5B35.22186833333333%2C%20138.88930833333333%5D%2C%20%5B35.22181833333333%2C%20138.88919166666668%5D%2C%20%5B35.22175333333333%2C%20138.88908833333335%5D%2C%20%5B35.22167833333333%2C%20138.88900666666666%5D%2C%20%5B35.22160833333333%2C%20138.88894666666664%5D%2C%20%5B35.22155%2C%20138.888905%5D%2C%20%5B35.22150333333333%2C%20138.88887333333332%5D%2C%20%5B35.221468333333334%2C%20138.88885666666664%5D%2C%20%5B35.22145166666667%2C%20138.888845%5D%2C%20%5B35.221435%2C%20138.88883833333333%5D%2C%20%5B35.221419999999995%2C%20138.88882999999998%5D%2C%20%5B35.22139333333334%2C%20138.88882333333333%5D%2C%20%5B35.221356666666665%2C%20138.88883333333334%5D%2C%20%5B35.221318333333336%2C%20138.88886166666668%5D%2C%20%5B35.22129333333333%2C%20138.88894166666665%5D%2C%20%5B35.221265%2C%20138.88903166666665%5D%2C%20%5B35.22123%2C%20138.88913166666669%5D%2C%20%5B35.22119%2C%20138.88924333333335%5D%2C%20%5B35.22114666666666%2C%20138.88935833333335%5D%2C%20%5B35.22109666666667%2C%20138.8894733333333%5D%2C%20%5B35.221043333333334%2C%20138.88958333333332%5D%2C%20%5B35.22097833333333%2C%20138.88969333333335%5D%2C%20%5B35.22091%2C%20138.889795%5D%2C%20%5B35.22083%2C%20138.88989333333333%5D%2C%20%5B35.220745%2C%20138.88998833333332%5D%2C%20%5B35.22065333333333%2C%20138.89008%5D%2C%20%5B35.22055833333333%2C%20138.89016666666666%5D%2C%20%5B35.22046%2C%20138.89025333333333%5D%2C%20%5B35.22036333333333%2C%20138.89034%5D%2C%20%5B35.21536982270697%2C%20138.89240233805984%5D%2C%20%5B35.22017166666667%2C%20138.89051%5D%2C%20%5B35.220076666666664%2C%20138.89059666666665%5D%2C%20%5B35.21997833333333%2C%20138.89068333333336%5D%2C%20%5B35.219881666666666%2C%20138.89077%5D%2C%20%5B35.219785%2C%20138.89085500000002%5D%2C%20%5B35.219685%2C%20138.89093999999997%5D%2C%20%5B35.219588333333334%2C%20138.89102666666668%5D%2C%20%5B35.21949666666667%2C%20138.89111999999997%5D%2C%20%5B35.21940666666667%2C%20138.8912183333333%5D%2C%20%5B35.219325000000005%2C%20138.89132999999998%5D%2C%20%5B35.219253333333334%2C%20138.89145166666668%5D%2C%20%5B35.219190000000005%2C%20138.89158%5D%2C%20%5B35.21912833333333%2C%20138.89171333333334%5D%2C%20%5B35.219065%2C%20138.89184333333333%5D%2C%20%5B35.21899166666667%2C%20138.89196666666666%5D%2C%20%5B35.21890833333334%2C%20138.89207833333333%5D%2C%20%5B35.218815%2C%20138.892175%5D%2C%20%5B35.21871333333333%2C%20138.89225833333333%5D%2C%20%5B35.218608333333336%2C%20138.892335%5D%2C%20%5B35.21850333333334%2C%20138.8924066666667%5D%2C%20%5B35.218399999999995%2C%20138.89248333333336%5D%2C%20%5B35.21829833333334%2C%20138.89256333333333%5D%2C%20%5B35.218201666666666%2C%20138.89265166666667%5D%2C%20%5B35.218111666666665%2C%20138.89275166666667%5D%2C%20%5B35.21803%2C%20138.89285999999998%5D%2C%20%5B35.21794833333333%2C%20138.892975%5D%2C%20%5B35.21787%2C%20138.89309333333333%5D%2C%20%5B35.21779166666667%2C%20138.89321166666664%5D%2C%20%5B35.21757577901023%2C%20138.8939001166029%5D%2C%20%5B35.217635%2C%20138.893445%5D%2C%20%5B35.21755666666666%2C%20138.89356333333333%5D%2C%20%5B35.21747833333333%2C%20138.89368000000002%5D%2C%20%5B35.2174%2C%20138.89379666666667%5D%2C%20%5B35.21732333333333%2C%20138.893915%5D%2C%20%5B35.21724666666667%2C%20138.89403333333334%5D%2C%20%5B35.21716666666667%2C%20138.89415333333332%5D%2C%20%5B35.21708666666667%2C%20138.89427333333333%5D%2C%20%5B35.21700666666666%2C%20138.89439499999997%5D%2C%20%5B35.216928333333335%2C%20138.89452%5D%2C%20%5B35.216855%2C%20138.89465166666665%5D%2C%20%5B35.216786666666664%2C%20138.89478666666668%5D%2C%20%5B35.21671833333333%2C%20138.89492333333334%5D%2C%20%5B35.22002588422817%2C%20138.89720734425626%5D%2C%20%5B35.21658%2C%20138.89519666666666%5D%2C%20%5B35.21651%2C%20138.89533333333333%5D%2C%20%5B35.21710402992697%2C%20138.90026848962643%5D%2C%20%5B35.21637333333333%2C%20138.89560833333334%5D%2C%20%5B35.21630833333334%2C%20138.89574833333333%5D%2C%20%5B35.216245%2C%20138.895885%5D%2C%20%5B35.2151138775707%2C%20138.89936634748318%5D%2C%20%5B35.21609%2C%20138.89613666666668%5D%2C%20%5B35.215995%2C%20138.896245%5D%2C%20%5B35.21588666666666%2C%20138.89633666666666%5D%2C%20%5B35.21577%2C%20138.89641666666665%5D%2C%20%5B35.215648333333334%2C%20138.89648833333334%5D%2C%20%5B35.21552833333333%2C%20138.89655666666667%5D%2C%20%5B35.21540666666667%2C%20138.89663166666665%5D%2C%20%5B35.215291666666666%2C%20138.89671833333333%5D%2C%20%5B35.215181666666666%2C%20138.89681166666665%5D%2C%20%5B35.215075%2C%20138.89691499999998%5D%2C%20%5B35.214974999999995%2C%20138.89702333333335%5D%2C%20%5B35.21487666666667%2C%20138.89713166666667%5D%2C%20%5B35.214778333333335%2C%20138.89724333333334%5D%2C%20%5B35.21467833333334%2C%20138.89735666666667%5D%2C%20%5B35.21458%2C%20138.8974683333333%5D%2C%20%5B35.21447833333333%2C%20138.89757999999998%5D%2C%20%5B35.214376666666666%2C%20138.8976966666667%5D%2C%20%5B35.21427166666667%2C%20138.89781499999998%5D%2C%20%5B35.214166666666664%2C%20138.89793166666666%5D%2C%20%5B35.214061666666666%2C%20138.898045%5D%2C%20%5B35.213955000000006%2C%20138.898165%5D%2C%20%5B35.21384666666667%2C%20138.89828833333334%5D%2C%20%5B35.213735%2C%20138.89840999999998%5D%2C%20%5B35.213615%2C%20138.898525%5D%2C%20%5B35.213496666666664%2C%20138.89861166666665%5D%2C%20%5B35.213366666666666%2C%20138.89870333333334%5D%2C%20%5B35.21323666666667%2C%20138.89878666666667%5D%2C%20%5B35.21310833333334%2C%20138.89887%5D%2C%20%5B35.211502566148525%2C%20138.8958947666637%5D%2C%20%5B35.21285%2C%20138.89903666666666%5D%2C%20%5B35.21272333333333%2C%20138.89912%5D%2C%20%5B35.212595%2C%20138.89919999999998%5D%2C%20%5B35.21246833333333%2C%20138.89928166666667%5D%2C%20%5B35.21234333333334%2C%20138.89936166666666%5D%2C%20%5B35.212223333333334%2C%20138.89944%5D%2C%20%5B35.212106666666664%2C%20138.89951333333332%5D%2C%20%5B35.21199166666667%2C%20138.8995866666667%5D%2C%20%5B35.211879999999994%2C%20138.89965666666666%5D%2C%20%5B35.211771666666664%2C%20138.89972833333334%5D%2C%20%5B35.211665%2C%20138.89979666666667%5D%2C%20%5B35.21156166666666%2C%20138.89986666666667%5D%2C%20%5B35.211465%2C%20138.89994333333334%5D%2C%20%5B35.211376666666666%2C%20138.90003%5D%2C%20%5B35.21129666666666%2C%20138.9001266666667%5D%2C%20%5B35.211220000000004%2C%20138.90022499999998%5D%2C%20%5B35.211146666666664%2C%20138.90032166666666%5D%2C%20%5B35.21107333333334%2C%20138.90041333333332%5D%2C%20%5B35.210998333333336%2C%20138.90049666666667%5D%2C%20%5B35.21091666666667%2C%20138.90057166666665%5D%2C%20%5B35.21082833333333%2C%20138.90063833333335%5D%2C%20%5B35.210735%2C%20138.90070166666666%5D%5D%2C%0A%20%20%20%20%20%20%20%20%20%20%20%20%20%20%7B%22bubblingMouseEvents%22%3A%20true%2C%20%22color%22%3A%20%22%230000FF%22%2C%20%22dashArray%22%3A%20%5B10%2C%2020%5D%2C%20%22dashOffset%22%3A%20null%2C%20%22delay%22%3A%20400%2C%20%22fill%22%3A%20false%2C%20%22fillColor%22%3A%20%22%233388ff%22%2C%20%22fillOpacity%22%3A%200.2%2C%20%22fillRule%22%3A%20%22evenodd%22%2C%20%22hardwareAcceleration%22%3A%20false%2C%20%22lineCap%22%3A%20%22round%22%2C%20%22lineJoin%22%3A%20%22round%22%2C%20%22noClip%22%3A%20false%2C%20%22opacity%22%3A%200.5%2C%20%22paused%22%3A%20false%2C%20%22pulseColor%22%3A%20%22%23FFFFFF%22%2C%20%22reverse%22%3A%20false%2C%20%22smoothFactor%22%3A%201.0%2C%20%22stroke%22%3A%20true%2C%20%22weight%22%3A%205%7D%0A%20%20%20%20%20%20%20%20%29.addTo%28map_8e7b4875bf4d49308df7390cf389c13e%29%3B%0A%20%20%20%20%20%20%20%20%0A%3C/script%3E onload=\"this.contentDocument.open();this.contentDocument.write(    decodeURIComponent(this.getAttribute('data-html')));this.contentDocument.close();\" allowfullscreen webkitallowfullscreen mozallowfullscreen></iframe></div></div>"
      ],
      "text/plain": [
       "<folium.folium.Map at 0x2220b4980a0>"
      ]
     },
     "execution_count": 122,
     "metadata": {},
     "output_type": "execute_result"
    }
   ],
   "source": [
    "visualize_route_with_foliumMaps(data_viz)"
   ]
  },
  {
   "cell_type": "code",
   "execution_count": null,
   "id": "f4f587fb",
   "metadata": {
    "scrolled": true
   },
   "outputs": [],
   "source": [
    "\n"
   ]
  },
  {
   "cell_type": "markdown",
   "id": "417fd6ba",
   "metadata": {},
   "source": [
    "\n",
    "\n",
    "\n"
   ]
  },
  {
   "cell_type": "markdown",
   "id": "2aec5b19",
   "metadata": {},
   "source": [
    "Part 2 : Sensor synchronization\n",
    "\n",
    "Goals :  \n",
    "- Associate each Image ID to the Closest GPS Coordinates , Discard all associations where the time difference is > 0.5 second\n",
    "- Visualize the data to get a better understanding (e.g. with folium)\n",
    "\n"
   ]
  },
  {
   "cell_type": "code",
   "execution_count": 123,
   "id": "bee64b5a",
   "metadata": {},
   "outputs": [
    {
     "name": "stdout",
     "output_type": "stream",
     "text": [
      "image_id = 7.0 diff_1 is more than 0.5 s , Skip \n",
      "image_id = 21.0 diff_2 more than 0.5 s , Skip \n",
      "image_id = 23.0 diff_1 is more than 0.5 s , Skip \n",
      "image_id = 103.0 diff_1 is more than 0.5 s , Skip \n",
      "image_id = 125.0 diff_1 is more than 0.5 s , Skip \n",
      "image_id = 148.0 diff_2 more than 0.5 s , Skip \n",
      "image_id = 151.0 diff_2 more than 0.5 s , Skip \n",
      "image_id = 152.0 diff_1 is more than 0.5 s , Skip \n",
      "image_id = 154.0 diff_2 more than 0.5 s , Skip \n",
      "image_id = 155.0 diff_1 is more than 0.5 s , Skip \n"
     ]
    },
    {
     "data": {
      "text/html": [
       "<div>\n",
       "<style scoped>\n",
       "    .dataframe tbody tr th:only-of-type {\n",
       "        vertical-align: middle;\n",
       "    }\n",
       "\n",
       "    .dataframe tbody tr th {\n",
       "        vertical-align: top;\n",
       "    }\n",
       "\n",
       "    .dataframe thead th {\n",
       "        text-align: right;\n",
       "    }\n",
       "</style>\n",
       "<table border=\"1\" class=\"dataframe\">\n",
       "  <thead>\n",
       "    <tr style=\"text-align: right;\">\n",
       "      <th></th>\n",
       "      <th>timestamp_secs</th>\n",
       "      <th>image_id</th>\n",
       "      <th>latitude</th>\n",
       "      <th>longitude</th>\n",
       "      <th>Diff</th>\n",
       "    </tr>\n",
       "  </thead>\n",
       "  <tbody>\n",
       "    <tr>\n",
       "      <th>0</th>\n",
       "      <td>0.000000</td>\n",
       "      <td>NaN</td>\n",
       "      <td>35.225870</td>\n",
       "      <td>138.892307</td>\n",
       "      <td>Skip</td>\n",
       "    </tr>\n",
       "    <tr>\n",
       "      <th>1</th>\n",
       "      <td>0.055894</td>\n",
       "      <td>0.0</td>\n",
       "      <td>35.225870</td>\n",
       "      <td>138.892307</td>\n",
       "      <td>0.055894</td>\n",
       "    </tr>\n",
       "    <tr>\n",
       "      <th>2</th>\n",
       "      <td>0.997609</td>\n",
       "      <td>NaN</td>\n",
       "      <td>35.225870</td>\n",
       "      <td>138.892307</td>\n",
       "      <td>Skip</td>\n",
       "    </tr>\n",
       "    <tr>\n",
       "      <th>3</th>\n",
       "      <td>1.997444</td>\n",
       "      <td>NaN</td>\n",
       "      <td>35.225870</td>\n",
       "      <td>138.892307</td>\n",
       "      <td>Skip</td>\n",
       "    </tr>\n",
       "    <tr>\n",
       "      <th>4</th>\n",
       "      <td>2.541349</td>\n",
       "      <td>1.0</td>\n",
       "      <td>35.225870</td>\n",
       "      <td>138.892307</td>\n",
       "      <td>0.492368</td>\n",
       "    </tr>\n",
       "    <tr>\n",
       "      <th>5</th>\n",
       "      <td>3.033717</td>\n",
       "      <td>NaN</td>\n",
       "      <td>35.225870</td>\n",
       "      <td>138.892307</td>\n",
       "      <td>Skip</td>\n",
       "    </tr>\n",
       "    <tr>\n",
       "      <th>6</th>\n",
       "      <td>3.997913</td>\n",
       "      <td>NaN</td>\n",
       "      <td>35.225870</td>\n",
       "      <td>138.892307</td>\n",
       "      <td>Skip</td>\n",
       "    </tr>\n",
       "    <tr>\n",
       "      <th>7</th>\n",
       "      <td>5.004652</td>\n",
       "      <td>NaN</td>\n",
       "      <td>35.225870</td>\n",
       "      <td>138.892307</td>\n",
       "      <td>Skip</td>\n",
       "    </tr>\n",
       "    <tr>\n",
       "      <th>8</th>\n",
       "      <td>5.064852</td>\n",
       "      <td>2.0</td>\n",
       "      <td>35.225870</td>\n",
       "      <td>138.892307</td>\n",
       "      <td>0.0602</td>\n",
       "    </tr>\n",
       "    <tr>\n",
       "      <th>9</th>\n",
       "      <td>6.012345</td>\n",
       "      <td>NaN</td>\n",
       "      <td>35.225860</td>\n",
       "      <td>138.892315</td>\n",
       "      <td>Skip</td>\n",
       "    </tr>\n",
       "    <tr>\n",
       "      <th>10</th>\n",
       "      <td>7.012225</td>\n",
       "      <td>NaN</td>\n",
       "      <td>35.225860</td>\n",
       "      <td>138.892313</td>\n",
       "      <td>Skip</td>\n",
       "    </tr>\n",
       "    <tr>\n",
       "      <th>11</th>\n",
       "      <td>7.547008</td>\n",
       "      <td>3.0</td>\n",
       "      <td>35.225862</td>\n",
       "      <td>138.892313</td>\n",
       "      <td>0.492846</td>\n",
       "    </tr>\n",
       "    <tr>\n",
       "      <th>12</th>\n",
       "      <td>8.039854</td>\n",
       "      <td>NaN</td>\n",
       "      <td>35.225862</td>\n",
       "      <td>138.892313</td>\n",
       "      <td>Skip</td>\n",
       "    </tr>\n",
       "    <tr>\n",
       "      <th>13</th>\n",
       "      <td>9.003520</td>\n",
       "      <td>NaN</td>\n",
       "      <td>35.225863</td>\n",
       "      <td>138.892312</td>\n",
       "      <td>Skip</td>\n",
       "    </tr>\n",
       "    <tr>\n",
       "      <th>14</th>\n",
       "      <td>10.006931</td>\n",
       "      <td>NaN</td>\n",
       "      <td>35.225863</td>\n",
       "      <td>138.892310</td>\n",
       "      <td>Skip</td>\n",
       "    </tr>\n",
       "    <tr>\n",
       "      <th>15</th>\n",
       "      <td>10.083096</td>\n",
       "      <td>4.0</td>\n",
       "      <td>35.225863</td>\n",
       "      <td>138.892310</td>\n",
       "      <td>0.076165</td>\n",
       "    </tr>\n",
       "    <tr>\n",
       "      <th>16</th>\n",
       "      <td>11.008911</td>\n",
       "      <td>NaN</td>\n",
       "      <td>35.225865</td>\n",
       "      <td>138.892310</td>\n",
       "      <td>Skip</td>\n",
       "    </tr>\n",
       "    <tr>\n",
       "      <th>17</th>\n",
       "      <td>12.007030</td>\n",
       "      <td>NaN</td>\n",
       "      <td>35.225867</td>\n",
       "      <td>138.892308</td>\n",
       "      <td>Skip</td>\n",
       "    </tr>\n",
       "    <tr>\n",
       "      <th>18</th>\n",
       "      <td>12.554007</td>\n",
       "      <td>5.0</td>\n",
       "      <td>35.225867</td>\n",
       "      <td>138.892307</td>\n",
       "      <td>0.464564</td>\n",
       "    </tr>\n",
       "    <tr>\n",
       "      <th>19</th>\n",
       "      <td>13.018571</td>\n",
       "      <td>NaN</td>\n",
       "      <td>35.225867</td>\n",
       "      <td>138.892307</td>\n",
       "      <td>Skip</td>\n",
       "    </tr>\n",
       "    <tr>\n",
       "      <th>20</th>\n",
       "      <td>14.005012</td>\n",
       "      <td>NaN</td>\n",
       "      <td>35.225867</td>\n",
       "      <td>138.892307</td>\n",
       "      <td>Skip</td>\n",
       "    </tr>\n",
       "    <tr>\n",
       "      <th>21</th>\n",
       "      <td>15.001971</td>\n",
       "      <td>6.0</td>\n",
       "      <td>35.225867</td>\n",
       "      <td>138.892307</td>\n",
       "      <td>0.001445</td>\n",
       "    </tr>\n",
       "    <tr>\n",
       "      <th>22</th>\n",
       "      <td>15.003416</td>\n",
       "      <td>NaN</td>\n",
       "      <td>35.225867</td>\n",
       "      <td>138.892307</td>\n",
       "      <td>Skip</td>\n",
       "    </tr>\n",
       "    <tr>\n",
       "      <th>23</th>\n",
       "      <td>16.031989</td>\n",
       "      <td>NaN</td>\n",
       "      <td>35.225868</td>\n",
       "      <td>138.892307</td>\n",
       "      <td>Skip</td>\n",
       "    </tr>\n",
       "    <tr>\n",
       "      <th>24</th>\n",
       "      <td>17.005523</td>\n",
       "      <td>NaN</td>\n",
       "      <td>35.225868</td>\n",
       "      <td>138.892305</td>\n",
       "      <td>Skip</td>\n",
       "    </tr>\n",
       "    <tr>\n",
       "      <th>25</th>\n",
       "      <td>17.509800</td>\n",
       "      <td>7.0</td>\n",
       "      <td>NaN</td>\n",
       "      <td>NaN</td>\n",
       "      <td>0.502385</td>\n",
       "    </tr>\n",
       "    <tr>\n",
       "      <th>26</th>\n",
       "      <td>18.012185</td>\n",
       "      <td>NaN</td>\n",
       "      <td>35.225868</td>\n",
       "      <td>138.892305</td>\n",
       "      <td>Skip</td>\n",
       "    </tr>\n",
       "    <tr>\n",
       "      <th>27</th>\n",
       "      <td>19.052269</td>\n",
       "      <td>NaN</td>\n",
       "      <td>35.225868</td>\n",
       "      <td>138.892305</td>\n",
       "      <td>Skip</td>\n",
       "    </tr>\n",
       "    <tr>\n",
       "      <th>28</th>\n",
       "      <td>20.006707</td>\n",
       "      <td>NaN</td>\n",
       "      <td>35.225868</td>\n",
       "      <td>138.892303</td>\n",
       "      <td>Skip</td>\n",
       "    </tr>\n",
       "    <tr>\n",
       "      <th>29</th>\n",
       "      <td>20.066697</td>\n",
       "      <td>8.0</td>\n",
       "      <td>35.225868</td>\n",
       "      <td>138.892303</td>\n",
       "      <td>0.05999</td>\n",
       "    </tr>\n",
       "  </tbody>\n",
       "</table>\n",
       "</div>"
      ],
      "text/plain": [
       "    timestamp_secs  image_id   latitude   longitude      Diff\n",
       "0         0.000000       NaN  35.225870  138.892307      Skip\n",
       "1         0.055894       0.0  35.225870  138.892307  0.055894\n",
       "2         0.997609       NaN  35.225870  138.892307      Skip\n",
       "3         1.997444       NaN  35.225870  138.892307      Skip\n",
       "4         2.541349       1.0  35.225870  138.892307  0.492368\n",
       "5         3.033717       NaN  35.225870  138.892307      Skip\n",
       "6         3.997913       NaN  35.225870  138.892307      Skip\n",
       "7         5.004652       NaN  35.225870  138.892307      Skip\n",
       "8         5.064852       2.0  35.225870  138.892307    0.0602\n",
       "9         6.012345       NaN  35.225860  138.892315      Skip\n",
       "10        7.012225       NaN  35.225860  138.892313      Skip\n",
       "11        7.547008       3.0  35.225862  138.892313  0.492846\n",
       "12        8.039854       NaN  35.225862  138.892313      Skip\n",
       "13        9.003520       NaN  35.225863  138.892312      Skip\n",
       "14       10.006931       NaN  35.225863  138.892310      Skip\n",
       "15       10.083096       4.0  35.225863  138.892310  0.076165\n",
       "16       11.008911       NaN  35.225865  138.892310      Skip\n",
       "17       12.007030       NaN  35.225867  138.892308      Skip\n",
       "18       12.554007       5.0  35.225867  138.892307  0.464564\n",
       "19       13.018571       NaN  35.225867  138.892307      Skip\n",
       "20       14.005012       NaN  35.225867  138.892307      Skip\n",
       "21       15.001971       6.0  35.225867  138.892307  0.001445\n",
       "22       15.003416       NaN  35.225867  138.892307      Skip\n",
       "23       16.031989       NaN  35.225868  138.892307      Skip\n",
       "24       17.005523       NaN  35.225868  138.892305      Skip\n",
       "25       17.509800       7.0        NaN         NaN  0.502385\n",
       "26       18.012185       NaN  35.225868  138.892305      Skip\n",
       "27       19.052269       NaN  35.225868  138.892305      Skip\n",
       "28       20.006707       NaN  35.225868  138.892303      Skip\n",
       "29       20.066697       8.0  35.225868  138.892303   0.05999"
      ]
     },
     "execution_count": 123,
     "metadata": {},
     "output_type": "execute_result"
    }
   ],
   "source": [
    "# Sensor Synchronization\n",
    "#Let's Synchronize the Imgage_id with the (lat,Long) Measures \n",
    "\n",
    "\n",
    "diff = [] #Instantiate an empty list called diff to store the time diffrences for later debugging \n",
    "\n",
    "for (index, row) in data.iterrows(): #iterate over the car location corrdinates DataFrame \n",
    "     if pd.isnull(row.loc['image_id']) :  \n",
    "            diff.append('Skip') # if No image if foundif index corresponds to an empty image , just skip it \n",
    "            \n",
    "     else : # if the image_id is not empty , then proceed to calculating the diffrences  \n",
    "            diff_1 = data.loc[index+1 , 'timestamp_secs'] - row.loc['timestamp_secs']  # calculate the time Diff from the next row\n",
    "            diff_2 = row.loc['timestamp_secs'] - data.loc[index-1, 'timestamp_secs']   # calculate the time Diff from the prevous row\n",
    "            \n",
    "            \n",
    "            if diff_1  < diff_2  : # If the img is closer to the next row timewise , then check if this time diff is less than 0.5 seconds\n",
    "                if diff_1  < 0.5  :   # if diff_1 is < 0.5 seconds , then give it the next row's (lat,long) corrdinates  \n",
    "                    data.loc[ index , 'latitude'] = data.loc[index+1, 'latitude']\n",
    "                    data.loc[ index , 'longitude'] = data.loc[index+1, 'longitude']\n",
    "                else : print ( 'image_id = '+str(row.loc['image_id']) +' diff_1 is more than 0.5 s , Skip ') #otherwise skip that row\n",
    "                \n",
    "            elif diff_2 < 0.5:  # If the img is closer to the previous row timewise , then check if this time diff is less than 0.5 seconds\n",
    "                                # then give it the previous row's (lat,long) corrdinates \n",
    "                data.loc[ index , 'latitude'] = data.loc[index-1, 'latitude']\n",
    "                data.loc[ index , 'longitude'] = data.loc[index-1, 'longitude']            \n",
    "            else: print ( 'image_id = '+str(row.loc['image_id']) +' diff_2 more than 0.5 s , Skip ') #otherwise skip that row\n",
    "            \n",
    "            # apend to the diff list\n",
    "            diff.append(min(diff_2 , diff_1)) \n",
    "            # iterate over the diffs\n",
    "            diff_1=0\n",
    "            diff_2=0\n",
    "    \n",
    "# add the Diff Column to the 'data' DataFrame\n",
    "data['Diff'] = pd.DataFrame(diff)  \n",
    "# let's take a peak a the first 30 rows to make sure everything is ok\n",
    "data.head(30)\n",
    "                \n",
    "                \n",
    "    \n",
    "    "
   ]
  },
  {
   "cell_type": "code",
   "execution_count": 124,
   "id": "5b8f69a8",
   "metadata": {},
   "outputs": [],
   "source": [
    "# let's now Vizualize the newly created dataframe \n",
    "# Omit the Nissing Data ,for visualization purposes\n",
    "data_viz_sync=data.dropna(subset=['timestamp_secs'])\n",
    "data_viz_sync=data.dropna(subset=['longitude'])\n",
    "data_viz_sync=data.dropna(subset=['latitude'])\n"
   ]
  },
  {
   "cell_type": "code",
   "execution_count": 125,
   "id": "98a484c9",
   "metadata": {
    "scrolled": true
   },
   "outputs": [
    {
     "data": {
      "text/html": [
       "<div>\n",
       "<style scoped>\n",
       "    .dataframe tbody tr th:only-of-type {\n",
       "        vertical-align: middle;\n",
       "    }\n",
       "\n",
       "    .dataframe tbody tr th {\n",
       "        vertical-align: top;\n",
       "    }\n",
       "\n",
       "    .dataframe thead th {\n",
       "        text-align: right;\n",
       "    }\n",
       "</style>\n",
       "<table border=\"1\" class=\"dataframe\">\n",
       "  <thead>\n",
       "    <tr style=\"text-align: right;\">\n",
       "      <th></th>\n",
       "      <th>timestamp_secs</th>\n",
       "      <th>image_id</th>\n",
       "      <th>latitude</th>\n",
       "      <th>longitude</th>\n",
       "      <th>Diff</th>\n",
       "    </tr>\n",
       "  </thead>\n",
       "  <tbody>\n",
       "    <tr>\n",
       "      <th>0</th>\n",
       "      <td>0.000000</td>\n",
       "      <td>NaN</td>\n",
       "      <td>35.22587</td>\n",
       "      <td>138.892307</td>\n",
       "      <td>Skip</td>\n",
       "    </tr>\n",
       "    <tr>\n",
       "      <th>1</th>\n",
       "      <td>0.055894</td>\n",
       "      <td>0.0</td>\n",
       "      <td>35.22587</td>\n",
       "      <td>138.892307</td>\n",
       "      <td>0.055894</td>\n",
       "    </tr>\n",
       "    <tr>\n",
       "      <th>2</th>\n",
       "      <td>0.997609</td>\n",
       "      <td>NaN</td>\n",
       "      <td>35.22587</td>\n",
       "      <td>138.892307</td>\n",
       "      <td>Skip</td>\n",
       "    </tr>\n",
       "    <tr>\n",
       "      <th>3</th>\n",
       "      <td>1.997444</td>\n",
       "      <td>NaN</td>\n",
       "      <td>35.22587</td>\n",
       "      <td>138.892307</td>\n",
       "      <td>Skip</td>\n",
       "    </tr>\n",
       "    <tr>\n",
       "      <th>4</th>\n",
       "      <td>2.541349</td>\n",
       "      <td>1.0</td>\n",
       "      <td>35.22587</td>\n",
       "      <td>138.892307</td>\n",
       "      <td>0.492368</td>\n",
       "    </tr>\n",
       "    <tr>\n",
       "      <th>5</th>\n",
       "      <td>3.033717</td>\n",
       "      <td>NaN</td>\n",
       "      <td>35.22587</td>\n",
       "      <td>138.892307</td>\n",
       "      <td>Skip</td>\n",
       "    </tr>\n",
       "    <tr>\n",
       "      <th>6</th>\n",
       "      <td>3.997913</td>\n",
       "      <td>NaN</td>\n",
       "      <td>35.22587</td>\n",
       "      <td>138.892307</td>\n",
       "      <td>Skip</td>\n",
       "    </tr>\n",
       "    <tr>\n",
       "      <th>7</th>\n",
       "      <td>5.004652</td>\n",
       "      <td>NaN</td>\n",
       "      <td>35.22587</td>\n",
       "      <td>138.892307</td>\n",
       "      <td>Skip</td>\n",
       "    </tr>\n",
       "    <tr>\n",
       "      <th>8</th>\n",
       "      <td>5.064852</td>\n",
       "      <td>2.0</td>\n",
       "      <td>35.22587</td>\n",
       "      <td>138.892307</td>\n",
       "      <td>0.0602</td>\n",
       "    </tr>\n",
       "    <tr>\n",
       "      <th>9</th>\n",
       "      <td>6.012345</td>\n",
       "      <td>NaN</td>\n",
       "      <td>35.22586</td>\n",
       "      <td>138.892315</td>\n",
       "      <td>Skip</td>\n",
       "    </tr>\n",
       "  </tbody>\n",
       "</table>\n",
       "</div>"
      ],
      "text/plain": [
       "   timestamp_secs  image_id  latitude   longitude      Diff\n",
       "0        0.000000       NaN  35.22587  138.892307      Skip\n",
       "1        0.055894       0.0  35.22587  138.892307  0.055894\n",
       "2        0.997609       NaN  35.22587  138.892307      Skip\n",
       "3        1.997444       NaN  35.22587  138.892307      Skip\n",
       "4        2.541349       1.0  35.22587  138.892307  0.492368\n",
       "5        3.033717       NaN  35.22587  138.892307      Skip\n",
       "6        3.997913       NaN  35.22587  138.892307      Skip\n",
       "7        5.004652       NaN  35.22587  138.892307      Skip\n",
       "8        5.064852       2.0  35.22587  138.892307    0.0602\n",
       "9        6.012345       NaN  35.22586  138.892315      Skip"
      ]
     },
     "execution_count": 125,
     "metadata": {},
     "output_type": "execute_result"
    }
   ],
   "source": [
    "# check out the first 10 rows\n",
    "data_viz_sync.head(10)"
   ]
  },
  {
   "cell_type": "code",
   "execution_count": 126,
   "id": "5d22cad5",
   "metadata": {},
   "outputs": [
    {
     "name": "stdout",
     "output_type": "stream",
     "text": [
      "Type of a: <class 'list'>\n"
     ]
    },
    {
     "data": {
      "text/html": [
       "<div style=\"width:100%;\"><div style=\"position:relative;width:100%;height:0;padding-bottom:60%;\"><span style=\"color:#565656\">Make this Notebook Trusted to load map: File -> Trust Notebook</span><iframe src=\"about:blank\" style=\"position:absolute;width:100%;height:100%;left:0;top:0;border:none !important;\" data-html=%3C%21DOCTYPE%20html%3E%0A%3Chead%3E%20%20%20%20%0A%20%20%20%20%3Cmeta%20http-equiv%3D%22content-type%22%20content%3D%22text/html%3B%20charset%3DUTF-8%22%20/%3E%0A%20%20%20%20%0A%20%20%20%20%20%20%20%20%3Cscript%3E%0A%20%20%20%20%20%20%20%20%20%20%20%20L_NO_TOUCH%20%3D%20false%3B%0A%20%20%20%20%20%20%20%20%20%20%20%20L_DISABLE_3D%20%3D%20false%3B%0A%20%20%20%20%20%20%20%20%3C/script%3E%0A%20%20%20%20%0A%20%20%20%20%3Cstyle%3Ehtml%2C%20body%20%7Bwidth%3A%20100%25%3Bheight%3A%20100%25%3Bmargin%3A%200%3Bpadding%3A%200%3B%7D%3C/style%3E%0A%20%20%20%20%3Cstyle%3E%23map%20%7Bposition%3Aabsolute%3Btop%3A0%3Bbottom%3A0%3Bright%3A0%3Bleft%3A0%3B%7D%3C/style%3E%0A%20%20%20%20%3Cscript%20src%3D%22https%3A//cdn.jsdelivr.net/npm/leaflet%401.6.0/dist/leaflet.js%22%3E%3C/script%3E%0A%20%20%20%20%3Cscript%20src%3D%22https%3A//code.jquery.com/jquery-1.12.4.min.js%22%3E%3C/script%3E%0A%20%20%20%20%3Cscript%20src%3D%22https%3A//maxcdn.bootstrapcdn.com/bootstrap/3.2.0/js/bootstrap.min.js%22%3E%3C/script%3E%0A%20%20%20%20%3Cscript%20src%3D%22https%3A//cdnjs.cloudflare.com/ajax/libs/Leaflet.awesome-markers/2.0.2/leaflet.awesome-markers.js%22%3E%3C/script%3E%0A%20%20%20%20%3Clink%20rel%3D%22stylesheet%22%20href%3D%22https%3A//cdn.jsdelivr.net/npm/leaflet%401.6.0/dist/leaflet.css%22/%3E%0A%20%20%20%20%3Clink%20rel%3D%22stylesheet%22%20href%3D%22https%3A//maxcdn.bootstrapcdn.com/bootstrap/3.2.0/css/bootstrap.min.css%22/%3E%0A%20%20%20%20%3Clink%20rel%3D%22stylesheet%22%20href%3D%22https%3A//maxcdn.bootstrapcdn.com/bootstrap/3.2.0/css/bootstrap-theme.min.css%22/%3E%0A%20%20%20%20%3Clink%20rel%3D%22stylesheet%22%20href%3D%22https%3A//maxcdn.bootstrapcdn.com/font-awesome/4.6.3/css/font-awesome.min.css%22/%3E%0A%20%20%20%20%3Clink%20rel%3D%22stylesheet%22%20href%3D%22https%3A//cdnjs.cloudflare.com/ajax/libs/Leaflet.awesome-markers/2.0.2/leaflet.awesome-markers.css%22/%3E%0A%20%20%20%20%3Clink%20rel%3D%22stylesheet%22%20href%3D%22https%3A//cdn.jsdelivr.net/gh/python-visualization/folium/folium/templates/leaflet.awesome.rotate.min.css%22/%3E%0A%20%20%20%20%0A%20%20%20%20%20%20%20%20%20%20%20%20%3Cmeta%20name%3D%22viewport%22%20content%3D%22width%3Ddevice-width%2C%0A%20%20%20%20%20%20%20%20%20%20%20%20%20%20%20%20initial-scale%3D1.0%2C%20maximum-scale%3D1.0%2C%20user-scalable%3Dno%22%20/%3E%0A%20%20%20%20%20%20%20%20%20%20%20%20%3Cstyle%3E%0A%20%20%20%20%20%20%20%20%20%20%20%20%20%20%20%20%23map_cfb20c427c234e41922584696187bc7a%20%7B%0A%20%20%20%20%20%20%20%20%20%20%20%20%20%20%20%20%20%20%20%20position%3A%20relative%3B%0A%20%20%20%20%20%20%20%20%20%20%20%20%20%20%20%20%20%20%20%20width%3A%20100.0%25%3B%0A%20%20%20%20%20%20%20%20%20%20%20%20%20%20%20%20%20%20%20%20height%3A%20700.0px%3B%0A%20%20%20%20%20%20%20%20%20%20%20%20%20%20%20%20%20%20%20%20left%3A%200.0%25%3B%0A%20%20%20%20%20%20%20%20%20%20%20%20%20%20%20%20%20%20%20%20top%3A%200.0%25%3B%0A%20%20%20%20%20%20%20%20%20%20%20%20%20%20%20%20%7D%0A%20%20%20%20%20%20%20%20%20%20%20%20%3C/style%3E%0A%20%20%20%20%20%20%20%20%0A%20%20%20%20%3Cscript%20src%3D%22https%3A//cdnjs.cloudflare.com/ajax/libs/leaflet-minimap/3.6.1/Control.MiniMap.js%22%3E%3C/script%3E%0A%20%20%20%20%3Clink%20rel%3D%22stylesheet%22%20href%3D%22https%3A//cdnjs.cloudflare.com/ajax/libs/leaflet-minimap/3.6.1/Control.MiniMap.css%22/%3E%0A%20%20%20%20%3Cscript%20src%3D%22https%3A//cdn.jsdelivr.net/npm/leaflet-ant-path%401.1.2/dist/leaflet-ant-path.min.js%22%3E%3C/script%3E%0A%3C/head%3E%0A%3Cbody%3E%20%20%20%20%0A%20%20%20%20%0A%20%20%20%20%20%20%20%20%20%20%20%20%3Cdiv%20class%3D%22folium-map%22%20id%3D%22map_cfb20c427c234e41922584696187bc7a%22%20%3E%3C/div%3E%0A%20%20%20%20%20%20%20%20%0A%3C/body%3E%0A%3Cscript%3E%20%20%20%20%0A%20%20%20%20%0A%20%20%20%20%20%20%20%20%20%20%20%20var%20map_cfb20c427c234e41922584696187bc7a%20%3D%20L.map%28%0A%20%20%20%20%20%20%20%20%20%20%20%20%20%20%20%20%22map_cfb20c427c234e41922584696187bc7a%22%2C%0A%20%20%20%20%20%20%20%20%20%20%20%20%20%20%20%20%7B%0A%20%20%20%20%20%20%20%20%20%20%20%20%20%20%20%20%20%20%20%20center%3A%20%5B35.225867%2C%20138.892303%5D%2C%0A%20%20%20%20%20%20%20%20%20%20%20%20%20%20%20%20%20%20%20%20crs%3A%20L.CRS.EPSG3857%2C%0A%20%20%20%20%20%20%20%20%20%20%20%20%20%20%20%20%20%20%20%20zoom%3A%2012%2C%0A%20%20%20%20%20%20%20%20%20%20%20%20%20%20%20%20%20%20%20%20zoomControl%3A%20true%2C%0A%20%20%20%20%20%20%20%20%20%20%20%20%20%20%20%20%20%20%20%20preferCanvas%3A%20false%2C%0A%20%20%20%20%20%20%20%20%20%20%20%20%20%20%20%20%7D%0A%20%20%20%20%20%20%20%20%20%20%20%20%29%3B%0A%0A%20%20%20%20%20%20%20%20%20%20%20%20%0A%0A%20%20%20%20%20%20%20%20%0A%20%20%20%20%0A%20%20%20%20%20%20%20%20%20%20%20%20var%20tile_layer_3b39023cf2ae46959195a08f92c52064%20%3D%20L.tileLayer%28%0A%20%20%20%20%20%20%20%20%20%20%20%20%20%20%20%20%22https%3A//%7Bs%7D.tile.openstreetmap.org/%7Bz%7D/%7Bx%7D/%7By%7D.png%22%2C%0A%20%20%20%20%20%20%20%20%20%20%20%20%20%20%20%20%7B%22attribution%22%3A%20%22Data%20by%20%5Cu0026copy%3B%20%5Cu003ca%20href%3D%5C%22http%3A//openstreetmap.org%5C%22%5Cu003eOpenStreetMap%5Cu003c/a%5Cu003e%2C%20under%20%5Cu003ca%20href%3D%5C%22http%3A//www.openstreetmap.org/copyright%5C%22%5Cu003eODbL%5Cu003c/a%5Cu003e.%22%2C%20%22detectRetina%22%3A%20false%2C%20%22maxNativeZoom%22%3A%2018%2C%20%22maxZoom%22%3A%2018%2C%20%22minZoom%22%3A%200%2C%20%22noWrap%22%3A%20false%2C%20%22opacity%22%3A%201%2C%20%22subdomains%22%3A%20%22abc%22%2C%20%22tms%22%3A%20false%7D%0A%20%20%20%20%20%20%20%20%20%20%20%20%29.addTo%28map_cfb20c427c234e41922584696187bc7a%29%3B%0A%20%20%20%20%20%20%20%20%0A%20%20%20%20%0A%20%20%20%20%20%20%20%20%20%20%20%20var%20tile_layer_12dc21253fc7460d96d2668e93159d83%20%3D%20L.tileLayer%28%0A%20%20%20%20%20%20%20%20%20%20%20%20%20%20%20%20%22https%3A//%7Bs%7D.tile.openstreetmap.org/%7Bz%7D/%7Bx%7D/%7By%7D.png%22%2C%0A%20%20%20%20%20%20%20%20%20%20%20%20%20%20%20%20%7B%22attribution%22%3A%20%22Data%20by%20%5Cu0026copy%3B%20%5Cu003ca%20href%3D%5C%22http%3A//openstreetmap.org%5C%22%5Cu003eOpenStreetMap%5Cu003c/a%5Cu003e%2C%20under%20%5Cu003ca%20href%3D%5C%22http%3A//www.openstreetmap.org/copyright%5C%22%5Cu003eODbL%5Cu003c/a%5Cu003e.%22%2C%20%22detectRetina%22%3A%20false%2C%20%22maxNativeZoom%22%3A%2018%2C%20%22maxZoom%22%3A%2018%2C%20%22minZoom%22%3A%200%2C%20%22noWrap%22%3A%20false%2C%20%22opacity%22%3A%201%2C%20%22subdomains%22%3A%20%22abc%22%2C%20%22tms%22%3A%20false%7D%0A%20%20%20%20%20%20%20%20%20%20%20%20%29.addTo%28map_cfb20c427c234e41922584696187bc7a%29%3B%0A%20%20%20%20%20%20%20%20%0A%20%20%20%20%0A%20%20%20%20%20%20%20%20%20%20%20%20var%20tile_layer_4352fde6c711465cac73adf475a3c8fa%20%3D%20L.tileLayer%28%0A%20%20%20%20%20%20%20%20%20%20%20%20%20%20%20%20%22https%3A//stamen-tiles-%7Bs%7D.a.ssl.fastly.net/terrain/%7Bz%7D/%7Bx%7D/%7By%7D.jpg%22%2C%0A%20%20%20%20%20%20%20%20%20%20%20%20%20%20%20%20%7B%22attribution%22%3A%20%22Map%20tiles%20by%20%5Cu003ca%20href%3D%5C%22http%3A//stamen.com%5C%22%5Cu003eStamen%20Design%5Cu003c/a%5Cu003e%2C%20under%20%5Cu003ca%20href%3D%5C%22http%3A//creativecommons.org/licenses/by/3.0%5C%22%5Cu003eCC%20BY%203.0%5Cu003c/a%5Cu003e.%20Data%20by%20%5Cu0026copy%3B%20%5Cu003ca%20href%3D%5C%22http%3A//openstreetmap.org%5C%22%5Cu003eOpenStreetMap%5Cu003c/a%5Cu003e%2C%20under%20%5Cu003ca%20href%3D%5C%22http%3A//creativecommons.org/licenses/by-sa/3.0%5C%22%5Cu003eCC%20BY%20SA%5Cu003c/a%5Cu003e.%22%2C%20%22detectRetina%22%3A%20false%2C%20%22maxNativeZoom%22%3A%2018%2C%20%22maxZoom%22%3A%2018%2C%20%22minZoom%22%3A%200%2C%20%22noWrap%22%3A%20false%2C%20%22opacity%22%3A%201%2C%20%22subdomains%22%3A%20%22abc%22%2C%20%22tms%22%3A%20false%7D%0A%20%20%20%20%20%20%20%20%20%20%20%20%29.addTo%28map_cfb20c427c234e41922584696187bc7a%29%3B%0A%20%20%20%20%20%20%20%20%0A%20%20%20%20%0A%20%20%20%20%20%20%20%20%20%20%20%20var%20tile_layer_c8f7d771e12549dd8374a6e344b9b58f%20%3D%20L.tileLayer%28%0A%20%20%20%20%20%20%20%20%20%20%20%20%20%20%20%20%22https%3A//stamen-tiles-%7Bs%7D.a.ssl.fastly.net/toner/%7Bz%7D/%7Bx%7D/%7By%7D.png%22%2C%0A%20%20%20%20%20%20%20%20%20%20%20%20%20%20%20%20%7B%22attribution%22%3A%20%22Map%20tiles%20by%20%5Cu003ca%20href%3D%5C%22http%3A//stamen.com%5C%22%5Cu003eStamen%20Design%5Cu003c/a%5Cu003e%2C%20under%20%5Cu003ca%20href%3D%5C%22http%3A//creativecommons.org/licenses/by/3.0%5C%22%5Cu003eCC%20BY%203.0%5Cu003c/a%5Cu003e.%20Data%20by%20%5Cu0026copy%3B%20%5Cu003ca%20href%3D%5C%22http%3A//openstreetmap.org%5C%22%5Cu003eOpenStreetMap%5Cu003c/a%5Cu003e%2C%20under%20%5Cu003ca%20href%3D%5C%22http%3A//www.openstreetmap.org/copyright%5C%22%5Cu003eODbL%5Cu003c/a%5Cu003e.%22%2C%20%22detectRetina%22%3A%20false%2C%20%22maxNativeZoom%22%3A%2018%2C%20%22maxZoom%22%3A%2018%2C%20%22minZoom%22%3A%200%2C%20%22noWrap%22%3A%20false%2C%20%22opacity%22%3A%201%2C%20%22subdomains%22%3A%20%22abc%22%2C%20%22tms%22%3A%20false%7D%0A%20%20%20%20%20%20%20%20%20%20%20%20%29.addTo%28map_cfb20c427c234e41922584696187bc7a%29%3B%0A%20%20%20%20%20%20%20%20%0A%20%20%20%20%0A%20%20%20%20%20%20%20%20%20%20%20%20var%20tile_layer_f29b0360d82e4f54b55fbb8662c1bd4e%20%3D%20L.tileLayer%28%0A%20%20%20%20%20%20%20%20%20%20%20%20%20%20%20%20%22https%3A//stamen-tiles-%7Bs%7D.a.ssl.fastly.net/watercolor/%7Bz%7D/%7Bx%7D/%7By%7D.jpg%22%2C%0A%20%20%20%20%20%20%20%20%20%20%20%20%20%20%20%20%7B%22attribution%22%3A%20%22Map%20tiles%20by%20%5Cu003ca%20href%3D%5C%22http%3A//stamen.com%5C%22%5Cu003eStamen%20Design%5Cu003c/a%5Cu003e%2C%20under%20%5Cu003ca%20href%3D%5C%22http%3A//creativecommons.org/licenses/by/3.0%5C%22%5Cu003eCC%20BY%203.0%5Cu003c/a%5Cu003e.%20Data%20by%20%5Cu0026copy%3B%20%5Cu003ca%20href%3D%5C%22http%3A//openstreetmap.org%5C%22%5Cu003eOpenStreetMap%5Cu003c/a%5Cu003e%2C%20under%20%5Cu003ca%20href%3D%5C%22http%3A//creativecommons.org/licenses/by-sa/3.0%5C%22%5Cu003eCC%20BY%20SA%5Cu003c/a%5Cu003e.%22%2C%20%22detectRetina%22%3A%20false%2C%20%22maxNativeZoom%22%3A%2018%2C%20%22maxZoom%22%3A%2018%2C%20%22minZoom%22%3A%200%2C%20%22noWrap%22%3A%20false%2C%20%22opacity%22%3A%201%2C%20%22subdomains%22%3A%20%22abc%22%2C%20%22tms%22%3A%20false%7D%0A%20%20%20%20%20%20%20%20%20%20%20%20%29.addTo%28map_cfb20c427c234e41922584696187bc7a%29%3B%0A%20%20%20%20%20%20%20%20%0A%20%20%20%20%0A%20%20%20%20%20%20%20%20%20%20%20%20var%20tile_layer_0186fd904cdf453691ef489e157bcd22%20%3D%20L.tileLayer%28%0A%20%20%20%20%20%20%20%20%20%20%20%20%20%20%20%20%22https%3A//cartodb-basemaps-%7Bs%7D.global.ssl.fastly.net/light_all/%7Bz%7D/%7Bx%7D/%7By%7D.png%22%2C%0A%20%20%20%20%20%20%20%20%20%20%20%20%20%20%20%20%7B%22attribution%22%3A%20%22%5Cu0026copy%3B%20%5Cu003ca%20href%3D%5C%22http%3A//www.openstreetmap.org/copyright%5C%22%5Cu003eOpenStreetMap%5Cu003c/a%5Cu003e%20contributors%20%5Cu0026copy%3B%20%5Cu003ca%20href%3D%5C%22http%3A//cartodb.com/attributions%5C%22%5Cu003eCartoDB%5Cu003c/a%5Cu003e%2C%20CartoDB%20%5Cu003ca%20href%20%3D%5C%22http%3A//cartodb.com/attributions%5C%22%5Cu003eattributions%5Cu003c/a%5Cu003e%22%2C%20%22detectRetina%22%3A%20false%2C%20%22maxNativeZoom%22%3A%2018%2C%20%22maxZoom%22%3A%2018%2C%20%22minZoom%22%3A%200%2C%20%22noWrap%22%3A%20false%2C%20%22opacity%22%3A%201%2C%20%22subdomains%22%3A%20%22abc%22%2C%20%22tms%22%3A%20false%7D%0A%20%20%20%20%20%20%20%20%20%20%20%20%29.addTo%28map_cfb20c427c234e41922584696187bc7a%29%3B%0A%20%20%20%20%20%20%20%20%0A%20%20%20%20%0A%20%20%20%20%20%20%20%20%20%20%20%20var%20tile_layer_1a2a9cba83d0423cbfd95effda5d2433%20%3D%20L.tileLayer%28%0A%20%20%20%20%20%20%20%20%20%20%20%20%20%20%20%20%22https%3A//cartodb-basemaps-%7Bs%7D.global.ssl.fastly.net/dark_all/%7Bz%7D/%7Bx%7D/%7By%7D.png%22%2C%0A%20%20%20%20%20%20%20%20%20%20%20%20%20%20%20%20%7B%22attribution%22%3A%20%22%5Cu0026copy%3B%20%5Cu003ca%20href%3D%5C%22http%3A//www.openstreetmap.org/copyright%5C%22%5Cu003eOpenStreetMap%5Cu003c/a%5Cu003e%20contributors%20%5Cu0026copy%3B%20%5Cu003ca%20href%3D%5C%22http%3A//cartodb.com/attributions%5C%22%5Cu003eCartoDB%5Cu003c/a%5Cu003e%2C%20CartoDB%20%5Cu003ca%20href%20%3D%5C%22http%3A//cartodb.com/attributions%5C%22%5Cu003eattributions%5Cu003c/a%5Cu003e%22%2C%20%22detectRetina%22%3A%20false%2C%20%22maxNativeZoom%22%3A%2018%2C%20%22maxZoom%22%3A%2018%2C%20%22minZoom%22%3A%200%2C%20%22noWrap%22%3A%20false%2C%20%22opacity%22%3A%201%2C%20%22subdomains%22%3A%20%22abc%22%2C%20%22tms%22%3A%20false%7D%0A%20%20%20%20%20%20%20%20%20%20%20%20%29.addTo%28map_cfb20c427c234e41922584696187bc7a%29%3B%0A%20%20%20%20%20%20%20%20%0A%20%20%20%20%0A%20%20%20%20%20%20%20%20%20%20%20%20var%20tile_layer_5541d292b972415cba7e80e4901ef022%20%3D%20L.tileLayer%28%0A%20%20%20%20%20%20%20%20%20%20%20%20%20%20%20%20%22https%3A//%7Bs%7D.tile.openstreetmap.org/%7Bz%7D/%7Bx%7D/%7By%7D.png%22%2C%0A%20%20%20%20%20%20%20%20%20%20%20%20%20%20%20%20%7B%22attribution%22%3A%20%22Data%20by%20%5Cu0026copy%3B%20%5Cu003ca%20href%3D%5C%22http%3A//openstreetmap.org%5C%22%5Cu003eOpenStreetMap%5Cu003c/a%5Cu003e%2C%20under%20%5Cu003ca%20href%3D%5C%22http%3A//www.openstreetmap.org/copyright%5C%22%5Cu003eODbL%5Cu003c/a%5Cu003e.%22%2C%20%22detectRetina%22%3A%20false%2C%20%22maxNativeZoom%22%3A%2018%2C%20%22maxZoom%22%3A%2018%2C%20%22minZoom%22%3A%200%2C%20%22noWrap%22%3A%20false%2C%20%22opacity%22%3A%201%2C%20%22subdomains%22%3A%20%22abc%22%2C%20%22tms%22%3A%20false%7D%0A%20%20%20%20%20%20%20%20%20%20%20%20%29%3B%0A%20%20%20%20%20%20%20%20%20%20%20%20var%20mini_map_d15a7631ba854b61811d90423f5802db%20%3D%20new%20L.Control.MiniMap%28%0A%20%20%20%20%20%20%20%20%20%20%20%20%20%20%20%20tile_layer_5541d292b972415cba7e80e4901ef022%2C%0A%20%20%20%20%20%20%20%20%20%20%20%20%20%20%20%20%7B%22autoToggleDisplay%22%3A%20false%2C%20%22centerFixed%22%3A%20false%2C%20%22collapsedHeight%22%3A%2025%2C%20%22collapsedWidth%22%3A%2025%2C%20%22height%22%3A%20150%2C%20%22minimized%22%3A%20false%2C%20%22position%22%3A%20%22bottomright%22%2C%20%22toggleDisplay%22%3A%20true%2C%20%22width%22%3A%20150%2C%20%22zoomAnimation%22%3A%20false%2C%20%22zoomLevelOffset%22%3A%20-5%7D%0A%20%20%20%20%20%20%20%20%20%20%20%20%29%3B%0A%20%20%20%20%20%20%20%20%20%20%20%20map_cfb20c427c234e41922584696187bc7a.addControl%28mini_map_d15a7631ba854b61811d90423f5802db%29%3B%0A%20%20%20%20%20%20%20%20%0A%20%20%20%20%0A%20%20%20%20%20%20%20%20%20%20%20%20var%20layer_control_84cc5698e82f4abd90d1852319ce4f52%20%3D%20%7B%0A%20%20%20%20%20%20%20%20%20%20%20%20%20%20%20%20base_layers%20%3A%20%7B%0A%20%20%20%20%20%20%20%20%20%20%20%20%20%20%20%20%20%20%20%20%22openstreetmap%22%20%3A%20tile_layer_12dc21253fc7460d96d2668e93159d83%2C%0A%20%20%20%20%20%20%20%20%20%20%20%20%20%20%20%20%20%20%20%20%22stamenterrain%22%20%3A%20tile_layer_4352fde6c711465cac73adf475a3c8fa%2C%0A%20%20%20%20%20%20%20%20%20%20%20%20%20%20%20%20%20%20%20%20%22stamentoner%22%20%3A%20tile_layer_c8f7d771e12549dd8374a6e344b9b58f%2C%0A%20%20%20%20%20%20%20%20%20%20%20%20%20%20%20%20%20%20%20%20%22stamenwatercolor%22%20%3A%20tile_layer_f29b0360d82e4f54b55fbb8662c1bd4e%2C%0A%20%20%20%20%20%20%20%20%20%20%20%20%20%20%20%20%20%20%20%20%22cartodbpositron%22%20%3A%20tile_layer_0186fd904cdf453691ef489e157bcd22%2C%0A%20%20%20%20%20%20%20%20%20%20%20%20%20%20%20%20%20%20%20%20%22cartodbdark_matter%22%20%3A%20tile_layer_1a2a9cba83d0423cbfd95effda5d2433%2C%0A%20%20%20%20%20%20%20%20%20%20%20%20%20%20%20%20%7D%2C%0A%20%20%20%20%20%20%20%20%20%20%20%20%20%20%20%20overlays%20%3A%20%20%7B%0A%20%20%20%20%20%20%20%20%20%20%20%20%20%20%20%20%7D%2C%0A%20%20%20%20%20%20%20%20%20%20%20%20%7D%3B%0A%20%20%20%20%20%20%20%20%20%20%20%20L.control.layers%28%0A%20%20%20%20%20%20%20%20%20%20%20%20%20%20%20%20layer_control_84cc5698e82f4abd90d1852319ce4f52.base_layers%2C%0A%20%20%20%20%20%20%20%20%20%20%20%20%20%20%20%20layer_control_84cc5698e82f4abd90d1852319ce4f52.overlays%2C%0A%20%20%20%20%20%20%20%20%20%20%20%20%20%20%20%20%7B%22autoZIndex%22%3A%20true%2C%20%22collapsed%22%3A%20true%2C%20%22position%22%3A%20%22topright%22%7D%0A%20%20%20%20%20%20%20%20%20%20%20%20%29.addTo%28map_cfb20c427c234e41922584696187bc7a%29%3B%0A%20%20%20%20%20%20%20%20%20%20%20%20tile_layer_4352fde6c711465cac73adf475a3c8fa.remove%28%29%3B%0A%20%20%20%20%20%20%20%20%20%20%20%20tile_layer_c8f7d771e12549dd8374a6e344b9b58f.remove%28%29%3B%0A%20%20%20%20%20%20%20%20%20%20%20%20tile_layer_f29b0360d82e4f54b55fbb8662c1bd4e.remove%28%29%3B%0A%20%20%20%20%20%20%20%20%20%20%20%20tile_layer_0186fd904cdf453691ef489e157bcd22.remove%28%29%3B%0A%20%20%20%20%20%20%20%20%20%20%20%20tile_layer_1a2a9cba83d0423cbfd95effda5d2433.remove%28%29%3B%0A%20%20%20%20%20%20%20%20%0A%20%20%20%20%0A%20%20%20%20%20%20%20%20%20%20%20%20var%20marker_3db7dab0e2f24e27aa29d13aecabc026%20%3D%20L.marker%28%0A%20%20%20%20%20%20%20%20%20%20%20%20%20%20%20%20%5B35.22587%2C%20138.892307%5D%2C%0A%20%20%20%20%20%20%20%20%20%20%20%20%20%20%20%20%7B%7D%0A%20%20%20%20%20%20%20%20%20%20%20%20%29.addTo%28map_cfb20c427c234e41922584696187bc7a%29%3B%0A%20%20%20%20%20%20%20%20%0A%20%20%20%20%0A%20%20%20%20%20%20%20%20%20%20%20%20marker_3db7dab0e2f24e27aa29d13aecabc026.bindTooltip%28%0A%20%20%20%20%20%20%20%20%20%20%20%20%20%20%20%20%60%3Cdiv%3E%0A%20%20%20%20%20%20%20%20%20%20%20%20%20%20%20%20%20%20%20%20%20click%0A%20%20%20%20%20%20%20%20%20%20%20%20%20%20%20%20%20%3C/div%3E%60%2C%0A%20%20%20%20%20%20%20%20%20%20%20%20%20%20%20%20%7B%22sticky%22%3A%20true%7D%0A%20%20%20%20%20%20%20%20%20%20%20%20%29%3B%0A%20%20%20%20%20%20%20%20%0A%20%20%20%20%0A%20%20%20%20%20%20%20%20%20%20%20%20var%20marker_f77d995458d64639befbf9227fcb6a08%20%3D%20L.marker%28%0A%20%20%20%20%20%20%20%20%20%20%20%20%20%20%20%20%5B35.210735%2C%20138.900702%5D%2C%0A%20%20%20%20%20%20%20%20%20%20%20%20%20%20%20%20%7B%7D%0A%20%20%20%20%20%20%20%20%20%20%20%20%29.addTo%28map_cfb20c427c234e41922584696187bc7a%29%3B%0A%20%20%20%20%20%20%20%20%0A%20%20%20%20%0A%20%20%20%20%20%20%20%20%20%20%20%20marker_f77d995458d64639befbf9227fcb6a08.bindTooltip%28%0A%20%20%20%20%20%20%20%20%20%20%20%20%20%20%20%20%60%3Cdiv%3E%0A%20%20%20%20%20%20%20%20%20%20%20%20%20%20%20%20%20%20%20%20%20click%0A%20%20%20%20%20%20%20%20%20%20%20%20%20%20%20%20%20%3C/div%3E%60%2C%0A%20%20%20%20%20%20%20%20%20%20%20%20%20%20%20%20%7B%22sticky%22%3A%20true%7D%0A%20%20%20%20%20%20%20%20%20%20%20%20%29%3B%0A%20%20%20%20%20%20%20%20%0A%20%20%20%20%0A%20%20%20%20%20%20%20%20%20%20%20%20ant_path_57043522cbe840f8a0821dd91794b66d%20%3D%20L.polyline.antPath%28%0A%20%20%20%20%20%20%20%20%20%20%20%20%20%20%5B%5B35.22587%2C%20138.89230666666666%5D%2C%20%5B35.22587%2C%20138.89230666666666%5D%2C%20%5B35.22587%2C%20138.89230666666666%5D%2C%20%5B35.22587%2C%20138.89230666666666%5D%2C%20%5B35.22587%2C%20138.89230666666666%5D%2C%20%5B35.22587%2C%20138.89230666666666%5D%2C%20%5B35.22587%2C%20138.89230666666666%5D%2C%20%5B35.22587%2C%20138.89230666666666%5D%2C%20%5B35.22587%2C%20138.89230666666666%5D%2C%20%5B35.22586%2C%20138.892315%5D%2C%20%5B35.22586%2C%20138.89231333333333%5D%2C%20%5B35.22586166666667%2C%20138.89231333333333%5D%2C%20%5B35.22586166666667%2C%20138.89231333333333%5D%2C%20%5B35.225863333333336%2C%20138.89231166666664%5D%2C%20%5B35.225863333333336%2C%20138.89231%5D%2C%20%5B35.225863333333336%2C%20138.89231%5D%2C%20%5B35.225865%2C%20138.89231%5D%2C%20%5B35.22586666666667%2C%20138.89230833333335%5D%2C%20%5B35.22586666666667%2C%20138.89230666666666%5D%2C%20%5B35.22586666666667%2C%20138.89230666666666%5D%2C%20%5B35.22586666666667%2C%20138.89230666666666%5D%2C%20%5B35.22586666666667%2C%20138.89230666666666%5D%2C%20%5B35.22586666666667%2C%20138.89230666666666%5D%2C%20%5B35.22586833333333%2C%20138.89230666666666%5D%2C%20%5B35.22586833333333%2C%20138.892305%5D%2C%20%5B35.22586833333333%2C%20138.892305%5D%2C%20%5B35.22586833333333%2C%20138.892305%5D%2C%20%5B35.22586833333333%2C%20138.89230333333336%5D%2C%20%5B35.22586833333333%2C%20138.89230333333336%5D%2C%20%5B35.22586833333333%2C%20138.89230333333336%5D%2C%20%5B35.22586833333333%2C%20138.89230333333336%5D%2C%20%5B35.22586666666667%2C%20138.89230333333336%5D%2C%20%5B35.22586666666667%2C%20138.89230333333336%5D%2C%20%5B35.22586666666667%2C%20138.89230333333336%5D%2C%20%5B35.22586666666667%2C%20138.89230333333336%5D%2C%20%5B35.22586666666667%2C%20138.89230333333336%5D%2C%20%5B35.22586666666667%2C%20138.89230333333336%5D%2C%20%5B35.22586666666667%2C%20138.89230166666667%5D%2C%20%5B35.22586666666667%2C%20138.89230166666667%5D%2C%20%5B35.22586666666667%2C%20138.89230166666667%5D%2C%20%5B35.225865%2C%20138.89230166666667%5D%2C%20%5B35.225865%2C%20138.89230166666667%5D%2C%20%5B35.225865%2C%20138.89230166666667%5D%2C%20%5B35.22819547353815%2C%20138.89009881615925%5D%2C%20%5B35.225863333333336%2C%20138.8923%5D%2C%20%5B35.225863333333336%2C%20138.8923%5D%2C%20%5B35.225863333333336%2C%20138.8923%5D%2C%20%5B35.225863333333336%2C%20138.8923%5D%2C%20%5B35.22586166666667%2C%20138.8923%5D%2C%20%5B35.22586166666667%2C%20138.8923%5D%2C%20%5B35.22586%2C%20138.8923%5D%2C%20%5B35.22586%2C%20138.8923%5D%2C%20%5B35.22586%2C%20138.8923%5D%2C%20%5B35.22586%2C%20138.8923%5D%2C%20%5B35.225858333333335%2C%20138.89229833333331%5D%2C%20%5B35.225858333333335%2C%20138.89229833333331%5D%2C%20%5B35.225858333333335%2C%20138.89229833333331%5D%2C%20%5B35.225856666666665%2C%20138.89229833333331%5D%2C%20%5B35.225856666666665%2C%20138.89229833333331%5D%2C%20%5B35.225856666666665%2C%20138.89229833333331%5D%2C%20%5B35.225856666666665%2C%20138.89229833333331%5D%2C%20%5B35.225856666666665%2C%20138.89229833333331%5D%2C%20%5B35.225855%2C%20138.89229833333331%5D%2C%20%5B35.225855%2C%20138.89229833333331%5D%2C%20%5B35.225855%2C%20138.89229833333331%5D%2C%20%5B35.225855%2C%20138.89229833333331%5D%2C%20%5B35.225855%2C%20138.89229833333331%5D%2C%20%5B35.225855%2C%20138.89229833333331%5D%2C%20%5B35.225855%2C%20138.89229833333331%5D%2C%20%5B35.225855%2C%20138.89229833333331%5D%2C%20%5B35.225855%2C%20138.89229833333331%5D%2C%20%5B35.225855%2C%20138.89229833333331%5D%2C%20%5B35.22555542157567%2C%20138.89002328703867%5D%2C%20%5B35.225855%2C%20138.89229666666668%5D%2C%20%5B35.225855%2C%20138.89229666666668%5D%2C%20%5B35.225855%2C%20138.89229666666668%5D%2C%20%5B35.225855%2C%20138.89229666666668%5D%2C%20%5B35.225855%2C%20138.89229666666668%5D%2C%20%5B35.22585333333333%2C%20138.89229666666668%5D%2C%20%5B35.22585333333333%2C%20138.89229666666668%5D%2C%20%5B35.22585166666667%2C%20138.89229666666668%5D%2C%20%5B35.22585166666667%2C%20138.89229666666668%5D%2C%20%5B35.22585166666667%2C%20138.89229666666668%5D%2C%20%5B35.22585166666667%2C%20138.89229666666668%5D%2C%20%5B35.22585166666667%2C%20138.89229666666668%5D%2C%20%5B35.22585166666667%2C%20138.89229666666668%5D%2C%20%5B35.22585166666667%2C%20138.89229666666668%5D%2C%20%5B35.22585166666667%2C%20138.89229666666668%5D%2C%20%5B35.22585166666667%2C%20138.89229666666668%5D%2C%20%5B35.22585166666667%2C%20138.89229666666668%5D%2C%20%5B35.22585166666667%2C%20138.89229666666668%5D%2C%20%5B35.22133074935241%2C%20138.89432022127323%5D%2C%20%5B35.22585166666667%2C%20138.89229500000002%5D%2C%20%5B35.22585166666667%2C%20138.89229500000002%5D%2C%20%5B35.22585166666667%2C%20138.89229500000002%5D%2C%20%5B35.22585166666667%2C%20138.89229500000002%5D%2C%20%5B35.22585166666667%2C%20138.89229500000002%5D%2C%20%5B35.22585166666667%2C%20138.89229500000002%5D%2C%20%5B35.22585166666667%2C%20138.89229333333333%5D%2C%20%5B35.22585166666667%2C%20138.89229333333333%5D%2C%20%5B35.22585166666667%2C%20138.89229333333333%5D%2C%20%5B35.22585166666667%2C%20138.89229333333333%5D%2C%20%5B35.22585166666667%2C%20138.89229333333333%5D%2C%20%5B35.22585166666667%2C%20138.89229333333333%5D%2C%20%5B35.22585166666667%2C%20138.89229333333333%5D%2C%20%5B35.22585166666667%2C%20138.89229333333333%5D%2C%20%5B35.22585166666667%2C%20138.89229333333333%5D%2C%20%5B35.22585166666667%2C%20138.89229333333333%5D%2C%20%5B35.22585166666667%2C%20138.89229500000002%5D%2C%20%5B35.22585166666667%2C%20138.89229500000002%5D%2C%20%5B35.22585166666667%2C%20138.89229500000002%5D%2C%20%5B35.22585166666667%2C%20138.89229500000002%5D%2C%20%5B35.22585166666667%2C%20138.89229500000002%5D%2C%20%5B35.22585166666667%2C%20138.89229500000002%5D%2C%20%5B35.22585166666667%2C%20138.89229500000002%5D%2C%20%5B35.22585166666667%2C%20138.89229666666668%5D%2C%20%5B35.22585166666667%2C%20138.89229666666668%5D%2C%20%5B35.22585166666667%2C%20138.89229666666668%5D%2C%20%5B35.22585166666667%2C%20138.89229666666668%5D%2C%20%5B35.22585166666667%2C%20138.89229666666668%5D%2C%20%5B35.22585166666667%2C%20138.89229666666668%5D%2C%20%5B35.22585166666667%2C%20138.89229666666668%5D%2C%20%5B35.22585166666667%2C%20138.89229666666668%5D%2C%20%5B35.22585%2C%20138.89229666666668%5D%2C%20%5B35.22585%2C%20138.89229666666668%5D%2C%20%5B35.22585%2C%20138.89229666666668%5D%2C%20%5B35.22585%2C%20138.89229666666668%5D%2C%20%5B35.22585%2C%20138.89229666666668%5D%2C%20%5B35.22585%2C%20138.89229666666668%5D%2C%20%5B35.22585%2C%20138.89229666666668%5D%2C%20%5B35.22585%2C%20138.89229666666668%5D%2C%20%5B35.22585%2C%20138.89229666666668%5D%2C%20%5B35.22584833333334%2C%20138.89229666666668%5D%2C%20%5B35.22584833333334%2C%20138.89229666666668%5D%2C%20%5B35.22584833333334%2C%20138.89229666666668%5D%2C%20%5B35.22584833333334%2C%20138.89229666666668%5D%2C%20%5B35.22584833333334%2C%20138.89229666666668%5D%2C%20%5B35.22584833333334%2C%20138.89229666666668%5D%2C%20%5B35.22584833333334%2C%20138.89229666666668%5D%2C%20%5B35.22584833333334%2C%20138.89229666666668%5D%2C%20%5B35.22584666666667%2C%20138.89229666666668%5D%2C%20%5B35.22584666666667%2C%20138.89229500000002%5D%2C%20%5B35.22584666666667%2C%20138.89229500000002%5D%2C%20%5B35.22584666666667%2C%20138.89229500000002%5D%2C%20%5B35.22584666666667%2C%20138.89229500000002%5D%2C%20%5B35.22584666666667%2C%20138.89229500000002%5D%2C%20%5B35.225845%2C%20138.89229500000002%5D%2C%20%5B35.225845%2C%20138.89229500000002%5D%2C%20%5B35.225845%2C%20138.89229500000002%5D%2C%20%5B35.225845%2C%20138.89229500000002%5D%2C%20%5B35.225845%2C%20138.89229500000002%5D%2C%20%5B35.225845%2C%20138.89229333333333%5D%2C%20%5B35.225845%2C%20138.89229333333333%5D%2C%20%5B35.225845%2C%20138.89229333333333%5D%2C%20%5B35.22258044015536%2C%20138.88969823083048%5D%2C%20%5B35.22584833333334%2C%20138.89228666666668%5D%2C%20%5B35.22584833333334%2C%20138.89228666666668%5D%2C%20%5B35.22585166666667%2C%20138.89227666666665%5D%2C%20%5B35.22586%2C%20138.89226666666667%5D%2C%20%5B35.22586%2C%20138.89226666666667%5D%2C%20%5B35.225876666666665%2C%20138.89225666666667%5D%2C%20%5B35.22589333333334%2C%20138.892255%5D%2C%20%5B35.22591%2C%20138.89225333333334%5D%2C%20%5B35.22591%2C%20138.89225333333334%5D%2C%20%5B35.225925%2C%20138.89225666666667%5D%2C%20%5B35.22593333333334%2C%20138.89226666666667%5D%2C%20%5B35.22593333333334%2C%20138.89226666666667%5D%2C%20%5B35.22593833333334%2C%20138.89226833333333%5D%2C%20%5B35.225946666666665%2C%20138.89227833333334%5D%2C%20%5B35.225955%2C%20138.89229833333331%5D%2C%20%5B35.225955%2C%20138.89229833333331%5D%2C%20%5B35.22595833333333%2C%20138.89232333333334%5D%2C%20%5B35.22595166666667%2C%20138.89235333333332%5D%2C%20%5B35.22595166666667%2C%20138.89235333333332%5D%2C%20%5B35.22594333333333%2C%20138.89237%5D%2C%20%5B35.22593833333334%2C%20138.89237833333334%5D%2C%20%5B35.22593666666667%2C%20138.89237833333334%5D%2C%20%5B35.22593666666667%2C%20138.89237833333334%5D%2C%20%5B35.22593666666667%2C%20138.89237833333334%5D%2C%20%5B35.22593333333334%2C%20138.89238500000002%5D%2C%20%5B35.22593333333334%2C%20138.89238500000002%5D%2C%20%5B35.225926666666666%2C%20138.89239%5D%2C%20%5B35.22591666666666%2C%20138.89238833333332%5D%2C%20%5B35.225905%2C%20138.89238166666667%5D%2C%20%5B35.225905%2C%20138.89238166666667%5D%2C%20%5B35.225895%2C%20138.892365%5D%2C%20%5B35.22588%2C%20138.89234666666667%5D%2C%20%5B35.22588%2C%20138.89234666666667%5D%2C%20%5B35.22585166666667%2C%20138.89233166666665%5D%2C%20%5B35.225829999999995%2C%20138.89231%5D%2C%20%5B35.225818333333336%2C%20138.89230333333336%5D%2C%20%5B35.225818333333336%2C%20138.89230333333336%5D%2C%20%5B35.225813333333335%2C%20138.89229833333331%5D%2C%20%5B35.22580666666667%2C%20138.89229666666668%5D%2C%20%5B35.22580666666667%2C%20138.89229666666668%5D%2C%20%5B35.22580166666667%2C%20138.89229500000002%5D%2C%20%5B35.225795%2C%20138.89229166666667%5D%2C%20%5B35.225788333333334%2C%20138.892285%5D%2C%20%5B35.225788333333334%2C%20138.892285%5D%2C%20%5B35.22578166666666%2C%20138.89227833333334%5D%2C%20%5B35.225766666666665%2C%20138.89226666666667%5D%2C%20%5B35.225766666666665%2C%20138.89226666666667%5D%2C%20%5B35.22574833333333%2C%20138.89225666666667%5D%2C%20%5B35.225723333333335%2C%20138.89225833333333%5D%2C%20%5B35.225695%2C%20138.89228166666666%5D%2C%20%5B35.225695%2C%20138.89228166666666%5D%2C%20%5B35.225675%2C%20138.89232666666666%5D%2C%20%5B35.22253381343324%2C%20138.89021199958256%5D%2C%20%5B35.22253381343324%2C%20138.89021199958256%5D%2C%20%5B35.225608333333334%2C%20138.89246666666668%5D%2C%20%5B35.22557166666666%2C%20138.892545%5D%2C%20%5B35.22552833333334%2C%20138.89263333333335%5D%2C%20%5B35.22552833333334%2C%20138.89263333333335%5D%2C%20%5B35.22552833333334%2C%20138.89263333333335%5D%2C%20%5B35.22552833333334%2C%20138.89263333333335%5D%2C%20%5B35.22552833333334%2C%20138.89263333333335%5D%2C%20%5B35.225410000000004%2C%20138.89286333333334%5D%2C%20%5B35.225363333333334%2C%20138.8929466666667%5D%2C%20%5B35.225316666666664%2C%20138.8930366666667%5D%2C%20%5B35.225316666666664%2C%20138.8930366666667%5D%2C%20%5B35.22386118943057%2C%20138.89215046900662%5D%2C%20%5B35.22527%2C%20138.893115%5D%2C%20%5B35.22527%2C%20138.893115%5D%2C%20%5B35.22519166666667%2C%20138.89325833333334%5D%2C%20%5B35.225161666666665%2C%20138.89331166666668%5D%2C%20%5B35.225138333333334%2C%20138.89335666666665%5D%2C%20%5B35.225138333333334%2C%20138.89335666666665%5D%2C%20%5B35.225116666666665%2C%20138.893395%5D%2C%20%5B35.22510166666667%2C%20138.893425%5D%2C%20%5B35.22510166666667%2C%20138.893425%5D%2C%20%5B35.22510166666667%2C%20138.893425%5D%2C%20%5B35.22507666666667%2C%20138.89346833333332%5D%2C%20%5B35.225069999999995%2C%20138.89347833333335%5D%2C%20%5B35.225069999999995%2C%20138.89347833333335%5D%2C%20%5B35.22506833333333%2C%20138.893485%5D%2C%20%5B35.22506166666667%2C%20138.89350000000002%5D%2C%20%5B35.22506166666667%2C%20138.89350000000002%5D%2C%20%5B35.22504%2C%20138.89353833333334%5D%2C%20%5B35.22501666666667%2C%20138.89358%5D%2C%20%5B35.223964082491776%2C%20138.8897929000554%5D%2C%20%5B35.223964082491776%2C%20138.8897929000554%5D%2C%20%5B35.22495833333333%2C%20138.89369666666667%5D%2C%20%5B35.224918333333335%2C%20138.89377000000002%5D%2C%20%5B35.224918333333335%2C%20138.89377000000002%5D%2C%20%5B35.22027798742249%2C%20138.89850816190457%5D%2C%20%5B35.224825%2C%20138.89394166666668%5D%2C%20%5B35.22477166666667%2C%20138.89403666666666%5D%2C%20%5B35.22477166666667%2C%20138.89403666666666%5D%2C%20%5B35.224713333333334%2C%20138.89413833333336%5D%2C%20%5B35.22465%2C%20138.89425%5D%2C%20%5B35.22465%2C%20138.89425%5D%2C%20%5B35.224585000000005%2C%20138.894365%5D%2C%20%5B35.224585000000005%2C%20138.894365%5D%2C%20%5B35.22445166666667%2C%20138.89459333333335%5D%2C%20%5B35.22445166666667%2C%20138.89459333333335%5D%2C%20%5B35.224381666666666%2C%20138.89471833333334%5D%2C%20%5B35.224309999999996%2C%20138.89484499999998%5D%2C%20%5B35.224309999999996%2C%20138.89484499999998%5D%2C%20%5B35.22423666666667%2C%20138.89496666666668%5D%2C%20%5B35.224156666666666%2C%20138.89508833333332%5D%2C%20%5B35.22408166666666%2C%20138.89520833333333%5D%2C%20%5B35.22408166666666%2C%20138.89520833333333%5D%2C%20%5B35.224021666666665%2C%20138.89531333333335%5D%2C%20%5B35.22397%2C%20138.89541%5D%2C%20%5B35.22397%2C%20138.89541%5D%2C%20%5B35.223911666666666%2C%20138.89549%5D%2C%20%5B35.22385%2C%20138.89554%5D%2C%20%5B35.223780000000005%2C%20138.89555333333334%5D%2C%20%5B35.223780000000005%2C%20138.89555333333334%5D%2C%20%5B35.223715%2C%20138.89551833333334%5D%2C%20%5B35.22364%2C%20138.89546166666665%5D%2C%20%5B35.22364%2C%20138.89546166666665%5D%2C%20%5B35.223571666666665%2C%20138.89537833333333%5D%2C%20%5B35.22350333333333%2C%20138.89529499999998%5D%2C%20%5B35.22106210145844%2C%20138.89377991500965%5D%2C%20%5B35.22106210145844%2C%20138.89377991500965%5D%2C%20%5B35.22337%2C%20138.89514833333334%5D%2C%20%5B35.22331%2C%20138.89507666666665%5D%2C%20%5B35.22331%2C%20138.89507666666665%5D%2C%20%5B35.22325333333333%2C%20138.894995%5D%2C%20%5B35.2232%2C%20138.894905%5D%2C%20%5B35.22316166666667%2C%20138.89479666666665%5D%2C%20%5B35.22316166666667%2C%20138.89479666666665%5D%2C%20%5B35.22313%2C%20138.89468166666666%5D%2C%20%5B35.223105000000004%2C%20138.894555%5D%2C%20%5B35.223105000000004%2C%20138.894555%5D%2C%20%5B35.223083333333335%2C%20138.89442499999998%5D%2C%20%5B35.223060000000004%2C%20138.89429%5D%2C%20%5B35.223036666666665%2C%20138.89415666666667%5D%2C%20%5B35.223036666666665%2C%20138.89415666666667%5D%2C%20%5B35.22301166666667%2C%20138.89402333333334%5D%2C%20%5B35.22298833333333%2C%20138.89389%5D%2C%20%5B35.22298833333333%2C%20138.89389%5D%2C%20%5B35.22296666666667%2C%20138.89375833333332%5D%2C%20%5B35.22295833333333%2C%20138.89362833333334%5D%2C%20%5B35.222965%2C%20138.89350166666665%5D%2C%20%5B35.222965%2C%20138.89350166666665%5D%2C%20%5B35.222991666666665%2C%20138.89337833333332%5D%2C%20%5B35.22302833333333%2C%20138.89326333333332%5D%2C%20%5B35.22302833333333%2C%20138.89326333333332%5D%2C%20%5B35.223065%2C%20138.8931433333333%5D%2C%20%5B35.2231%2C%20138.89301500000002%5D%2C%20%5B35.22311333333334%2C%20138.89287666666667%5D%2C%20%5B35.22311333333334%2C%20138.89287666666667%5D%2C%20%5B35.223108333333336%2C%20138.89273999999997%5D%2C%20%5B35.223103333333334%2C%20138.89260166666665%5D%2C%20%5B35.223103333333334%2C%20138.89260166666665%5D%2C%20%5B35.2231%2C%20138.89246833333334%5D%2C%20%5B35.22309333333333%2C%20138.89234%5D%2C%20%5B35.223085%2C%20138.89221666666666%5D%2C%20%5B35.223085%2C%20138.89221666666666%5D%2C%20%5B35.22305666666667%2C%20138.89209666666665%5D%2C%20%5B35.22300833333334%2C%20138.89197666666666%5D%2C%20%5B35.22300833333334%2C%20138.89197666666666%5D%2C%20%5B35.22295%2C%20138.89185833333335%5D%2C%20%5B35.22288833333334%2C%20138.89173666666665%5D%2C%20%5B35.22282166666666%2C%20138.89162166666668%5D%2C%20%5B35.22282166666666%2C%20138.89162166666668%5D%2C%20%5B35.222743333333334%2C%20138.891515%5D%2C%20%5B35.222658333333335%2C%20138.89140833333335%5D%2C%20%5B35.222658333333335%2C%20138.89140833333335%5D%2C%20%5B35.222568333333335%2C%20138.89131333333336%5D%2C%20%5B35.222485%2C%20138.8912183333333%5D%2C%20%5B35.222406666666664%2C%20138.89112500000002%5D%2C%20%5B35.222406666666664%2C%20138.89112500000002%5D%2C%20%5B35.22233333333334%2C%20138.89103166666666%5D%2C%20%5B35.22226666666666%2C%20138.89093499999998%5D%2C%20%5B35.22226666666666%2C%20138.89093499999998%5D%2C%20%5B35.22221166666667%2C%20138.89083%5D%2C%20%5B35.222165000000004%2C%20138.890715%5D%2C%20%5B35.22212833333333%2C%20138.89059166666667%5D%2C%20%5B35.22212833333333%2C%20138.89059166666667%5D%2C%20%5B35.22210166666667%2C%20138.89046166666668%5D%2C%20%5B35.222076666666666%2C%20138.89033%5D%2C%20%5B35.222076666666666%2C%20138.89033%5D%2C%20%5B35.222049999999996%2C%20138.89019833333333%5D%2C%20%5B35.222025%2C%20138.89006666666668%5D%2C%20%5B35.222%2C%20138.88993333333335%5D%2C%20%5B35.222%2C%20138.88993333333335%5D%2C%20%5B35.22156731603683%2C%20138.89277409958999%5D%2C%20%5B35.22195%2C%20138.88967%5D%2C%20%5B35.22195%2C%20138.88967%5D%2C%20%5B35.22192666666667%2C%20138.88954833333335%5D%2C%20%5B35.22190166666667%2C%20138.88942666666665%5D%2C%20%5B35.22186833333333%2C%20138.88930833333333%5D%2C%20%5B35.22186833333333%2C%20138.88930833333333%5D%2C%20%5B35.22181833333333%2C%20138.88919166666668%5D%2C%20%5B35.22175333333333%2C%20138.88908833333335%5D%2C%20%5B35.22175333333333%2C%20138.88908833333335%5D%2C%20%5B35.22167833333333%2C%20138.88900666666666%5D%2C%20%5B35.22160833333333%2C%20138.88894666666664%5D%2C%20%5B35.22155%2C%20138.888905%5D%2C%20%5B35.22155%2C%20138.888905%5D%2C%20%5B35.22150333333333%2C%20138.88887333333332%5D%2C%20%5B35.221468333333334%2C%20138.88885666666664%5D%2C%20%5B35.221468333333334%2C%20138.88885666666664%5D%2C%20%5B35.22145166666667%2C%20138.888845%5D%2C%20%5B35.221435%2C%20138.88883833333333%5D%2C%20%5B35.221419999999995%2C%20138.88882999999998%5D%2C%20%5B35.22139333333334%2C%20138.88882333333333%5D%2C%20%5B35.221356666666665%2C%20138.88883333333334%5D%2C%20%5B35.221356666666665%2C%20138.88883333333334%5D%2C%20%5B35.221318333333336%2C%20138.88886166666668%5D%2C%20%5B35.22129333333333%2C%20138.88894166666665%5D%2C%20%5B35.221265%2C%20138.88903166666665%5D%2C%20%5B35.221265%2C%20138.88903166666665%5D%2C%20%5B35.22123%2C%20138.88913166666669%5D%2C%20%5B35.22119%2C%20138.88924333333335%5D%2C%20%5B35.22119%2C%20138.88924333333335%5D%2C%20%5B35.22114666666666%2C%20138.88935833333335%5D%2C%20%5B35.22109666666667%2C%20138.8894733333333%5D%2C%20%5B35.221043333333334%2C%20138.88958333333332%5D%2C%20%5B35.221043333333334%2C%20138.88958333333332%5D%2C%20%5B35.22097833333333%2C%20138.88969333333335%5D%2C%20%5B35.22091%2C%20138.889795%5D%2C%20%5B35.22091%2C%20138.889795%5D%2C%20%5B35.22083%2C%20138.88989333333333%5D%2C%20%5B35.220745%2C%20138.88998833333332%5D%2C%20%5B35.22065333333333%2C%20138.89008%5D%2C%20%5B35.22065333333333%2C%20138.89008%5D%2C%20%5B35.22055833333333%2C%20138.89016666666666%5D%2C%20%5B35.22046%2C%20138.89025333333333%5D%2C%20%5B35.22046%2C%20138.89025333333333%5D%2C%20%5B35.22036333333333%2C%20138.89034%5D%2C%20%5B35.21536982270697%2C%20138.89240233805984%5D%2C%20%5B35.22017166666667%2C%20138.89051%5D%2C%20%5B35.22017166666667%2C%20138.89051%5D%2C%20%5B35.220076666666664%2C%20138.89059666666665%5D%2C%20%5B35.21997833333333%2C%20138.89068333333336%5D%2C%20%5B35.21997833333333%2C%20138.89068333333336%5D%2C%20%5B35.219881666666666%2C%20138.89077%5D%2C%20%5B35.219785%2C%20138.89085500000002%5D%2C%20%5B35.219685%2C%20138.89093999999997%5D%2C%20%5B35.219685%2C%20138.89093999999997%5D%2C%20%5B35.219588333333334%2C%20138.89102666666668%5D%2C%20%5B35.21949666666667%2C%20138.89111999999997%5D%2C%20%5B35.21949666666667%2C%20138.89111999999997%5D%2C%20%5B35.21940666666667%2C%20138.8912183333333%5D%2C%20%5B35.219325000000005%2C%20138.89132999999998%5D%2C%20%5B35.219253333333334%2C%20138.89145166666668%5D%2C%20%5B35.219253333333334%2C%20138.89145166666668%5D%2C%20%5B35.219190000000005%2C%20138.89158%5D%2C%20%5B35.21912833333333%2C%20138.89171333333334%5D%2C%20%5B35.21912833333333%2C%20138.89171333333334%5D%2C%20%5B35.219065%2C%20138.89184333333333%5D%2C%20%5B35.21899166666667%2C%20138.89196666666666%5D%2C%20%5B35.21899166666667%2C%20138.89196666666666%5D%2C%20%5B35.21890833333334%2C%20138.89207833333333%5D%2C%20%5B35.218815%2C%20138.892175%5D%2C%20%5B35.21871333333333%2C%20138.89225833333333%5D%2C%20%5B35.21871333333333%2C%20138.89225833333333%5D%2C%20%5B35.218608333333336%2C%20138.892335%5D%2C%20%5B35.21850333333334%2C%20138.8924066666667%5D%2C%20%5B35.218399999999995%2C%20138.89248333333336%5D%2C%20%5B35.218399999999995%2C%20138.89248333333336%5D%2C%20%5B35.21829833333334%2C%20138.89256333333333%5D%2C%20%5B35.218201666666666%2C%20138.89265166666667%5D%2C%20%5B35.218201666666666%2C%20138.89265166666667%5D%2C%20%5B35.218111666666665%2C%20138.89275166666667%5D%2C%20%5B35.21803%2C%20138.89285999999998%5D%2C%20%5B35.21794833333333%2C%20138.892975%5D%2C%20%5B35.21794833333333%2C%20138.892975%5D%2C%20%5B35.21787%2C%20138.89309333333333%5D%2C%20%5B35.21779166666667%2C%20138.89321166666664%5D%2C%20%5B35.21779166666667%2C%20138.89321166666664%5D%2C%20%5B35.21757577901023%2C%20138.8939001166029%5D%2C%20%5B35.217635%2C%20138.893445%5D%2C%20%5B35.21755666666666%2C%20138.89356333333333%5D%2C%20%5B35.21755666666666%2C%20138.89356333333333%5D%2C%20%5B35.21747833333333%2C%20138.89368000000002%5D%2C%20%5B35.2174%2C%20138.89379666666667%5D%2C%20%5B35.2174%2C%20138.89379666666667%5D%2C%20%5B35.21732333333333%2C%20138.893915%5D%2C%20%5B35.21724666666667%2C%20138.89403333333334%5D%2C%20%5B35.21716666666667%2C%20138.89415333333332%5D%2C%20%5B35.21708666666667%2C%20138.89427333333333%5D%2C%20%5B35.21700666666666%2C%20138.89439499999997%5D%2C%20%5B35.21700666666666%2C%20138.89439499999997%5D%2C%20%5B35.216928333333335%2C%20138.89452%5D%2C%20%5B35.216855%2C%20138.89465166666665%5D%2C%20%5B35.216786666666664%2C%20138.89478666666668%5D%2C%20%5B35.216786666666664%2C%20138.89478666666668%5D%2C%20%5B35.21671833333333%2C%20138.89492333333334%5D%2C%20%5B35.22002588422817%2C%20138.89720734425626%5D%2C%20%5B35.22002588422817%2C%20138.89720734425626%5D%2C%20%5B35.21658%2C%20138.89519666666666%5D%2C%20%5B35.21651%2C%20138.89533333333333%5D%2C%20%5B35.21710402992697%2C%20138.90026848962643%5D%2C%20%5B35.21710402992697%2C%20138.90026848962643%5D%2C%20%5B35.21637333333333%2C%20138.89560833333334%5D%2C%20%5B35.21630833333334%2C%20138.89574833333333%5D%2C%20%5B35.21630833333334%2C%20138.89574833333333%5D%2C%20%5B35.216245%2C%20138.895885%5D%2C%20%5B35.2151138775707%2C%20138.89936634748318%5D%2C%20%5B35.21609%2C%20138.89613666666668%5D%2C%20%5B35.21609%2C%20138.89613666666668%5D%2C%20%5B35.215995%2C%20138.896245%5D%2C%20%5B35.21588666666666%2C%20138.89633666666666%5D%2C%20%5B35.21588666666666%2C%20138.89633666666666%5D%2C%20%5B35.21577%2C%20138.89641666666665%5D%2C%20%5B35.215648333333334%2C%20138.89648833333334%5D%2C%20%5B35.21552833333333%2C%20138.89655666666667%5D%2C%20%5B35.21552833333333%2C%20138.89655666666667%5D%2C%20%5B35.21540666666667%2C%20138.89663166666665%5D%2C%20%5B35.215291666666666%2C%20138.89671833333333%5D%2C%20%5B35.215291666666666%2C%20138.89671833333333%5D%2C%20%5B35.215181666666666%2C%20138.89681166666665%5D%2C%20%5B35.215075%2C%20138.89691499999998%5D%2C%20%5B35.214974999999995%2C%20138.89702333333335%5D%2C%20%5B35.214974999999995%2C%20138.89702333333335%5D%2C%20%5B35.21487666666667%2C%20138.89713166666667%5D%2C%20%5B35.214778333333335%2C%20138.89724333333334%5D%2C%20%5B35.214778333333335%2C%20138.89724333333334%5D%2C%20%5B35.21467833333334%2C%20138.89735666666667%5D%2C%20%5B35.21458%2C%20138.8974683333333%5D%2C%20%5B35.21447833333333%2C%20138.89757999999998%5D%2C%20%5B35.21447833333333%2C%20138.89757999999998%5D%2C%20%5B35.214376666666666%2C%20138.8976966666667%5D%2C%20%5B35.21427166666667%2C%20138.89781499999998%5D%2C%20%5B35.21427166666667%2C%20138.89781499999998%5D%2C%20%5B35.214166666666664%2C%20138.89793166666666%5D%2C%20%5B35.214061666666666%2C%20138.898045%5D%2C%20%5B35.213955000000006%2C%20138.898165%5D%2C%20%5B35.213955000000006%2C%20138.898165%5D%2C%20%5B35.21384666666667%2C%20138.89828833333334%5D%2C%20%5B35.213735%2C%20138.89840999999998%5D%2C%20%5B35.213735%2C%20138.89840999999998%5D%2C%20%5B35.213615%2C%20138.898525%5D%2C%20%5B35.213496666666664%2C%20138.89861166666665%5D%2C%20%5B35.213366666666666%2C%20138.89870333333334%5D%2C%20%5B35.213366666666666%2C%20138.89870333333334%5D%2C%20%5B35.21323666666667%2C%20138.89878666666667%5D%2C%20%5B35.21310833333334%2C%20138.89887%5D%2C%20%5B35.21310833333334%2C%20138.89887%5D%2C%20%5B35.211502566148525%2C%20138.8958947666637%5D%2C%20%5B35.21285%2C%20138.89903666666666%5D%2C%20%5B35.21272333333333%2C%20138.89912%5D%2C%20%5B35.21272333333333%2C%20138.89912%5D%2C%20%5B35.212595%2C%20138.89919999999998%5D%2C%20%5B35.21246833333333%2C%20138.89928166666667%5D%2C%20%5B35.21246833333333%2C%20138.89928166666667%5D%2C%20%5B35.21234333333334%2C%20138.89936166666666%5D%2C%20%5B35.212223333333334%2C%20138.89944%5D%2C%20%5B35.212106666666664%2C%20138.89951333333332%5D%2C%20%5B35.212106666666664%2C%20138.89951333333332%5D%2C%20%5B35.21199166666667%2C%20138.8995866666667%5D%2C%20%5B35.211879999999994%2C%20138.89965666666666%5D%2C%20%5B35.211879999999994%2C%20138.89965666666666%5D%2C%20%5B35.211771666666664%2C%20138.89972833333334%5D%2C%20%5B35.211771666666664%2C%20138.89972833333334%5D%2C%20%5B35.211665%2C%20138.89979666666667%5D%2C%20%5B35.21156166666666%2C%20138.89986666666667%5D%2C%20%5B35.211465%2C%20138.89994333333334%5D%2C%20%5B35.211465%2C%20138.89994333333334%5D%2C%20%5B35.211376666666666%2C%20138.90003%5D%2C%20%5B35.211376666666666%2C%20138.90003%5D%2C%20%5B35.21129666666666%2C%20138.9001266666667%5D%2C%20%5B35.211220000000004%2C%20138.90022499999998%5D%2C%20%5B35.211146666666664%2C%20138.90032166666666%5D%2C%20%5B35.21107333333334%2C%20138.90041333333332%5D%2C%20%5B35.21107333333334%2C%20138.90041333333332%5D%2C%20%5B35.210998333333336%2C%20138.90049666666667%5D%2C%20%5B35.21091666666667%2C%20138.90057166666665%5D%2C%20%5B35.21082833333333%2C%20138.90063833333335%5D%2C%20%5B35.210735%2C%20138.90070166666666%5D%2C%20%5B35.210735%2C%20138.90070166666666%5D%5D%2C%0A%20%20%20%20%20%20%20%20%20%20%20%20%20%20%7B%22bubblingMouseEvents%22%3A%20true%2C%20%22color%22%3A%20%22%230000FF%22%2C%20%22dashArray%22%3A%20%5B10%2C%2020%5D%2C%20%22dashOffset%22%3A%20null%2C%20%22delay%22%3A%20400%2C%20%22fill%22%3A%20false%2C%20%22fillColor%22%3A%20%22%233388ff%22%2C%20%22fillOpacity%22%3A%200.2%2C%20%22fillRule%22%3A%20%22evenodd%22%2C%20%22hardwareAcceleration%22%3A%20false%2C%20%22lineCap%22%3A%20%22round%22%2C%20%22lineJoin%22%3A%20%22round%22%2C%20%22noClip%22%3A%20false%2C%20%22opacity%22%3A%200.5%2C%20%22paused%22%3A%20false%2C%20%22pulseColor%22%3A%20%22%23FFFFFF%22%2C%20%22reverse%22%3A%20false%2C%20%22smoothFactor%22%3A%201.0%2C%20%22stroke%22%3A%20true%2C%20%22weight%22%3A%205%7D%0A%20%20%20%20%20%20%20%20%29.addTo%28map_cfb20c427c234e41922584696187bc7a%29%3B%0A%20%20%20%20%20%20%20%20%0A%3C/script%3E onload=\"this.contentDocument.open();this.contentDocument.write(    decodeURIComponent(this.getAttribute('data-html')));this.contentDocument.close();\" allowfullscreen webkitallowfullscreen mozallowfullscreen></iframe></div></div>"
      ],
      "text/plain": [
       "<folium.folium.Map at 0x2220b4ef730>"
      ]
     },
     "execution_count": 126,
     "metadata": {},
     "output_type": "execute_result"
    }
   ],
   "source": [
    "visualize_route_with_foliumMaps(data_viz_sync)\n",
    "\n"
   ]
  },
  {
   "cell_type": "code",
   "execution_count": null,
   "id": "053656b9",
   "metadata": {
    "scrolled": true
   },
   "outputs": [],
   "source": []
  },
  {
   "cell_type": "markdown",
   "id": "98b8c871",
   "metadata": {},
   "source": [
    " NB : \n",
    " - The Map Clearly shows some irregularities at diffrent points of the itenirary in the form of sudden jumps . \n",
    " - Those irregularities are most likely due to GPS signal loss and thus need to be filtered out .\n",
    " - Next up we will use simplied matplotlib plots to better understand the origin of these spurious signal anomalies \n",
    "      "
   ]
  },
  {
   "cell_type": "code",
   "execution_count": 127,
   "id": "204f510a",
   "metadata": {},
   "outputs": [
    {
     "data": {
      "image/png": "[encoded data removed]",
      "text/plain": [
       "<Figure size 432x288 with 1 Axes>"
      ]
     },
     "metadata": {
      "needs_background": "light"
     },
     "output_type": "display_data"
    }
   ],
   "source": [
    "\n",
    "# More visualization \n",
    "\n",
    "# let's plot the original data using matplotlib to better understand the origin of the noise \n",
    "%matplotlib inline\n",
    "plt.title('Car iteneray')\n",
    "plt.plot(data['longitude'].values , data['latitude'].values ,'b')\n",
    "plt.plot(data['longitude'].values , data['latitude'].values , 'rs')\n",
    "plt.show()\n",
    "\n",
    "\n",
    "# Let's visualize The same Data on Actual Maps using mplleaflet\n",
    "# import mplleaflet\n",
    "# plt.plot(data['longitude'].values , data['latitude'].values , 'rs')\n",
    "# # mplleaflet.show()\n",
    "\n",
    "\n",
    "\n",
    "\n",
    "\n"
   ]
  },
  {
   "cell_type": "markdown",
   "id": "7f62a9fc",
   "metadata": {},
   "source": [
    "The plot again clearly shows some undesirable , but existing outliers . \n",
    "But at least now we can guess the actual car itenirary "
   ]
  },
  {
   "cell_type": "code",
   "execution_count": 128,
   "id": "5f6e62d5",
   "metadata": {},
   "outputs": [
    {
     "data": {
      "text/plain": [
       "Text(0.5, 1.0, 'Latitude against time ')"
      ]
     },
     "execution_count": 128,
     "metadata": {},
     "output_type": "execute_result"
    },
    {
     "data": {
      "image/png": "[encoded data removed]",
      "text/plain": [
       "<Figure size 432x288 with 1 Axes>"
      ]
     },
     "metadata": {
      "needs_background": "light"
     },
     "output_type": "display_data"
    }
   ],
   "source": [
    "# Let's visualize the latitude  through time \n",
    "plt.plot(data['timestamp_secs'].values , data['latitude'].values ,'b')\n",
    "plt.title('Latitude against time ')"
   ]
  },
  {
   "cell_type": "code",
   "execution_count": 129,
   "id": "17c024dd",
   "metadata": {},
   "outputs": [
    {
     "data": {
      "text/plain": [
       "Text(0.5, 1.0, 'Longitute against time ')"
      ]
     },
     "execution_count": 129,
     "metadata": {},
     "output_type": "execute_result"
    },
    {
     "data": {
      "image/png": "[encoded data removed]",
      "text/plain": [
       "<Figure size 432x288 with 1 Axes>"
      ]
     },
     "metadata": {
      "needs_background": "light"
     },
     "output_type": "display_data"
    }
   ],
   "source": [
    "# Let's visualize the longitude  through time \n",
    "plt.plot(data['timestamp_secs'].values , data['longitude'].values ,'r')\n",
    "plt.title('Longitute against time ')"
   ]
  },
  {
   "cell_type": "markdown",
   "id": "b9a9b0d4",
   "metadata": {},
   "source": [
    "Part 3 : Sensor filtering\n",
    "\n",
    "As demonstrated in the previous part , our GPS data clearly exhibit spurious signal jumps for erroneous readings.\n",
    "\n",
    "Goal : \n",
    "- Implement a possible approach towards detecting and smoothing our data  .\n",
    "\n",
    "Approach :  \n",
    "\n",
    "- First , try out the Ramer-Douglas-Peuker Algorithm \n",
    "- If the Ramer-Douglas-Peuker Algorithm  doesnt work or resulted in significant loss of data , then we will use a Kalman filter\n"
   ]
  },
  {
   "cell_type": "code",
   "execution_count": 130,
   "id": "68f714f5",
   "metadata": {},
   "outputs": [
    {
     "name": "stdout",
     "output_type": "stream",
     "text": [
      "536 point reduced to 285 points \n"
     ]
    },
    {
     "data": {
      "image/png": "[encoded data removed]",
      "text/plain": [
       "<Figure size 432x288 with 1 Axes>"
      ]
     },
     "metadata": {
      "needs_background": "light"
     },
     "output_type": "display_data"
    },
    {
     "data": {
      "text/html": [
       "<div>\n",
       "<style scoped>\n",
       "    .dataframe tbody tr th:only-of-type {\n",
       "        vertical-align: middle;\n",
       "    }\n",
       "\n",
       "    .dataframe tbody tr th {\n",
       "        vertical-align: top;\n",
       "    }\n",
       "\n",
       "    .dataframe thead th {\n",
       "        text-align: right;\n",
       "    }\n",
       "</style>\n",
       "<table border=\"1\" class=\"dataframe\">\n",
       "  <thead>\n",
       "    <tr style=\"text-align: right;\">\n",
       "      <th></th>\n",
       "      <th>timestamp_secs</th>\n",
       "      <th>image_id</th>\n",
       "      <th>latitude</th>\n",
       "      <th>longitude</th>\n",
       "      <th>Diff</th>\n",
       "    </tr>\n",
       "  </thead>\n",
       "  <tbody>\n",
       "    <tr>\n",
       "      <th>0</th>\n",
       "      <td>0.000000</td>\n",
       "      <td>NaN</td>\n",
       "      <td>35.22587</td>\n",
       "      <td>138.892307</td>\n",
       "      <td>Skip</td>\n",
       "    </tr>\n",
       "    <tr>\n",
       "      <th>1</th>\n",
       "      <td>0.055894</td>\n",
       "      <td>0.0</td>\n",
       "      <td>35.22587</td>\n",
       "      <td>138.892307</td>\n",
       "      <td>0.055894</td>\n",
       "    </tr>\n",
       "    <tr>\n",
       "      <th>2</th>\n",
       "      <td>0.997609</td>\n",
       "      <td>NaN</td>\n",
       "      <td>35.22587</td>\n",
       "      <td>138.892307</td>\n",
       "      <td>Skip</td>\n",
       "    </tr>\n",
       "    <tr>\n",
       "      <th>3</th>\n",
       "      <td>1.997444</td>\n",
       "      <td>NaN</td>\n",
       "      <td>35.22587</td>\n",
       "      <td>138.892307</td>\n",
       "      <td>Skip</td>\n",
       "    </tr>\n",
       "    <tr>\n",
       "      <th>4</th>\n",
       "      <td>2.541349</td>\n",
       "      <td>1.0</td>\n",
       "      <td>35.22587</td>\n",
       "      <td>138.892307</td>\n",
       "      <td>0.492368</td>\n",
       "    </tr>\n",
       "    <tr>\n",
       "      <th>5</th>\n",
       "      <td>3.033717</td>\n",
       "      <td>NaN</td>\n",
       "      <td>35.22587</td>\n",
       "      <td>138.892307</td>\n",
       "      <td>Skip</td>\n",
       "    </tr>\n",
       "    <tr>\n",
       "      <th>6</th>\n",
       "      <td>3.997913</td>\n",
       "      <td>NaN</td>\n",
       "      <td>35.22587</td>\n",
       "      <td>138.892307</td>\n",
       "      <td>Skip</td>\n",
       "    </tr>\n",
       "    <tr>\n",
       "      <th>7</th>\n",
       "      <td>5.004652</td>\n",
       "      <td>NaN</td>\n",
       "      <td>35.22587</td>\n",
       "      <td>138.892307</td>\n",
       "      <td>Skip</td>\n",
       "    </tr>\n",
       "    <tr>\n",
       "      <th>8</th>\n",
       "      <td>5.064852</td>\n",
       "      <td>2.0</td>\n",
       "      <td>35.22587</td>\n",
       "      <td>138.892307</td>\n",
       "      <td>0.0602</td>\n",
       "    </tr>\n",
       "    <tr>\n",
       "      <th>9</th>\n",
       "      <td>6.012345</td>\n",
       "      <td>NaN</td>\n",
       "      <td>35.22586</td>\n",
       "      <td>138.892315</td>\n",
       "      <td>Skip</td>\n",
       "    </tr>\n",
       "  </tbody>\n",
       "</table>\n",
       "</div>"
      ],
      "text/plain": [
       "   timestamp_secs  image_id  latitude   longitude      Diff\n",
       "0        0.000000       NaN  35.22587  138.892307      Skip\n",
       "1        0.055894       0.0  35.22587  138.892307  0.055894\n",
       "2        0.997609       NaN  35.22587  138.892307      Skip\n",
       "3        1.997444       NaN  35.22587  138.892307      Skip\n",
       "4        2.541349       1.0  35.22587  138.892307  0.492368\n",
       "5        3.033717       NaN  35.22587  138.892307      Skip\n",
       "6        3.997913       NaN  35.22587  138.892307      Skip\n",
       "7        5.004652       NaN  35.22587  138.892307      Skip\n",
       "8        5.064852       2.0  35.22587  138.892307    0.0602\n",
       "9        6.012345       NaN  35.22586  138.892315      Skip"
      ]
     },
     "execution_count": 130,
     "metadata": {},
     "output_type": "execute_result"
    }
   ],
   "source": [
    "# The Ramer-Douglas-Peuker Algorithm\n",
    "# the  Ramer-Douglas-Peuker Algorithm  is One way of reducing the signal noice \n",
    "# It's is a well-known algorithme that omits irrelevant points on an itenary , let's apply it here \n",
    "from rdp import rdp\n",
    "rdp_GPS = pd.DataFrame(rdp(data[['longitude','latitude']].values,epsilon=1e-10))\n",
    "rdp_GPS.columns=['longitude','latitude']\n",
    "rdp_GPS.head(5)\n",
    "# Let's see hw many observations we've reduced by appying the 'rdp'\n",
    "print('{} point reduced to {} points '.format(data.shape[0],rdp_GPS.shape[0]) )\n",
    "%matplotlib inline\n",
    "plt.title('rbp simplified itinerary (in blue) against actual measured GPS data (in Red)')\n",
    "plt.plot(data['longitude'].values , data['latitude'].values , 'rs')\n",
    "plt.plot(rdp_GPS['longitude'].values,rdp_GPS['latitude'].values)\n",
    "plt.show()\n",
    "\n",
    "data.head(10)\n",
    "\n",
    "\n"
   ]
  },
  {
   "cell_type": "markdown",
   "id": "a34469a3",
   "metadata": {},
   "source": [
    "As can be seen on the figure , the rdp algorithm was able to (relatively) recognize and filter out most of the outliers , but at the cost of a huge loss of information . \n",
    "The reduced itinerary , and though it may perform pretty well on a straight itinerary (as is the case in the first part of our itenerary ) , it doesnt not do as well when  picking on turns and change of direction (as is the case here) .\n",
    "\n",
    "For that , We will need a stochastic filter . \n",
    "Next up , we will try to imlement a Kalman filter to filter out and smooth the GPS data .\n"
   ]
  },
  {
   "cell_type": "code",
   "execution_count": 131,
   "id": "22c59791",
   "metadata": {},
   "outputs": [],
   "source": [
    "# The Kalman Filter \n",
    "#  Prepare Data for Kalman Filter \n",
    "\n",
    "data.head(5)\n",
    "\n",
    "gps_measures = np.ma.masked_invalid(data[['longitude','latitude']].values)\n",
    "# plt.plot(gps_measures[:,0],gps_measures[:,1] ,'rs')\n",
    "\n",
    "# gps_measures.index=np.round(gps_measures.index.astype(np.int64),-9).astype('datetime64[ns]')\n",
    "\n",
    "\n"
   ]
  },
  {
   "cell_type": "code",
   "execution_count": null,
   "id": "fef235a1",
   "metadata": {
    "scrolled": true
   },
   "outputs": [],
   "source": []
  },
  {
   "cell_type": "code",
   "execution_count": null,
   "id": "a0619612",
   "metadata": {},
   "outputs": [],
   "source": []
  },
  {
   "cell_type": "code",
   "execution_count": null,
   "id": "361ee4ac",
   "metadata": {},
   "outputs": [],
   "source": []
  },
  {
   "cell_type": "code",
   "execution_count": null,
   "id": "6a19995b",
   "metadata": {},
   "outputs": [],
   "source": []
  },
  {
   "cell_type": "code",
   "execution_count": 132,
   "id": "35f1250c",
   "metadata": {},
   "outputs": [],
   "source": [
    "from pykalman import KalmanFilter\n",
    "\n",
    "# now let's initialize the Kalman Filter \n",
    "\n",
    "\n",
    "transistion_matrix = np.array([ [1, 0, 0.5,0],\n",
    "                                [0, 1, 0,0.5],\n",
    "                                [0, 0, 1,0],\n",
    "                                [0, 0, 0,1]  ])\n",
    "\n",
    "observation_matrix = np.array ([  [1, 0, 0,0],\n",
    "                                  [0, 1, 0,0] ])\n",
    "\n",
    "\n",
    "R = np.diag([100,100])**2\n",
    "\n",
    "initial_state_mean = np.hstack([gps_measures[0, :], 2*[0.]])\n",
    "initial_state_cov = np.diag([1e-4 , 1e-4,1e-4,1e-4])\n",
    "Kf = KalmanFilter (\n",
    "                   transition_matrices = transistion_matrix ,\n",
    "                   observation_matrices=observation_matrix  ,\n",
    "                   observation_covariance=R,\n",
    "                   initial_state_mean = initial_state_mean,\n",
    "                   initial_state_covariance = initial_state_cov,\n",
    "                   em_vars = ['transistion_covariance']\n",
    "                   \n",
    "                  )\n",
    "\n"
   ]
  },
  {
   "cell_type": "code",
   "execution_count": 133,
   "id": "0519ea65",
   "metadata": {},
   "outputs": [],
   "source": [
    "Kf=Kf.em(gps_measures,n_iter=100) # 100 iteration"
   ]
  },
  {
   "cell_type": "code",
   "execution_count": 135,
   "id": "9cf7de0a",
   "metadata": {},
   "outputs": [],
   "source": [
    "state_means , state_vars = Kf.smooth(gps_measures) # apply the filter and store the smoothed coords"
   ]
  },
  {
   "cell_type": "code",
   "execution_count": 136,
   "id": "665ea69c",
   "metadata": {},
   "outputs": [
    {
     "data": {
      "text/plain": [
       "([<matplotlib.lines.Line2D at 0x2220c783f10>],\n",
       " [<matplotlib.lines.Line2D at 0x2220c7922e0>])"
      ]
     },
     "execution_count": 136,
     "metadata": {},
     "output_type": "execute_result"
    },
    {
     "data": {
      "image/png": "[encoded data removed]",
      "text/plain": [
       "<Figure size 864x504 with 2 Axes>"
      ]
     },
     "metadata": {
      "needs_background": "light"
     },
     "output_type": "display_data"
    },
    {
     "data": {
      "image/png": "[encoded data removed]",
      "text/plain": [
       "<Figure size 864x504 with 2 Axes>"
      ]
     },
     "metadata": {
      "needs_background": "light"
     },
     "output_type": "display_data"
    }
   ],
   "source": [
    "%matplotlib inline\n",
    "# Now let's Visualize the results \n",
    "fig ,(ax1,ax2) = plt.subplots(1,2,sharey=True ,figsize=(12,7))\n",
    "ax1.plot(gps_measures[:,0]) , ax2.plot(state_means[:,0] )\n",
    "fig ,(ax1,ax2) = plt.subplots(1,2,sharey=True ,figsize=(12,7))\n",
    "ax1.plot(gps_measures[:,1]) , ax2.plot(state_means[:,1] )\n"
   ]
  },
  {
   "cell_type": "markdown",
   "id": "2fe5bf85",
   "metadata": {},
   "source": [
    "- Great ! The results are satisfying . We were able to filter out the undesirable noises with the hel of a Kalman Filter "
   ]
  },
  {
   "cell_type": "code",
   "execution_count": 138,
   "id": "727cae5f",
   "metadata": {},
   "outputs": [
    {
     "data": {
      "text/plain": [
       "[<matplotlib.lines.Line2D at 0x2220c7c0a00>]"
      ]
     },
     "execution_count": 138,
     "metadata": {},
     "output_type": "execute_result"
    },
    {
     "data": {
      "image/png": "[encoded data removed]",
      "text/plain": [
       "<Figure size 432x288 with 1 Axes>"
      ]
     },
     "metadata": {
      "needs_background": "light"
     },
     "output_type": "display_data"
    }
   ],
   "source": [
    "# LEt's check out the smoothed out itinerary \n",
    "plt.plot(state_means[:,0],state_means[:,1])"
   ]
  },
  {
   "cell_type": "code",
   "execution_count": 139,
   "id": "84b1d007",
   "metadata": {},
   "outputs": [],
   "source": [
    "# Let's update our original dataframe with the new filtred coordinates \n",
    "data ['longitude']= pd.DataFrame((state_means[:,0]))\n",
    "data ['latitude']= pd.DataFrame((state_means[:,1]))"
   ]
  },
  {
   "cell_type": "code",
   "execution_count": 140,
   "id": "c6fd1be0",
   "metadata": {},
   "outputs": [
    {
     "name": "stdout",
     "output_type": "stream",
     "text": [
      "Type of a: <class 'list'>\n"
     ]
    },
    {
     "data": {
      "text/html": [
       "<div style=\"width:100%;\"><div style=\"position:relative;width:100%;height:0;padding-bottom:60%;\"><span style=\"color:#565656\">Make this Notebook Trusted to load map: File -> Trust Notebook</span><iframe src=\"about:blank\" style=\"position:absolute;width:100%;height:100%;left:0;top:0;border:none !important;\" data-html=%3C%21DOCTYPE%20html%3E%0A%3Chead%3E%20%20%20%20%0A%20%20%20%20%3Cmeta%20http-equiv%3D%22content-type%22%20content%3D%22text/html%3B%20charset%3DUTF-8%22%20/%3E%0A%20%20%20%20%0A%20%20%20%20%20%20%20%20%3Cscript%3E%0A%20%20%20%20%20%20%20%20%20%20%20%20L_NO_TOUCH%20%3D%20false%3B%0A%20%20%20%20%20%20%20%20%20%20%20%20L_DISABLE_3D%20%3D%20false%3B%0A%20%20%20%20%20%20%20%20%3C/script%3E%0A%20%20%20%20%0A%20%20%20%20%3Cstyle%3Ehtml%2C%20body%20%7Bwidth%3A%20100%25%3Bheight%3A%20100%25%3Bmargin%3A%200%3Bpadding%3A%200%3B%7D%3C/style%3E%0A%20%20%20%20%3Cstyle%3E%23map%20%7Bposition%3Aabsolute%3Btop%3A0%3Bbottom%3A0%3Bright%3A0%3Bleft%3A0%3B%7D%3C/style%3E%0A%20%20%20%20%3Cscript%20src%3D%22https%3A//cdn.jsdelivr.net/npm/leaflet%401.6.0/dist/leaflet.js%22%3E%3C/script%3E%0A%20%20%20%20%3Cscript%20src%3D%22https%3A//code.jquery.com/jquery-1.12.4.min.js%22%3E%3C/script%3E%0A%20%20%20%20%3Cscript%20src%3D%22https%3A//maxcdn.bootstrapcdn.com/bootstrap/3.2.0/js/bootstrap.min.js%22%3E%3C/script%3E%0A%20%20%20%20%3Cscript%20src%3D%22https%3A//cdnjs.cloudflare.com/ajax/libs/Leaflet.awesome-markers/2.0.2/leaflet.awesome-markers.js%22%3E%3C/script%3E%0A%20%20%20%20%3Clink%20rel%3D%22stylesheet%22%20href%3D%22https%3A//cdn.jsdelivr.net/npm/leaflet%401.6.0/dist/leaflet.css%22/%3E%0A%20%20%20%20%3Clink%20rel%3D%22stylesheet%22%20href%3D%22https%3A//maxcdn.bootstrapcdn.com/bootstrap/3.2.0/css/bootstrap.min.css%22/%3E%0A%20%20%20%20%3Clink%20rel%3D%22stylesheet%22%20href%3D%22https%3A//maxcdn.bootstrapcdn.com/bootstrap/3.2.0/css/bootstrap-theme.min.css%22/%3E%0A%20%20%20%20%3Clink%20rel%3D%22stylesheet%22%20href%3D%22https%3A//maxcdn.bootstrapcdn.com/font-awesome/4.6.3/css/font-awesome.min.css%22/%3E%0A%20%20%20%20%3Clink%20rel%3D%22stylesheet%22%20href%3D%22https%3A//cdnjs.cloudflare.com/ajax/libs/Leaflet.awesome-markers/2.0.2/leaflet.awesome-markers.css%22/%3E%0A%20%20%20%20%3Clink%20rel%3D%22stylesheet%22%20href%3D%22https%3A//cdn.jsdelivr.net/gh/python-visualization/folium/folium/templates/leaflet.awesome.rotate.min.css%22/%3E%0A%20%20%20%20%0A%20%20%20%20%20%20%20%20%20%20%20%20%3Cmeta%20name%3D%22viewport%22%20content%3D%22width%3Ddevice-width%2C%0A%20%20%20%20%20%20%20%20%20%20%20%20%20%20%20%20initial-scale%3D1.0%2C%20maximum-scale%3D1.0%2C%20user-scalable%3Dno%22%20/%3E%0A%20%20%20%20%20%20%20%20%20%20%20%20%3Cstyle%3E%0A%20%20%20%20%20%20%20%20%20%20%20%20%20%20%20%20%23map_e8cb8dbc152e41e68dd115d8b3595633%20%7B%0A%20%20%20%20%20%20%20%20%20%20%20%20%20%20%20%20%20%20%20%20position%3A%20relative%3B%0A%20%20%20%20%20%20%20%20%20%20%20%20%20%20%20%20%20%20%20%20width%3A%20100.0%25%3B%0A%20%20%20%20%20%20%20%20%20%20%20%20%20%20%20%20%20%20%20%20height%3A%20700.0px%3B%0A%20%20%20%20%20%20%20%20%20%20%20%20%20%20%20%20%20%20%20%20left%3A%200.0%25%3B%0A%20%20%20%20%20%20%20%20%20%20%20%20%20%20%20%20%20%20%20%20top%3A%200.0%25%3B%0A%20%20%20%20%20%20%20%20%20%20%20%20%20%20%20%20%7D%0A%20%20%20%20%20%20%20%20%20%20%20%20%3C/style%3E%0A%20%20%20%20%20%20%20%20%0A%20%20%20%20%3Cscript%20src%3D%22https%3A//cdnjs.cloudflare.com/ajax/libs/leaflet-minimap/3.6.1/Control.MiniMap.js%22%3E%3C/script%3E%0A%20%20%20%20%3Clink%20rel%3D%22stylesheet%22%20href%3D%22https%3A//cdnjs.cloudflare.com/ajax/libs/leaflet-minimap/3.6.1/Control.MiniMap.css%22/%3E%0A%20%20%20%20%3Cscript%20src%3D%22https%3A//cdn.jsdelivr.net/npm/leaflet-ant-path%401.1.2/dist/leaflet-ant-path.min.js%22%3E%3C/script%3E%0A%3C/head%3E%0A%3Cbody%3E%20%20%20%20%0A%20%20%20%20%0A%20%20%20%20%20%20%20%20%20%20%20%20%3Cdiv%20class%3D%22folium-map%22%20id%3D%22map_e8cb8dbc152e41e68dd115d8b3595633%22%20%3E%3C/div%3E%0A%20%20%20%20%20%20%20%20%0A%3C/body%3E%0A%3Cscript%3E%20%20%20%20%0A%20%20%20%20%0A%20%20%20%20%20%20%20%20%20%20%20%20var%20map_e8cb8dbc152e41e68dd115d8b3595633%20%3D%20L.map%28%0A%20%20%20%20%20%20%20%20%20%20%20%20%20%20%20%20%22map_e8cb8dbc152e41e68dd115d8b3595633%22%2C%0A%20%20%20%20%20%20%20%20%20%20%20%20%20%20%20%20%7B%0A%20%20%20%20%20%20%20%20%20%20%20%20%20%20%20%20%20%20%20%20center%3A%20%5B35.225867%2C%20138.892303%5D%2C%0A%20%20%20%20%20%20%20%20%20%20%20%20%20%20%20%20%20%20%20%20crs%3A%20L.CRS.EPSG3857%2C%0A%20%20%20%20%20%20%20%20%20%20%20%20%20%20%20%20%20%20%20%20zoom%3A%2012%2C%0A%20%20%20%20%20%20%20%20%20%20%20%20%20%20%20%20%20%20%20%20zoomControl%3A%20true%2C%0A%20%20%20%20%20%20%20%20%20%20%20%20%20%20%20%20%20%20%20%20preferCanvas%3A%20false%2C%0A%20%20%20%20%20%20%20%20%20%20%20%20%20%20%20%20%7D%0A%20%20%20%20%20%20%20%20%20%20%20%20%29%3B%0A%0A%20%20%20%20%20%20%20%20%20%20%20%20%0A%0A%20%20%20%20%20%20%20%20%0A%20%20%20%20%0A%20%20%20%20%20%20%20%20%20%20%20%20var%20tile_layer_afa7d503c8964e7b980c6bf9ff240103%20%3D%20L.tileLayer%28%0A%20%20%20%20%20%20%20%20%20%20%20%20%20%20%20%20%22https%3A//%7Bs%7D.tile.openstreetmap.org/%7Bz%7D/%7Bx%7D/%7By%7D.png%22%2C%0A%20%20%20%20%20%20%20%20%20%20%20%20%20%20%20%20%7B%22attribution%22%3A%20%22Data%20by%20%5Cu0026copy%3B%20%5Cu003ca%20href%3D%5C%22http%3A//openstreetmap.org%5C%22%5Cu003eOpenStreetMap%5Cu003c/a%5Cu003e%2C%20under%20%5Cu003ca%20href%3D%5C%22http%3A//www.openstreetmap.org/copyright%5C%22%5Cu003eODbL%5Cu003c/a%5Cu003e.%22%2C%20%22detectRetina%22%3A%20false%2C%20%22maxNativeZoom%22%3A%2018%2C%20%22maxZoom%22%3A%2018%2C%20%22minZoom%22%3A%200%2C%20%22noWrap%22%3A%20false%2C%20%22opacity%22%3A%201%2C%20%22subdomains%22%3A%20%22abc%22%2C%20%22tms%22%3A%20false%7D%0A%20%20%20%20%20%20%20%20%20%20%20%20%29.addTo%28map_e8cb8dbc152e41e68dd115d8b3595633%29%3B%0A%20%20%20%20%20%20%20%20%0A%20%20%20%20%0A%20%20%20%20%20%20%20%20%20%20%20%20var%20tile_layer_1e6a2f42e2984e58908caf0006d97b74%20%3D%20L.tileLayer%28%0A%20%20%20%20%20%20%20%20%20%20%20%20%20%20%20%20%22https%3A//%7Bs%7D.tile.openstreetmap.org/%7Bz%7D/%7Bx%7D/%7By%7D.png%22%2C%0A%20%20%20%20%20%20%20%20%20%20%20%20%20%20%20%20%7B%22attribution%22%3A%20%22Data%20by%20%5Cu0026copy%3B%20%5Cu003ca%20href%3D%5C%22http%3A//openstreetmap.org%5C%22%5Cu003eOpenStreetMap%5Cu003c/a%5Cu003e%2C%20under%20%5Cu003ca%20href%3D%5C%22http%3A//www.openstreetmap.org/copyright%5C%22%5Cu003eODbL%5Cu003c/a%5Cu003e.%22%2C%20%22detectRetina%22%3A%20false%2C%20%22maxNativeZoom%22%3A%2018%2C%20%22maxZoom%22%3A%2018%2C%20%22minZoom%22%3A%200%2C%20%22noWrap%22%3A%20false%2C%20%22opacity%22%3A%201%2C%20%22subdomains%22%3A%20%22abc%22%2C%20%22tms%22%3A%20false%7D%0A%20%20%20%20%20%20%20%20%20%20%20%20%29.addTo%28map_e8cb8dbc152e41e68dd115d8b3595633%29%3B%0A%20%20%20%20%20%20%20%20%0A%20%20%20%20%0A%20%20%20%20%20%20%20%20%20%20%20%20var%20tile_layer_94336663342d4232952651e390c5a6bc%20%3D%20L.tileLayer%28%0A%20%20%20%20%20%20%20%20%20%20%20%20%20%20%20%20%22https%3A//stamen-tiles-%7Bs%7D.a.ssl.fastly.net/terrain/%7Bz%7D/%7Bx%7D/%7By%7D.jpg%22%2C%0A%20%20%20%20%20%20%20%20%20%20%20%20%20%20%20%20%7B%22attribution%22%3A%20%22Map%20tiles%20by%20%5Cu003ca%20href%3D%5C%22http%3A//stamen.com%5C%22%5Cu003eStamen%20Design%5Cu003c/a%5Cu003e%2C%20under%20%5Cu003ca%20href%3D%5C%22http%3A//creativecommons.org/licenses/by/3.0%5C%22%5Cu003eCC%20BY%203.0%5Cu003c/a%5Cu003e.%20Data%20by%20%5Cu0026copy%3B%20%5Cu003ca%20href%3D%5C%22http%3A//openstreetmap.org%5C%22%5Cu003eOpenStreetMap%5Cu003c/a%5Cu003e%2C%20under%20%5Cu003ca%20href%3D%5C%22http%3A//creativecommons.org/licenses/by-sa/3.0%5C%22%5Cu003eCC%20BY%20SA%5Cu003c/a%5Cu003e.%22%2C%20%22detectRetina%22%3A%20false%2C%20%22maxNativeZoom%22%3A%2018%2C%20%22maxZoom%22%3A%2018%2C%20%22minZoom%22%3A%200%2C%20%22noWrap%22%3A%20false%2C%20%22opacity%22%3A%201%2C%20%22subdomains%22%3A%20%22abc%22%2C%20%22tms%22%3A%20false%7D%0A%20%20%20%20%20%20%20%20%20%20%20%20%29.addTo%28map_e8cb8dbc152e41e68dd115d8b3595633%29%3B%0A%20%20%20%20%20%20%20%20%0A%20%20%20%20%0A%20%20%20%20%20%20%20%20%20%20%20%20var%20tile_layer_4b0ddcb9b952488280778c8bcb63f213%20%3D%20L.tileLayer%28%0A%20%20%20%20%20%20%20%20%20%20%20%20%20%20%20%20%22https%3A//stamen-tiles-%7Bs%7D.a.ssl.fastly.net/toner/%7Bz%7D/%7Bx%7D/%7By%7D.png%22%2C%0A%20%20%20%20%20%20%20%20%20%20%20%20%20%20%20%20%7B%22attribution%22%3A%20%22Map%20tiles%20by%20%5Cu003ca%20href%3D%5C%22http%3A//stamen.com%5C%22%5Cu003eStamen%20Design%5Cu003c/a%5Cu003e%2C%20under%20%5Cu003ca%20href%3D%5C%22http%3A//creativecommons.org/licenses/by/3.0%5C%22%5Cu003eCC%20BY%203.0%5Cu003c/a%5Cu003e.%20Data%20by%20%5Cu0026copy%3B%20%5Cu003ca%20href%3D%5C%22http%3A//openstreetmap.org%5C%22%5Cu003eOpenStreetMap%5Cu003c/a%5Cu003e%2C%20under%20%5Cu003ca%20href%3D%5C%22http%3A//www.openstreetmap.org/copyright%5C%22%5Cu003eODbL%5Cu003c/a%5Cu003e.%22%2C%20%22detectRetina%22%3A%20false%2C%20%22maxNativeZoom%22%3A%2018%2C%20%22maxZoom%22%3A%2018%2C%20%22minZoom%22%3A%200%2C%20%22noWrap%22%3A%20false%2C%20%22opacity%22%3A%201%2C%20%22subdomains%22%3A%20%22abc%22%2C%20%22tms%22%3A%20false%7D%0A%20%20%20%20%20%20%20%20%20%20%20%20%29.addTo%28map_e8cb8dbc152e41e68dd115d8b3595633%29%3B%0A%20%20%20%20%20%20%20%20%0A%20%20%20%20%0A%20%20%20%20%20%20%20%20%20%20%20%20var%20tile_layer_37b2106cc4564d24b0f096f1f0ae0d49%20%3D%20L.tileLayer%28%0A%20%20%20%20%20%20%20%20%20%20%20%20%20%20%20%20%22https%3A//stamen-tiles-%7Bs%7D.a.ssl.fastly.net/watercolor/%7Bz%7D/%7Bx%7D/%7By%7D.jpg%22%2C%0A%20%20%20%20%20%20%20%20%20%20%20%20%20%20%20%20%7B%22attribution%22%3A%20%22Map%20tiles%20by%20%5Cu003ca%20href%3D%5C%22http%3A//stamen.com%5C%22%5Cu003eStamen%20Design%5Cu003c/a%5Cu003e%2C%20under%20%5Cu003ca%20href%3D%5C%22http%3A//creativecommons.org/licenses/by/3.0%5C%22%5Cu003eCC%20BY%203.0%5Cu003c/a%5Cu003e.%20Data%20by%20%5Cu0026copy%3B%20%5Cu003ca%20href%3D%5C%22http%3A//openstreetmap.org%5C%22%5Cu003eOpenStreetMap%5Cu003c/a%5Cu003e%2C%20under%20%5Cu003ca%20href%3D%5C%22http%3A//creativecommons.org/licenses/by-sa/3.0%5C%22%5Cu003eCC%20BY%20SA%5Cu003c/a%5Cu003e.%22%2C%20%22detectRetina%22%3A%20false%2C%20%22maxNativeZoom%22%3A%2018%2C%20%22maxZoom%22%3A%2018%2C%20%22minZoom%22%3A%200%2C%20%22noWrap%22%3A%20false%2C%20%22opacity%22%3A%201%2C%20%22subdomains%22%3A%20%22abc%22%2C%20%22tms%22%3A%20false%7D%0A%20%20%20%20%20%20%20%20%20%20%20%20%29.addTo%28map_e8cb8dbc152e41e68dd115d8b3595633%29%3B%0A%20%20%20%20%20%20%20%20%0A%20%20%20%20%0A%20%20%20%20%20%20%20%20%20%20%20%20var%20tile_layer_d879cf0e5c0140c597c98be9b99ea033%20%3D%20L.tileLayer%28%0A%20%20%20%20%20%20%20%20%20%20%20%20%20%20%20%20%22https%3A//cartodb-basemaps-%7Bs%7D.global.ssl.fastly.net/light_all/%7Bz%7D/%7Bx%7D/%7By%7D.png%22%2C%0A%20%20%20%20%20%20%20%20%20%20%20%20%20%20%20%20%7B%22attribution%22%3A%20%22%5Cu0026copy%3B%20%5Cu003ca%20href%3D%5C%22http%3A//www.openstreetmap.org/copyright%5C%22%5Cu003eOpenStreetMap%5Cu003c/a%5Cu003e%20contributors%20%5Cu0026copy%3B%20%5Cu003ca%20href%3D%5C%22http%3A//cartodb.com/attributions%5C%22%5Cu003eCartoDB%5Cu003c/a%5Cu003e%2C%20CartoDB%20%5Cu003ca%20href%20%3D%5C%22http%3A//cartodb.com/attributions%5C%22%5Cu003eattributions%5Cu003c/a%5Cu003e%22%2C%20%22detectRetina%22%3A%20false%2C%20%22maxNativeZoom%22%3A%2018%2C%20%22maxZoom%22%3A%2018%2C%20%22minZoom%22%3A%200%2C%20%22noWrap%22%3A%20false%2C%20%22opacity%22%3A%201%2C%20%22subdomains%22%3A%20%22abc%22%2C%20%22tms%22%3A%20false%7D%0A%20%20%20%20%20%20%20%20%20%20%20%20%29.addTo%28map_e8cb8dbc152e41e68dd115d8b3595633%29%3B%0A%20%20%20%20%20%20%20%20%0A%20%20%20%20%0A%20%20%20%20%20%20%20%20%20%20%20%20var%20tile_layer_fa47cd9d299c41a38171d0b7f7a14304%20%3D%20L.tileLayer%28%0A%20%20%20%20%20%20%20%20%20%20%20%20%20%20%20%20%22https%3A//cartodb-basemaps-%7Bs%7D.global.ssl.fastly.net/dark_all/%7Bz%7D/%7Bx%7D/%7By%7D.png%22%2C%0A%20%20%20%20%20%20%20%20%20%20%20%20%20%20%20%20%7B%22attribution%22%3A%20%22%5Cu0026copy%3B%20%5Cu003ca%20href%3D%5C%22http%3A//www.openstreetmap.org/copyright%5C%22%5Cu003eOpenStreetMap%5Cu003c/a%5Cu003e%20contributors%20%5Cu0026copy%3B%20%5Cu003ca%20href%3D%5C%22http%3A//cartodb.com/attributions%5C%22%5Cu003eCartoDB%5Cu003c/a%5Cu003e%2C%20CartoDB%20%5Cu003ca%20href%20%3D%5C%22http%3A//cartodb.com/attributions%5C%22%5Cu003eattributions%5Cu003c/a%5Cu003e%22%2C%20%22detectRetina%22%3A%20false%2C%20%22maxNativeZoom%22%3A%2018%2C%20%22maxZoom%22%3A%2018%2C%20%22minZoom%22%3A%200%2C%20%22noWrap%22%3A%20false%2C%20%22opacity%22%3A%201%2C%20%22subdomains%22%3A%20%22abc%22%2C%20%22tms%22%3A%20false%7D%0A%20%20%20%20%20%20%20%20%20%20%20%20%29.addTo%28map_e8cb8dbc152e41e68dd115d8b3595633%29%3B%0A%20%20%20%20%20%20%20%20%0A%20%20%20%20%0A%20%20%20%20%20%20%20%20%20%20%20%20var%20tile_layer_90b567e3ff2f48e38f7a2b09fcf680bd%20%3D%20L.tileLayer%28%0A%20%20%20%20%20%20%20%20%20%20%20%20%20%20%20%20%22https%3A//%7Bs%7D.tile.openstreetmap.org/%7Bz%7D/%7Bx%7D/%7By%7D.png%22%2C%0A%20%20%20%20%20%20%20%20%20%20%20%20%20%20%20%20%7B%22attribution%22%3A%20%22Data%20by%20%5Cu0026copy%3B%20%5Cu003ca%20href%3D%5C%22http%3A//openstreetmap.org%5C%22%5Cu003eOpenStreetMap%5Cu003c/a%5Cu003e%2C%20under%20%5Cu003ca%20href%3D%5C%22http%3A//www.openstreetmap.org/copyright%5C%22%5Cu003eODbL%5Cu003c/a%5Cu003e.%22%2C%20%22detectRetina%22%3A%20false%2C%20%22maxNativeZoom%22%3A%2018%2C%20%22maxZoom%22%3A%2018%2C%20%22minZoom%22%3A%200%2C%20%22noWrap%22%3A%20false%2C%20%22opacity%22%3A%201%2C%20%22subdomains%22%3A%20%22abc%22%2C%20%22tms%22%3A%20false%7D%0A%20%20%20%20%20%20%20%20%20%20%20%20%29%3B%0A%20%20%20%20%20%20%20%20%20%20%20%20var%20mini_map_75f45b482adc4cdb8bc1267cea05502b%20%3D%20new%20L.Control.MiniMap%28%0A%20%20%20%20%20%20%20%20%20%20%20%20%20%20%20%20tile_layer_90b567e3ff2f48e38f7a2b09fcf680bd%2C%0A%20%20%20%20%20%20%20%20%20%20%20%20%20%20%20%20%7B%22autoToggleDisplay%22%3A%20false%2C%20%22centerFixed%22%3A%20false%2C%20%22collapsedHeight%22%3A%2025%2C%20%22collapsedWidth%22%3A%2025%2C%20%22height%22%3A%20150%2C%20%22minimized%22%3A%20false%2C%20%22position%22%3A%20%22bottomright%22%2C%20%22toggleDisplay%22%3A%20true%2C%20%22width%22%3A%20150%2C%20%22zoomAnimation%22%3A%20false%2C%20%22zoomLevelOffset%22%3A%20-5%7D%0A%20%20%20%20%20%20%20%20%20%20%20%20%29%3B%0A%20%20%20%20%20%20%20%20%20%20%20%20map_e8cb8dbc152e41e68dd115d8b3595633.addControl%28mini_map_75f45b482adc4cdb8bc1267cea05502b%29%3B%0A%20%20%20%20%20%20%20%20%0A%20%20%20%20%0A%20%20%20%20%20%20%20%20%20%20%20%20var%20layer_control_9bc8cb65e7ba43d6adb99d304bbf876f%20%3D%20%7B%0A%20%20%20%20%20%20%20%20%20%20%20%20%20%20%20%20base_layers%20%3A%20%7B%0A%20%20%20%20%20%20%20%20%20%20%20%20%20%20%20%20%20%20%20%20%22openstreetmap%22%20%3A%20tile_layer_1e6a2f42e2984e58908caf0006d97b74%2C%0A%20%20%20%20%20%20%20%20%20%20%20%20%20%20%20%20%20%20%20%20%22stamenterrain%22%20%3A%20tile_layer_94336663342d4232952651e390c5a6bc%2C%0A%20%20%20%20%20%20%20%20%20%20%20%20%20%20%20%20%20%20%20%20%22stamentoner%22%20%3A%20tile_layer_4b0ddcb9b952488280778c8bcb63f213%2C%0A%20%20%20%20%20%20%20%20%20%20%20%20%20%20%20%20%20%20%20%20%22stamenwatercolor%22%20%3A%20tile_layer_37b2106cc4564d24b0f096f1f0ae0d49%2C%0A%20%20%20%20%20%20%20%20%20%20%20%20%20%20%20%20%20%20%20%20%22cartodbpositron%22%20%3A%20tile_layer_d879cf0e5c0140c597c98be9b99ea033%2C%0A%20%20%20%20%20%20%20%20%20%20%20%20%20%20%20%20%20%20%20%20%22cartodbdark_matter%22%20%3A%20tile_layer_fa47cd9d299c41a38171d0b7f7a14304%2C%0A%20%20%20%20%20%20%20%20%20%20%20%20%20%20%20%20%7D%2C%0A%20%20%20%20%20%20%20%20%20%20%20%20%20%20%20%20overlays%20%3A%20%20%7B%0A%20%20%20%20%20%20%20%20%20%20%20%20%20%20%20%20%7D%2C%0A%20%20%20%20%20%20%20%20%20%20%20%20%7D%3B%0A%20%20%20%20%20%20%20%20%20%20%20%20L.control.layers%28%0A%20%20%20%20%20%20%20%20%20%20%20%20%20%20%20%20layer_control_9bc8cb65e7ba43d6adb99d304bbf876f.base_layers%2C%0A%20%20%20%20%20%20%20%20%20%20%20%20%20%20%20%20layer_control_9bc8cb65e7ba43d6adb99d304bbf876f.overlays%2C%0A%20%20%20%20%20%20%20%20%20%20%20%20%20%20%20%20%7B%22autoZIndex%22%3A%20true%2C%20%22collapsed%22%3A%20true%2C%20%22position%22%3A%20%22topright%22%7D%0A%20%20%20%20%20%20%20%20%20%20%20%20%29.addTo%28map_e8cb8dbc152e41e68dd115d8b3595633%29%3B%0A%20%20%20%20%20%20%20%20%20%20%20%20tile_layer_94336663342d4232952651e390c5a6bc.remove%28%29%3B%0A%20%20%20%20%20%20%20%20%20%20%20%20tile_layer_4b0ddcb9b952488280778c8bcb63f213.remove%28%29%3B%0A%20%20%20%20%20%20%20%20%20%20%20%20tile_layer_37b2106cc4564d24b0f096f1f0ae0d49.remove%28%29%3B%0A%20%20%20%20%20%20%20%20%20%20%20%20tile_layer_d879cf0e5c0140c597c98be9b99ea033.remove%28%29%3B%0A%20%20%20%20%20%20%20%20%20%20%20%20tile_layer_fa47cd9d299c41a38171d0b7f7a14304.remove%28%29%3B%0A%20%20%20%20%20%20%20%20%0A%20%20%20%20%0A%20%20%20%20%20%20%20%20%20%20%20%20var%20marker_dad0cf35b13e4497881e5f44563af2d9%20%3D%20L.marker%28%0A%20%20%20%20%20%20%20%20%20%20%20%20%20%20%20%20%5B35.22587%2C%20138.892307%5D%2C%0A%20%20%20%20%20%20%20%20%20%20%20%20%20%20%20%20%7B%7D%0A%20%20%20%20%20%20%20%20%20%20%20%20%29.addTo%28map_e8cb8dbc152e41e68dd115d8b3595633%29%3B%0A%20%20%20%20%20%20%20%20%0A%20%20%20%20%0A%20%20%20%20%20%20%20%20%20%20%20%20marker_dad0cf35b13e4497881e5f44563af2d9.bindTooltip%28%0A%20%20%20%20%20%20%20%20%20%20%20%20%20%20%20%20%60%3Cdiv%3E%0A%20%20%20%20%20%20%20%20%20%20%20%20%20%20%20%20%20%20%20%20%20click%0A%20%20%20%20%20%20%20%20%20%20%20%20%20%20%20%20%20%3C/div%3E%60%2C%0A%20%20%20%20%20%20%20%20%20%20%20%20%20%20%20%20%7B%22sticky%22%3A%20true%7D%0A%20%20%20%20%20%20%20%20%20%20%20%20%29%3B%0A%20%20%20%20%20%20%20%20%0A%20%20%20%20%0A%20%20%20%20%20%20%20%20%20%20%20%20var%20marker_463886a025914399b3eb152475d8a22c%20%3D%20L.marker%28%0A%20%20%20%20%20%20%20%20%20%20%20%20%20%20%20%20%5B35.210735%2C%20138.900702%5D%2C%0A%20%20%20%20%20%20%20%20%20%20%20%20%20%20%20%20%7B%7D%0A%20%20%20%20%20%20%20%20%20%20%20%20%29.addTo%28map_e8cb8dbc152e41e68dd115d8b3595633%29%3B%0A%20%20%20%20%20%20%20%20%0A%20%20%20%20%0A%20%20%20%20%20%20%20%20%20%20%20%20marker_463886a025914399b3eb152475d8a22c.bindTooltip%28%0A%20%20%20%20%20%20%20%20%20%20%20%20%20%20%20%20%60%3Cdiv%3E%0A%20%20%20%20%20%20%20%20%20%20%20%20%20%20%20%20%20%20%20%20%20click%0A%20%20%20%20%20%20%20%20%20%20%20%20%20%20%20%20%20%3C/div%3E%60%2C%0A%20%20%20%20%20%20%20%20%20%20%20%20%20%20%20%20%7B%22sticky%22%3A%20true%7D%0A%20%20%20%20%20%20%20%20%20%20%20%20%29%3B%0A%20%20%20%20%20%20%20%20%0A%20%20%20%20%0A%20%20%20%20%20%20%20%20%20%20%20%20ant_path_11b040c88c5048acb6bb1268011dbc0b%20%3D%20L.polyline.antPath%28%0A%20%20%20%20%20%20%20%20%20%20%20%20%20%20%5B%5B35.225870000000825%2C%20138.8923066666669%5D%2C%20%5B35.22587000827441%2C%20138.89230666908557%5D%2C%20%5B35.22587013216813%2C%20138.89230657023643%5D%2C%20%5B35.2258703696287%2C%20138.8923063695023%5D%2C%20%5B35.22587071861091%2C%20138.8923060662583%5D%2C%20%5B35.225871177071454%2C%20138.8923056598767%5D%2C%20%5B35.225871742959995%2C%20138.89230514973448%5D%2C%20%5B35.22587241420753%2C%20138.89230453522336%5D%2C%20%5B35.225873188712%2C%20138.8923038157626%5D%2C%20%5B35.22587406432134%2C%20138.89230299081424%5D%2C%20%5B35.22587503981386%2C%20138.89230205906773%5D%2C%20%5B35.22587611262625%2C%20138.892301020502%5D%2C%20%5B35.22587727966229%2C%20138.89229987520056%5D%2C%20%5B35.225878537640675%2C%20138.89229862354404%5D%2C%20%5B35.225879882732215%2C%20138.89229726640556%5D%2C%20%5B35.22588131090299%2C%20138.89229580497374%5D%2C%20%5B35.225882817713654%2C%20138.89229424057848%5D%2C%20%5B35.225884398116605%2C%20138.89229257489427%5D%2C%20%5B35.22588604662618%2C%20138.8922908101461%5D%2C%20%5B35.22588775748689%2C%20138.89228894894302%5D%2C%20%5B35.22588952446499%2C%20138.89228699411413%5D%2C%20%5B35.22589134080507%2C%20138.8922849489222%5D%2C%20%5B35.22589319918522%2C%20138.89228281711274%5D%2C%20%5B35.22589509167088%2C%20138.89228060296554%5D%2C%20%5B35.22589700950091%2C%20138.89227831134838%5D%2C%20%5B35.22589894341442%2C%20138.89227594793954%5D%2C%20%5B35.22590088037422%2C%20138.89227352181595%5D%2C%20%5B35.22590281346543%2C%20138.8922710362378%5D%2C%20%5B35.22590473189811%2C%20138.89226849815145%5D%2C%20%5B35.22590662401885%2C%20138.8922659155139%5D%2C%20%5B35.22590847726163%2C%20138.89226329698178%5D%2C%20%5B35.2259102780993%2C%20138.89226065214362%5D%2C%20%5B35.225912011995845%2C%20138.8922579915863%5D%2C%20%5B35.225913663526626%2C%20138.89225532696202%5D%2C%20%5B35.22591521595845%2C%20138.8922526710562%5D%2C%20%5B35.2259166513733%2C%20138.89225003785532%5D%2C%20%5B35.22591795062773%2C%20138.8922474426146%5D%2C%20%5B35.225919093315056%2C%20138.89224490192555%5D%2C%20%5B35.22592005773083%2C%20138.89224243378231%5D%2C%20%5B35.22592082084212%2C%20138.89224005781378%5D%2C%20%5B35.22592135826109%2C%20138.89223779497217%5D%2C%20%5B35.22592164422347%2C%20138.89223566776133%5D%2C%20%5B35.22592165173923%2C%20138.89223370029535%5D%2C%20%5B35.22592135220772%2C%20138.89223191835436%5D%2C%20%5B35.22592071558129%2C%20138.89223034943612%5D%2C%20%5B35.22591947732242%2C%20138.8922292430885%5D%2C%20%5B35.22591789596376%2C%20138.89222835521392%5D%2C%20%5B35.22591599538602%2C%20138.8922276636238%5D%2C%20%5B35.22591379807392%2C%20138.89222714794045%5D%2C%20%5B35.22591132516597%2C%20138.8922267896121%5D%2C%20%5B35.22590859667814%2C%20138.89222657192406%5D%2C%20%5B35.22590563119275%2C%20138.89222648000592%5D%2C%20%5B35.22590244626182%2C%20138.8922265008356%5D%2C%20%5B35.22589905810796%2C%20138.89222662324025%5D%2C%20%5B35.225895481872335%2C%20138.8922268378947%5D%2C%20%5B35.22589173170083%2C%20138.8922271373174%5D%2C%20%5B35.22588782100155%2C%20138.892227516031%5D%2C%20%5B35.22588376216493%2C%20138.89222797017928%5D%2C%20%5B35.22587956682941%2C%20138.89222849768402%5D%2C%20%5B35.225875246150714%2C%20138.89222909823346%5D%2C%20%5B35.22587081053286%2C%20138.89222977326895%5D%2C%20%5B35.22586626990389%2C%20138.89223052597026%5D%2C%20%5B35.22586163382774%2C%20138.89223136123888%5D%2C%20%5B35.225856911618735%2C%20138.89223228567968%5D%2C%20%5B35.225852112625056%2C%20138.89223330758088%5D%2C%20%5B35.225847245972766%2C%20138.89223443689153%5D%2C%20%5B35.22584232085334%2C%20138.8922356851971%5D%2C%20%5B35.225837346646244%2C%20138.8922370656924%5D%2C%20%5B35.22583233304304%2C%20138.89223859315163%5D%2C%20%5B35.22582729017265%2C%20138.89224028389535%5D%2C%20%5B35.225822228727786%2C%20138.89224215575402%5D%2C%20%5B35.225817160092014%2C%20138.8922442280274%5D%2C%20%5B35.225812096467465%2C%20138.89224652143974%5D%2C%20%5B35.22580705100279%2C%20138.89224905809007%5D%2C%20%5B35.225802067878874%2C%20138.8922520889016%5D%2C%20%5B35.22579713036963%2C%20138.89225535881795%5D%2C%20%5B35.22579224112493%2C%20138.89225883122896%5D%2C%20%5B35.22578740953946%2C%20138.8922624750353%5D%2C%20%5B35.22578264658263%2C%20138.89226626010057%5D%2C%20%5B35.22577796492047%2C%20138.89227015715738%5D%2C%20%5B35.22577337903598%2C%20138.89227413770962%5D%2C%20%5B35.225768905514265%2C%20138.89227817393228%5D%2C%20%5B35.22576457122666%2C%20138.89228224041847%5D%2C%20%5B35.22576038617286%2C%20138.89228630806574%5D%2C%20%5B35.22575637119596%2C%20138.8922903499817%5D%2C%20%5B35.22575254927144%2C%20138.8922943395303%5D%2C%20%5B35.22574894577646%2C%20138.89229825022827%5D%2C%20%5B35.22574558858794%2C%20138.89230205564255%5D%2C%20%5B35.22574250817548%2C%20138.89230572928997%5D%2C%20%5B35.225739737688286%2C%20138.8923092445395%5D%2C%20%5B35.22573731303554%2C%20138.89231257451766%5D%2C%20%5B35.22573527295921%2C%20138.89231569201806%5D%2C%20%5B35.225733659098594%2C%20138.8923185694153%5D%2C%20%5B35.22573251604542%2C%20138.89232117858433%5D%2C%20%5B35.225731891388705%2C%20138.8923234908258%5D%2C%20%5B35.2257322878398%2C%20138.8923252744423%5D%2C%20%5B35.22573319400014%2C%20138.89232675247945%5D%2C%20%5B35.22573455359836%2C%20138.89232794467335%5D%2C%20%5B35.22573631337023%2C%20138.89232886993767%5D%2C%20%5B35.22573842301938%2C%20138.8923295463358%5D%2C%20%5B35.225740835168246%2C%20138.89232999105946%5D%2C%20%5B35.22574350530062%2C%20138.89233022041356%5D%2C%20%5B35.22574639169687%2C%20138.89233024997336%5D%2C%20%5B35.22574945536304%2C%20138.8923300942053%5D%2C%20%5B35.22575265995474%2C%20138.8923297666344%5D%2C%20%5B35.225755971697%2C%20138.89232927984943%5D%2C%20%5B35.225759359300696%2C%20138.8923286455124%5D%2C%20%5B35.22576279387668%2C%20138.89232787437197%5D%2C%20%5B35.225766248848196%2C%20138.89232697628026%5D%2C%20%5B35.22576969986232%2C%20138.89232596021316%5D%2C%20%5B35.225773124701206%2C%20138.89232483429373%5D%2C%20%5B35.225776503193536%2C%20138.89232360581835%5D%2C%20%5B35.225779817126934%2C%20138.89232228111896%5D%2C%20%5B35.22578305016163%2C%20138.8923208659694%5D%2C%20%5B35.22578618774602%2C%20138.8923193654524%5D%2C%20%5B35.22578921703435%2C%20138.8923177839956%5D%2C%20%5B35.22579212680702%2C%20138.89231612540928%5D%2C%20%5B35.22579490739373%2C%20138.89231439292652%5D%2C%20%5B35.22579755059973%2C%20138.89231258924482%5D%2C%20%5B35.22580004963554%2C%20138.89231071640307%5D%2C%20%5B35.22580239905015%2C%20138.89230877620187%5D%2C%20%5B35.22580459466803%2C%20138.8923067700838%5D%2C%20%5B35.22580663352993%2C%20138.89230469918212%5D%2C%20%5B35.225808513837755%2C%20138.8923025643711%5D%2C%20%5B35.22581023490337%2C%20138.89230036631776%5D%2C%20%5B35.22581179710154%2C%20138.89229810553525%5D%2C%20%5B35.22581320182694%2C%20138.8922957824381%5D%2C%20%5B35.225814451621886%2C%20138.89229339739862%5D%2C%20%5B35.22581554976651%2C%20138.89229095080492%5D%2C%20%5B35.225816500414474%2C%20138.8922884431208%5D%2C%20%5B35.22581730856596%2C%20138.89228587494682%5D%2C%20%5B35.225817980044376%2C%20138.89228324708307%5D%2C%20%5B35.225818521476754%2C%20138.89228056059343%5D%2C%20%5B35.22581894027763%2C%20138.89227781687148%5D%2C%20%5B35.22581924463621%2C%20138.89227501770768%5D%2C%20%5B35.22581944350679%2C%20138.89227216535818%5D%2C%20%5B35.225819546768655%2C%20138.89226926261506%5D%2C%20%5B35.22581956484708%2C%20138.89226631287792%5D%2C%20%5B35.22581950887851%2C%20138.8922633202267%5D%2C%20%5B35.225819390711195%2C%20138.8922602894959%5D%2C%20%5B35.22581922290779%2C%20138.89225722634993%5D%2C%20%5B35.22581901874952%2C%20138.89225413735937%5D%2C%20%5B35.22581879224176%2C%20138.8922510300782%5D%2C%20%5B35.22581855812051%2C%20138.89224791312176%5D%2C%20%5B35.225818332026186%2C%20138.89224479624545%5D%2C%20%5B35.22581813013608%2C%20138.89224169059005%5D%2C%20%5B35.22581796933826%2C%20138.89223860838604%5D%2C%20%5B35.225817867238305%2C%20138.89223556319885%5D%2C%20%5B35.225817842165114%2C%20138.89223257000748%5D%2C%20%5B35.225817913175256%2C%20138.89222964528204%5D%2C%20%5B35.225818100222206%2C%20138.89222680706018%5D%2C%20%5B35.22581842378154%2C%20138.8922240750221%5D%2C%20%5B35.22581890501498%2C%20138.8922214705635%5D%2C%20%5B35.22581956576442%2C%20138.89221901686588%5D%2C%20%5B35.22582042854207%2C%20138.89221673896407%5D%2C%20%5B35.22582151651623%2C%20138.89221466397674%5D%2C%20%5B35.225822853491955%2C%20138.8922128207911%5D%2C%20%5B35.22582446388634%2C%20138.89221124028415%5D%2C%20%5B35.22582669915343%2C%20138.89221021488234%5D%2C%20%5B35.22582917646389%2C%20138.8922094558885%5D%2C%20%5B35.22583184034274%2C%20138.89220893538695%5D%2C%20%5B35.225834635479266%2C%20138.89220862841617%5D%2C%20%5B35.225837506571516%2C%20138.8922085117293%5D%2C%20%5B35.225840399792595%2C%20138.89220856254946%5D%2C%20%5B35.22584326021348%2C%20138.8922087605703%5D%2C%20%5B35.225846033808544%2C%20138.89220908586955%5D%2C%20%5B35.22584866779532%2C%20138.89220951969367%5D%2C%20%5B35.22585111264318%2C%20138.89221004423942%5D%2C%20%5B35.22585331883589%2C%20138.8922106424747%5D%2C%20%5B35.225855239347204%2C%20138.89221129787364%5D%2C%20%5B35.22585682995602%2C%20138.89221199631672%5D%2C%20%5B35.22585804786058%2C%20138.89221272490624%5D%2C%20%5B35.22585885192609%2C%20138.8922134713226%5D%2C%20%5B35.22585920319188%2C%20138.89221422388826%5D%2C%20%5B35.22585906588901%2C%20138.89221497504778%5D%2C%20%5B35.225858406261274%2C%20138.8922157168483%5D%2C%20%5B35.225857193981916%2C%20138.89221644354512%5D%2C%20%5B35.22585540033377%2C%20138.89221715583227%5D%2C%20%5B35.225852999736674%2C%20138.89221785615797%5D%2C%20%5B35.225849968414764%2C%20138.89221855162373%5D%2C%20%5B35.225846284329116%2C%20138.8922192541758%5D%2C%20%5B35.225841927376315%2C%20138.8922199797557%5D%2C%20%5B35.225836879645215%2C%20138.89222074828425%5D%2C%20%5B35.22583112585742%2C%20138.89222158297864%5D%2C%20%5B35.22582465274191%2C%20138.8922225118357%5D%2C%20%5B35.22581745017762%2C%20138.89222356644717%5D%2C%20%5B35.2258095108542%2C%20138.89222478327116%5D%2C%20%5B35.2258008300347%2C%20138.89222620340115%5D%2C%20%5B35.2257914041286%2C%20138.8922278712064%5D%2C%20%5B35.22578123307511%2C%20138.8922298366342%5D%2C%20%5B35.225770319828825%2C%20138.8922321532565%5D%2C%20%5B35.225758668239294%2C%20138.89223487576774%5D%2C%20%5B35.22574628765756%2C%20138.8922380632658%5D%2C%20%5B35.22573318902006%2C%20138.89224177798158%5D%2C%20%5B35.22571938428426%2C%20138.89224608249697%5D%2C%20%5B35.22570488629893%2C%20138.89225104032516%5D%2C%20%5B35.22568971081725%2C%20138.8922567169759%5D%2C%20%5B35.225673876402496%2C%20138.89226317887986%5D%2C%20%5B35.22565740380928%2C%20138.89227049337828%5D%2C%20%5B35.22564031754815%2C%20138.8922787289015%5D%2C%20%5B35.225622645841526%2C%20138.89228795475128%5D%2C%20%5B35.22560442072034%2C%20138.89229824098533%5D%2C%20%5B35.225585677635706%2C%20138.8923096570267%5D%2C%20%5B35.22556645725143%2C%20138.8923222727471%5D%2C%20%5B35.22554680591665%2C%20138.89233615785517%5D%2C%20%5B35.22552677344262%2C%20138.89235137962962%5D%2C%20%5B35.225506416932355%2C%20138.8923680047456%5D%2C%20%5B35.22548579966213%2C%20138.89238609648405%5D%2C%20%5B35.22546499063838%2C%20138.89240571336413%5D%2C%20%5B35.225444061245035%2C%20138.8924269137801%5D%2C%20%5B35.22542309060424%2C%20138.89244974868345%5D%2C%20%5B35.22540247572611%2C%20138.8924744826496%5D%2C%20%5B35.2253822273058%2C%20138.89250111303343%5D%2C%20%5B35.22536197690651%2C%20138.89252935535075%5D%2C%20%5B35.22534167286258%2C%20138.8925591420507%5D%2C%20%5B35.225321269411886%2C%20138.892590405128%5D%2C%20%5B35.225300721115545%2C%20138.8926230874132%5D%2C%20%5B35.22527998769679%2C%20138.89265713295183%5D%2C%20%5B35.22525903455063%2C%20138.892692486182%5D%2C%20%5B35.22523783325878%2C%20138.8927290910776%5D%2C%20%5B35.22521637394391%2C%20138.89276686725876%5D%2C%20%5B35.22519464384039%2C%20138.89280575248557%5D%2C%20%5B35.225172633829516%2C%20138.89284568845733%5D%2C%20%5B35.22515033314848%2C%20138.89288663175125%5D%2C%20%5B35.22512788015396%2C%20138.89292863243944%5D%2C%20%5B35.22510509453003%2C%20138.8929715372229%5D%2C%20%5B35.22508194036155%2C%20138.89301529400532%5D%2C%20%5B35.225058393652496%2C%20138.89305984002877%5D%2C%20%5B35.22503442827742%2C%20138.89310512769026%5D%2C%20%5B35.22501001998415%2C%20138.89315111658996%5D%2C%20%5B35.22498514474053%2C%20138.89319777718666%5D%2C%20%5B35.22495978384221%2C%20138.89324508131168%5D%2C%20%5B35.22493392115765%2C%20138.89329300662465%5D%2C%20%5B35.2249075425522%2C%20138.89334153834525%5D%2C%20%5B35.22488063803327%2C%20138.89339066505372%5D%2C%20%5B35.22485320490876%2C%20138.89344037314288%5D%2C%20%5B35.224825243501115%2C%20138.89349065433882%5D%2C%20%5B35.224796758833136%2C%20138.8935415023739%5D%2C%20%5B35.2247677621609%2C%20138.8935929100625%5D%2C%20%5B35.22473827197863%2C%20138.89364486802904%5D%2C%20%5B35.224708313412165%2C%20138.89369736613028%5D%2C%20%5B35.224677921792015%2C%20138.89375038682186%5D%2C%20%5B35.22464714086423%2C%20138.8938039083026%5D%2C%20%5B35.224616125729625%2C%20138.89385828743838%5D%2C%20%5B35.22458490913074%2C%20138.89391340219564%5D%2C%20%5B35.22455340806377%2C%20138.893968638603%5D%2C%20%5B35.22452165225718%2C%20138.8940237603263%5D%2C%20%5B35.22448967653709%2C%20138.8940785333871%5D%2C%20%5B35.22445798965923%2C%20138.89413224361206%5D%2C%20%5B35.22442607638015%2C%20138.89418521792788%5D%2C%20%5B35.224393890643604%2C%20138.89423731227376%5D%2C%20%5B35.22436138967253%2C%20138.89428838828715%5D%2C%20%5B35.22432854593607%2C%20138.8943382923208%5D%2C%20%5B35.22429534116768%2C%20138.89438686585893%5D%2C%20%5B35.22426175876775%2C%20138.89443395921202%5D%2C%20%5B35.22422779746536%2C%20138.89447940762096%5D%2C%20%5B35.22419345753273%2C%20138.89452305593812%5D%2C%20%5B35.22415876146761%2C%20138.89456472314234%5D%2C%20%5B35.22412372485405%2C%20138.8946042526046%5D%2C%20%5B35.22408837756466%2C%20138.89464147569743%5D%2C%20%5B35.224052756056196%2C%20138.89467622624798%5D%2C%20%5B35.224016895131896%2C%20138.89470835559095%5D%2C%20%5B35.223980843335475%2C%20138.89473770685169%5D%2C%20%5B35.223944655352526%2C%20138.89476412933536%5D%2C%20%5B35.2239083897506%2C%20138.8947874809867%5D%2C%20%5B35.22387210101477%2C%20138.89480764254841%5D%2C%20%5B35.22383585395972%2C%20138.8948244944655%5D%2C%20%5B35.22379971631012%2C%20138.89483793032755%5D%2C%20%5B35.22376375398855%2C%20138.894847867687%5D%2C%20%5B35.22372804302555%2C%20138.89485423004803%5D%2C%20%5B35.22369266350795%2C%20138.8948569596107%5D%2C%20%5B35.22365769943798%2C%20138.8948560190227%5D%2C%20%5B35.22362323004284%2C%20138.8948513893074%5D%2C%20%5B35.223589344156686%2C%20138.89484307205203%5D%2C%20%5B35.2235561339663%2C%20138.8948310873154%5D%2C%20%5B35.22352368549241%2C%20138.8948154645878%5D%2C%20%5B35.22349209376191%2C%20138.89479625709345%5D%2C%20%5B35.2234614550869%2C%20138.8947735317699%5D%2C%20%5B35.22343210344562%2C%20138.89474751084663%5D%2C%20%5B35.223404068837986%2C%20138.89471823987458%5D%2C%20%5B35.22337709135573%2C%20138.89468560304803%5D%2C%20%5B35.2233511471344%2C%20138.8946496389855%5D%2C%20%5B35.22332620473561%2C%20138.8946103885827%5D%2C%20%5B35.22330223745915%2C%20138.89456791124903%5D%2C%20%5B35.223279216547176%2C%20138.89452227651987%5D%2C%20%5B35.22325710928056%2C%20138.89447356387535%5D%2C%20%5B35.223235876259466%2C%20138.8944218485143%5D%2C%20%5B35.22321547895207%2C%20138.89436722491283%5D%2C%20%5B35.22319587559656%2C%20138.89430979491829%5D%2C%20%5B35.223177019248524%2C%20138.89424965212518%5D%2C%20%5B35.22315886293305%2C%20138.8941869089868%5D%2C%20%5B35.22314135756974%2C%20138.8941216825801%5D%2C%20%5B35.2231244516717%2C%20138.89405409214436%5D%2C%20%5B35.223108088861416%2C%20138.8939842442237%5D%2C%20%5B35.22309221312103%2C%20138.8939122610342%5D%2C%20%5B35.22307676590416%2C%20138.8938382655556%5D%2C%20%5B35.223061683776976%2C%20138.89376236667655%5D%2C%20%5B35.22304690329799%2C%20138.8936846875555%5D%2C%20%5B35.22303235734713%2C%20138.89360535090526%5D%2C%20%5B35.223017975113514%2C%20138.89352447753072%5D%2C%20%5B35.223003684785375%2C%20138.89344217282434%5D%2C%20%5B35.222989410569085%2C%20138.89335855379852%5D%2C%20%5B35.22297507537218%2C%20138.89327373490488%5D%2C%20%5B35.222960606735846%2C%20138.89318781659455%5D%2C%20%5B35.22294592985268%2C%20138.8931009109487%5D%2C%20%5B35.222930972670966%2C%20138.893013129671%5D%2C%20%5B35.222915669129385%2C%20138.8929245832298%5D%2C%20%5B35.22289995902432%2C%20138.892835364772%5D%2C%20%5B35.22288378755311%2C%20138.89274557984604%5D%2C%20%5B35.22286710507632%2C%20138.89265533172627%5D%2C%20%5B35.22284986689204%2C%20138.8925647062096%5D%2C%20%5B35.22283203448185%2C%20138.89247380104692%5D%2C%20%5B35.22281357585455%2C%20138.89238271105174%5D%2C%20%5B35.22279446565548%2C%20138.8922915271741%5D%2C%20%5B35.222774684417075%2C%20138.89220032387024%5D%2C%20%5B35.222754222701354%2C%20138.89210918572292%5D%2C%20%5B35.22273308005186%2C%20138.89201819472999%5D%2C%20%5B35.222711257463466%2C%20138.89192741759103%5D%2C%20%5B35.22268876857772%2C%20138.89183693182218%5D%2C%20%5B35.222665633271426%2C%20138.89174681357488%5D%2C%20%5B35.22264187684589%2C%20138.89165713586408%5D%2C%20%5B35.222617521774445%2C%20138.89156795712006%5D%2C%20%5B35.222592602798656%2C%20138.891479345603%5D%2C%20%5B35.22256715841566%2C%20138.8913913683058%5D%2C%20%5B35.22254122021329%2C%20138.89130407984285%5D%2C%20%5B35.22251483100939%2C%20138.89121754482156%5D%2C%20%5B35.222488033587865%2C%20138.89113182815598%5D%2C%20%5B35.22246086944602%2C%20138.89104699469507%5D%2C%20%5B35.222433370176965%2C%20138.8909630998721%5D%2C%20%5B35.22240557331859%2C%20138.8908802104976%5D%2C%20%5B35.22237751321142%2C%20138.89079839553025%5D%2C%20%5B35.222349214030324%2C%20138.89071771573913%5D%2C%20%5B35.22232070265511%2C%20138.890638245922%5D%2C%20%5B35.22229200167234%2C%20138.89056006480473%5D%2C%20%5B35.22226312875706%2C%20138.89048325399423%5D%2C%20%5B35.222234093808716%2C%20138.89040788369118%5D%2C%20%5B35.22220490600737%2C%20138.8903340399506%5D%2C%20%5B35.22217557104044%2C%20138.89026181049144%5D%2C%20%5B35.22214608887463%2C%20138.89019126992633%5D%2C%20%5B35.22211645965601%2C%20138.89012250790833%5D%2C%20%5B35.22208668094702%2C%20138.8900556144448%5D%2C%20%5B35.22205674800869%2C%20138.88999067850068%5D%2C%20%5B35.2220266514196%2C%20138.88992777284628%5D%2C%20%5B35.221996423591634%2C%20138.88986668494465%5D%2C%20%5B35.221966003903404%2C%20138.88980786808543%5D%2C%20%5B35.22193536882214%2C%20138.88975146045826%5D%2C%20%5B35.22190449672675%2C%20138.88969760921364%5D%2C%20%5B35.221873365921574%2C%20138.88964645667954%5D%2C%20%5B35.221841955447644%2C%20138.88959813834688%5D%2C%20%5B35.221810240858886%2C%20138.88955276970367%5D%2C%20%5B35.22177820333827%2C%20138.88951047095438%5D%2C%20%5B35.221745825738765%2C%20138.8894713522495%5D%2C%20%5B35.22171308375761%2C%20138.88943550317083%5D%2C%20%5B35.221679960743266%2C%20138.8894030122183%5D%2C%20%5B35.22164643863736%2C%20138.88937395534012%5D%2C%20%5B35.22161249638422%2C%20138.8893483955858%5D%2C%20%5B35.22157810464189%2C%20138.8893263804642%5D%2C%20%5B35.221543237127726%2C%20138.88930794992027%5D%2C%20%5B35.221507864475534%2C%20138.8892931314313%5D%2C%20%5B35.22147195189602%2C%20138.889281939887%5D%2C%20%5B35.22143546522429%2C%20138.88927438079492%5D%2C%20%5B35.221398369730906%2C%20138.88927044860225%5D%2C%20%5B35.221360632610285%2C%20138.88927008333954%5D%2C%20%5B35.221322215166616%2C%20138.8892733126504%5D%2C%20%5B35.221283084949945%2C%20138.88928011015764%5D%2C%20%5B35.22124321221699%2C%20138.8892904369247%5D%2C%20%5B35.22120256532308%2C%20138.8893042441986%5D%2C%20%5B35.22116111921586%2C%20138.88932146931342%5D%2C%20%5B35.221118850323876%2C%20138.88934203371392%5D%2C%20%5B35.22107573863211%2C%20138.88936584868378%5D%2C%20%5B35.22103176486166%2C%20138.88939282707253%5D%2C%20%5B35.22098691787895%2C%20138.88942286369144%5D%2C%20%5B35.22094119191899%2C%20138.88945584596203%5D%2C%20%5B35.2208945822059%2C%20138.8894916682787%5D%2C%20%5B35.22084709442899%2C%20138.8895302085071%5D%2C%20%5B35.22079874115853%2C%20138.88957134145124%5D%2C%20%5B35.220749541450886%2C%20138.88961494125257%5D%2C%20%5B35.220699515059245%2C%20138.88966089359906%5D%2C%20%5B35.22064869549892%2C%20138.8897090726236%5D%2C%20%5B35.22059712350972%2C%20138.8897593543262%5D%2C%20%5B35.22054483945547%2C%20138.88981162723195%5D%2C%20%5B35.2204918994507%2C%20138.88986577112286%5D%2C%20%5B35.22043836717336%2C%20138.88992166834402%5D%2C%20%5B35.220384313236366%2C%20138.88997920481327%5D%2C%20%5B35.22032980440794%2C%20138.8900382797373%5D%2C%20%5B35.22027492363632%2C%20138.89009878632987%5D%2C%20%5B35.220219759879114%2C%20138.8901606211576%5D%2C%20%5B35.220164396859204%2C%20138.89022369345025%5D%2C%20%5B35.22010893395221%2C%20138.89028790621248%5D%2C%20%5B35.22005396518158%2C%20138.8903529679035%5D%2C%20%5B35.21999898660692%2C%20138.89041903539587%5D%2C%20%5B35.219943977413806%2C%20138.89048608035463%5D%2C%20%5B35.219888930601755%2C%20138.89055406815015%5D%2C%20%5B35.21983384281707%2C%20138.89062296701167%5D%2C%20%5B35.21977870310369%2C%20138.89069275715778%5D%2C%20%5B35.21972351377933%2C%20138.89076341173873%5D%2C%20%5B35.21966827973078%2C%20138.890834906089%5D%2C%20%5B35.21961300771088%2C%20138.89090721791672%5D%2C%20%5B35.219557694886674%2C%20138.8909803361391%5D%2C%20%5B35.219502349887584%2C%20138.8910542419069%5D%2C%20%5B35.21944698160579%2C%20138.89112891694117%5D%2C%20%5B35.219391589622404%2C%20138.89120435401728%5D%2C%20%5B35.21933618375827%2C%20138.89128053593043%5D%2C%20%5B35.21928077337647%2C%20138.89135744456655%5D%2C%20%5B35.21922536656%2C%20138.8914350621208%5D%2C%20%5B35.21916996353959%2C%20138.89151338538144%5D%2C%20%5B35.219114571578814%2C%20138.89159239878913%5D%2C%20%5B35.21905919827661%2C%20138.89167208801885%5D%2C%20%5B35.219003845411166%2C%20138.89175245516986%5D%2C%20%5B35.21894852282441%2C%20138.8918334904404%5D%2C%20%5B35.218893242890175%2C%20138.89191518703416%5D%2C%20%5B35.21883801173182%2C%20138.89199755388358%5D%2C%20%5B35.2187828462715%2C%20138.89208059010858%5D%2C%20%5B35.21872776619599%2C%20138.89216429841537%5D%2C%20%5B35.21867279283778%2C%20138.8922486852711%5D%2C%20%5B35.21861793701254%2C%20138.8923337678949%5D%2C%20%5B35.218563221061196%2C%20138.89241955615%5D%2C%20%5B35.21850866709858%2C%20138.89250606050103%5D%2C%20%5B35.218454295591876%2C%20138.89259329066198%5D%2C%20%5B35.21840011397648%2C%20138.89268126351786%5D%2C%20%5B35.21834613851606%2C%20138.89276998527913%5D%2C%20%5B35.21829238245039%2C%20138.89285945844944%5D%2C%20%5B35.21823884576273%2C%20138.892949691483%5D%2C%20%5B35.218185535190344%2C%20138.89304067771522%5D%2C%20%5B35.21813245348034%2C%20138.89313240477284%5D%2C%20%5B35.218079599514304%2C%20138.89322485517314%5D%2C%20%5B35.21802695942695%2C%20138.89331801907053%5D%2C%20%5B35.21797452392604%2C%20138.8934118686111%5D%2C%20%5B35.21792227981581%2C%20138.8935063703924%5D%2C%20%5B35.217870201514884%2C%20138.89360149790542%5D%2C%20%5B35.217818281781895%2C%20138.89369714849116%5D%2C%20%5B35.2177664785199%2C%20138.89379334136504%5D%2C%20%5B35.217714758816996%2C%20138.89389003214802%5D%2C%20%5B35.21766307669101%2C%20138.893987182594%5D%2C%20%5B35.21761139004455%2C%20138.89408473466867%5D%2C%20%5B35.2175596521612%2C%20138.89418262269834%5D%2C%20%5B35.217507803201315%2C%20138.89428078550787%5D%2C%20%5B35.217455786989525%2C%20138.89437914046738%5D%2C%20%5B35.21740354272198%2C%20138.89447759582157%5D%2C%20%5B35.21735098098974%2C%20138.89457601858706%5D%2C%20%5B35.21729805172734%2C%20138.89467435262972%5D%2C%20%5B35.217244684537086%2C%20138.89477248681317%5D%2C%20%5B35.21719080369287%2C%20138.8948702997889%5D%2C%20%5B35.21713631946678%2C%20138.89496767290578%5D%2C%20%5B35.21708114530046%2C%20138.8950644630862%5D%2C%20%5B35.21702518886691%2C%20138.89516051533573%5D%2C%20%5B35.216968351607285%2C%20138.89525566393294%5D%2C%20%5B35.216910522078244%2C%20138.89534974721983%5D%2C%20%5B35.21685159102845%2C%20138.89544257804022%5D%2C%20%5B35.21679110670327%2C%20138.89553374371792%5D%2C%20%5B35.21672902730515%2C%20138.89562310393055%5D%2C%20%5B35.2166657363349%2C%20138.89571076108288%5D%2C%20%5B35.21660127585807%2C%20138.89579659201405%5D%2C%20%5B35.21653561752684%2C%20138.89587998409587%5D%2C%20%5B35.21646880484547%2C%20138.8959609297694%5D%2C%20%5B35.21640096848275%2C%20138.89603999695927%5D%2C%20%5B35.21633217004865%2C%20138.89611726457179%5D%2C%20%5B35.216262462241055%2C%20138.89619281804167%5D%2C%20%5B35.21619190340432%2C%20138.89626671974224%5D%2C%20%5B35.21612065814008%2C%20138.8963386897182%5D%2C%20%5B35.216048653306146%2C%20138.8964091964145%5D%2C%20%5B35.21597591253021%2C%20138.89647838011123%5D%2C%20%5B35.21590246990001%2C%20138.89654636330945%5D%2C%20%5B35.21582836124363%2C%20138.89661326422245%5D%2C%20%5B35.21575361109413%2C%20138.8966792048795%5D%2C%20%5B35.21567825704473%2C%20138.8967442922989%5D%2C%20%5B35.21560233753798%2C%20138.89680862768355%5D%2C%20%5B35.215525890045114%2C%20138.89687230609545%5D%2C%20%5B35.21544893813448%2C%20138.89693542306517%5D%2C%20%5B35.215371517551716%2C%20138.8969980586763%5D%2C%20%5B35.21529366227216%2C%20138.8970602842036%5D%2C%20%5B35.21521539273139%2C%20138.8971221725544%5D%2C%20%5B35.21513674027367%2C%20138.89718377872015%5D%2C%20%5B35.21505773502851%2C%20138.89724514890148%5D%2C%20%5B35.21497840487993%2C%20138.89730632205595%5D%2C%20%5B35.2148987656111%2C%20138.89736734240938%5D%2C%20%5B35.214818842722515%2C%20138.89742823626426%5D%2C%20%5B35.2147386611338%2C%20138.89748902368513%5D%2C%20%5B35.21465823489265%2C%20138.89754973127006%5D%2C%20%5B35.21457758901411%2C%20138.89761036813354%5D%2C%20%5B35.21449674882705%2C%20138.89767093872297%5D%2C%20%5B35.21441574003451%2C%20138.8977314439283%5D%2C%20%5B35.214334577695624%2C%20138.89779189352618%5D%2C%20%5B35.21425328858567%2C%20138.89785228183484%5D%2C%20%5B35.214171900852804%2C%20138.89791260061912%5D%2C%20%5B35.21409043259477%2C%20138.89797285253817%5D%2C%20%5B35.21400891489541%2C%20138.8980330261378%5D%2C%20%5B35.21392738073947%2C%20138.8980931092596%5D%2C%20%5B35.21384586459551%2C%20138.89815308936886%5D%2C%20%5B35.21376439095772%2C%20138.89821296771782%5D%2C%20%5B35.213682997886245%2C%20138.89827273351295%5D%2C%20%5B35.2136017258395%2C%20138.89833237800033%5D%2C%20%5B35.21352060542142%2C%20138.89839190801217%5D%2C%20%5B35.21343968258294%2C%20138.89845132080984%5D%2C%20%5B35.21335900548794%2C%20138.89851061980357%5D%2C%20%5B35.21327862491616%2C%20138.8985698119009%5D%2C%20%5B35.213198578868514%2C%20138.89862891798316%5D%2C%20%5B35.21311892058042%2C%20138.89868795392778%5D%2C%20%5B35.213039704111594%2C%20138.89874693954891%5D%2C%20%5B35.21296097046792%2C%20138.89880590754018%5D%2C%20%5B35.212882922996016%2C%20138.8988651911932%5D%2C%20%5B35.2128054333309%2C%20138.89892443933942%5D%2C%20%5B35.21272851975035%2C%20138.89898361095018%5D%2C%20%5B35.21265218587059%2C%20138.8990426782116%5D%2C%20%5B35.21257644806948%2C%20138.899101608709%5D%2C%20%5B35.21250132118818%2C%20138.89916037378052%5D%2C%20%5B35.2124268047594%2C%20138.89921895741577%5D%2C%20%5B35.21235291005222%2C%20138.89927733861862%5D%2C%20%5B35.21227964581107%2C%20138.89933550010704%5D%2C%20%5B35.212207017270714%2C%20138.89939342914357%5D%2C%20%5B35.21213501373831%2C%20138.8994511247467%5D%2C%20%5B35.21206363357477%2C%20138.8995085815758%5D%2C%20%5B35.21199287128633%2C%20138.89956579798826%5D%2C%20%5B35.21192270568349%2C%20138.8996227830196%5D%2C%20%5B35.211853123648%2C%20138.8996795407872%5D%2C%20%5B35.21178409751063%2C%20138.89973608519114%5D%2C%20%5B35.211715608288%2C%20138.89979242449667%5D%2C%20%5B35.21164761834549%2C%20138.89984857572063%5D%2C%20%5B35.211580110553385%2C%20138.89990454801256%5D%2C%20%5B35.21151305995391%2C%20138.89996035071397%5D%2C%20%5B35.211446429090564%2C%20138.90001600178573%5D%2C%20%5B35.21138018818067%2C%20138.9000715100814%5D%2C%20%5B35.211314296903126%2C%20138.90012689345693%5D%2C%20%5B35.211248722883795%2C%20138.90018215905133%5D%2C%20%5B35.211183430133865%2C%20138.90023731810356%5D%2C%20%5B35.21111838077056%2C%20138.90029238310714%5D%2C%20%5B35.21105354513932%2C%20138.90034736378396%5D%2C%20%5B35.210988880616476%2C%20138.90040227365748%5D%2C%20%5B35.21092435708539%2C%20138.9004571193633%5D%2C%20%5B35.21085993922153%2C%20138.90051191697376%5D%2C%20%5B35.210795602935335%2C%20138.90056667312845%5D%2C%20%5B35.210731340378295%2C%20138.9006213954142%5D%2C%20%5B35.210667111329855%2C%20138.90067609791575%5D%2C%20%5B35.21060291726788%2C%20138.9007307835289%5D%2C%20%5B35.210538718595984%2C%20138.90078546936732%5D%2C%20%5B35.21047450680828%2C%20138.9008401601237%5D%5D%2C%0A%20%20%20%20%20%20%20%20%20%20%20%20%20%20%7B%22bubblingMouseEvents%22%3A%20true%2C%20%22color%22%3A%20%22%230000FF%22%2C%20%22dashArray%22%3A%20%5B10%2C%2020%5D%2C%20%22dashOffset%22%3A%20null%2C%20%22delay%22%3A%20400%2C%20%22fill%22%3A%20false%2C%20%22fillColor%22%3A%20%22%233388ff%22%2C%20%22fillOpacity%22%3A%200.2%2C%20%22fillRule%22%3A%20%22evenodd%22%2C%20%22hardwareAcceleration%22%3A%20false%2C%20%22lineCap%22%3A%20%22round%22%2C%20%22lineJoin%22%3A%20%22round%22%2C%20%22noClip%22%3A%20false%2C%20%22opacity%22%3A%200.5%2C%20%22paused%22%3A%20false%2C%20%22pulseColor%22%3A%20%22%23FFFFFF%22%2C%20%22reverse%22%3A%20false%2C%20%22smoothFactor%22%3A%201.0%2C%20%22stroke%22%3A%20true%2C%20%22weight%22%3A%205%7D%0A%20%20%20%20%20%20%20%20%29.addTo%28map_e8cb8dbc152e41e68dd115d8b3595633%29%3B%0A%20%20%20%20%20%20%20%20%0A%3C/script%3E onload=\"this.contentDocument.open();this.contentDocument.write(    decodeURIComponent(this.getAttribute('data-html')));this.contentDocument.close();\" allowfullscreen webkitallowfullscreen mozallowfullscreen></iframe></div></div>"
      ],
      "text/plain": [
       "<folium.folium.Map at 0x2220c7e3820>"
      ]
     },
     "execution_count": 140,
     "metadata": {},
     "output_type": "execute_result"
    }
   ],
   "source": [
    "# NOw let's visualize the actual itinerary on Folium Maps (Yet again)\n",
    "visualize_route_with_foliumMaps(data)\n"
   ]
  },
  {
   "cell_type": "markdown",
   "id": "c4c2bc8b",
   "metadata": {},
   "source": [
    "- This is looking good ! we are now alomst done \n",
    "- Next up , We will calculate the Car Speed/velocity at each point in time and check for the points where the speed exeeded 50 km/h "
   ]
  },
  {
   "cell_type": "markdown",
   "id": "f091c335",
   "metadata": {},
   "source": [
    "Part 4 : Speed Analysis "
   ]
  },
  {
   "cell_type": "code",
   "execution_count": 151,
   "id": "c088ddde",
   "metadata": {},
   "outputs": [],
   "source": [
    "from math import radians, degrees, sin, cos, asin, acos, sqrt\n",
    "\n",
    "# the Following Function calculates the distance between two GPS Coordinates and returns it in meters     \n",
    "#         Parameters:\n",
    "#         lon1, lat1, lon2, lat2 : Coordinates of two diffrent points \n",
    "#         Returns: the great circle distance in meters \n",
    "            \n",
    "def great_circle(lon1, lat1, lon2, lat2):\n",
    "        lon1, lat1, lon2, lat2 = map(radians, [lon1, lat1, lon2, lat2])\n",
    "        return 6371 * 1000 * (\n",
    "            acos(sin(lat1) * sin(lat2) + cos(lat1) * cos(lat2) * cos(lon1 - lon2)) # distance converted to meters \n",
    "             )"
   ]
  },
  {
   "cell_type": "code",
   "execution_count": 152,
   "id": "2e7ad2ee",
   "metadata": {},
   "outputs": [
    {
     "name": "stderr",
     "output_type": "stream",
     "text": [
      "c:\\python39\\lib\\site-packages\\pandas\\core\\frame.py:4308: SettingWithCopyWarning: \n",
      "A value is trying to be set on a copy of a slice from a DataFrame\n",
      "\n",
      "See the caveats in the documentation: https://pandas.pydata.org/pandas-docs/stable/user_guide/indexing.html#returning-a-view-versus-a-copy\n",
      "  return super().drop(\n"
     ]
    },
    {
     "data": {
      "text/html": [
       "<div>\n",
       "<style scoped>\n",
       "    .dataframe tbody tr th:only-of-type {\n",
       "        vertical-align: middle;\n",
       "    }\n",
       "\n",
       "    .dataframe tbody tr th {\n",
       "        vertical-align: top;\n",
       "    }\n",
       "\n",
       "    .dataframe thead th {\n",
       "        text-align: right;\n",
       "    }\n",
       "</style>\n",
       "<table border=\"1\" class=\"dataframe\">\n",
       "  <thead>\n",
       "    <tr style=\"text-align: right;\">\n",
       "      <th></th>\n",
       "      <th>timestamp_secs</th>\n",
       "      <th>image_id</th>\n",
       "      <th>latitude</th>\n",
       "      <th>longitude</th>\n",
       "    </tr>\n",
       "  </thead>\n",
       "  <tbody>\n",
       "    <tr>\n",
       "      <th>0</th>\n",
       "      <td>0.055894</td>\n",
       "      <td>0.0</td>\n",
       "      <td>35.225870</td>\n",
       "      <td>138.892307</td>\n",
       "    </tr>\n",
       "    <tr>\n",
       "      <th>1</th>\n",
       "      <td>2.541349</td>\n",
       "      <td>1.0</td>\n",
       "      <td>35.225871</td>\n",
       "      <td>138.892306</td>\n",
       "    </tr>\n",
       "    <tr>\n",
       "      <th>2</th>\n",
       "      <td>5.064852</td>\n",
       "      <td>2.0</td>\n",
       "      <td>35.225873</td>\n",
       "      <td>138.892304</td>\n",
       "    </tr>\n",
       "    <tr>\n",
       "      <th>3</th>\n",
       "      <td>7.547008</td>\n",
       "      <td>3.0</td>\n",
       "      <td>35.225876</td>\n",
       "      <td>138.892301</td>\n",
       "    </tr>\n",
       "    <tr>\n",
       "      <th>4</th>\n",
       "      <td>10.083096</td>\n",
       "      <td>4.0</td>\n",
       "      <td>35.225881</td>\n",
       "      <td>138.892296</td>\n",
       "    </tr>\n",
       "    <tr>\n",
       "      <th>5</th>\n",
       "      <td>12.554007</td>\n",
       "      <td>5.0</td>\n",
       "      <td>35.225886</td>\n",
       "      <td>138.892291</td>\n",
       "    </tr>\n",
       "    <tr>\n",
       "      <th>6</th>\n",
       "      <td>15.001971</td>\n",
       "      <td>6.0</td>\n",
       "      <td>35.225891</td>\n",
       "      <td>138.892285</td>\n",
       "    </tr>\n",
       "    <tr>\n",
       "      <th>7</th>\n",
       "      <td>17.509800</td>\n",
       "      <td>7.0</td>\n",
       "      <td>35.225899</td>\n",
       "      <td>138.892276</td>\n",
       "    </tr>\n",
       "    <tr>\n",
       "      <th>8</th>\n",
       "      <td>20.066697</td>\n",
       "      <td>8.0</td>\n",
       "      <td>35.225907</td>\n",
       "      <td>138.892266</td>\n",
       "    </tr>\n",
       "    <tr>\n",
       "      <th>9</th>\n",
       "      <td>22.575128</td>\n",
       "      <td>9.0</td>\n",
       "      <td>35.225912</td>\n",
       "      <td>138.892258</td>\n",
       "    </tr>\n",
       "  </tbody>\n",
       "</table>\n",
       "</div>"
      ],
      "text/plain": [
       "   timestamp_secs  image_id   latitude   longitude\n",
       "0        0.055894       0.0  35.225870  138.892307\n",
       "1        2.541349       1.0  35.225871  138.892306\n",
       "2        5.064852       2.0  35.225873  138.892304\n",
       "3        7.547008       3.0  35.225876  138.892301\n",
       "4       10.083096       4.0  35.225881  138.892296\n",
       "5       12.554007       5.0  35.225886  138.892291\n",
       "6       15.001971       6.0  35.225891  138.892285\n",
       "7       17.509800       7.0  35.225899  138.892276\n",
       "8       20.066697       8.0  35.225907  138.892266\n",
       "9       22.575128       9.0  35.225912  138.892258"
      ]
     },
     "execution_count": 152,
     "metadata": {},
     "output_type": "execute_result"
    }
   ],
   "source": [
    "data_speed=data.dropna(subset=['image_id']) # drop the missing values from the image column\n",
    "data_speed.reset_index(drop=True, inplace=True)\n",
    "data_speed.drop(columns= ['Diff'],inplace=True)\n",
    "data_speed.head(10)"
   ]
  },
  {
   "cell_type": "code",
   "execution_count": 153,
   "id": "eff4d4a1",
   "metadata": {},
   "outputs": [
    {
     "name": "stderr",
     "output_type": "stream",
     "text": [
      "C:\\Users\\mlaho\\AppData\\Local\\Temp/ipykernel_16200/3225996952.py:26: SettingWithCopyWarning: \n",
      "A value is trying to be set on a copy of a slice from a DataFrame.\n",
      "Try using .loc[row_indexer,col_indexer] = value instead\n",
      "\n",
      "See the caveats in the documentation: https://pandas.pydata.org/pandas-docs/stable/user_guide/indexing.html#returning-a-view-versus-a-copy\n",
      "  data_speed ['distance_cruised in metters'] = pd.DataFrame(distance)\n",
      "C:\\Users\\mlaho\\AppData\\Local\\Temp/ipykernel_16200/3225996952.py:27: SettingWithCopyWarning: \n",
      "A value is trying to be set on a copy of a slice from a DataFrame.\n",
      "Try using .loc[row_indexer,col_indexer] = value instead\n",
      "\n",
      "See the caveats in the documentation: https://pandas.pydata.org/pandas-docs/stable/user_guide/indexing.html#returning-a-view-versus-a-copy\n",
      "  data_speed ['time_laps is Secs'] = pd.DataFrame(time_laps)\n",
      "C:\\Users\\mlaho\\AppData\\Local\\Temp/ipykernel_16200/3225996952.py:28: SettingWithCopyWarning: \n",
      "A value is trying to be set on a copy of a slice from a DataFrame.\n",
      "Try using .loc[row_indexer,col_indexer] = value instead\n",
      "\n",
      "See the caveats in the documentation: https://pandas.pydata.org/pandas-docs/stable/user_guide/indexing.html#returning-a-view-versus-a-copy\n",
      "  data_speed ['speed in km/h'] = pd.DataFrame(speed)\n",
      "C:\\Users\\mlaho\\AppData\\Local\\Temp/ipykernel_16200/3225996952.py:29: SettingWithCopyWarning: \n",
      "A value is trying to be set on a copy of a slice from a DataFrame.\n",
      "Try using .loc[row_indexer,col_indexer] = value instead\n",
      "\n",
      "See the caveats in the documentation: https://pandas.pydata.org/pandas-docs/stable/user_guide/indexing.html#returning-a-view-versus-a-copy\n",
      "  data_speed ['speed_limit in Km/h'] = 50\n"
     ]
    },
    {
     "data": {
      "text/html": [
       "<div>\n",
       "<style scoped>\n",
       "    .dataframe tbody tr th:only-of-type {\n",
       "        vertical-align: middle;\n",
       "    }\n",
       "\n",
       "    .dataframe tbody tr th {\n",
       "        vertical-align: top;\n",
       "    }\n",
       "\n",
       "    .dataframe thead th {\n",
       "        text-align: right;\n",
       "    }\n",
       "</style>\n",
       "<table border=\"1\" class=\"dataframe\">\n",
       "  <thead>\n",
       "    <tr style=\"text-align: right;\">\n",
       "      <th></th>\n",
       "      <th>timestamp_secs</th>\n",
       "      <th>image_id</th>\n",
       "      <th>latitude</th>\n",
       "      <th>longitude</th>\n",
       "      <th>distance_cruised in metters</th>\n",
       "      <th>time_laps is Secs</th>\n",
       "      <th>speed in km/h</th>\n",
       "      <th>speed_limit in Km/h</th>\n",
       "    </tr>\n",
       "  </thead>\n",
       "  <tbody>\n",
       "    <tr>\n",
       "      <th>147</th>\n",
       "      <td>367.540147</td>\n",
       "      <td>147.0</td>\n",
       "      <td>35.211853</td>\n",
       "      <td>138.899680</td>\n",
       "      <td>18.411575</td>\n",
       "      <td>2.502697</td>\n",
       "      <td>41.21</td>\n",
       "      <td>50</td>\n",
       "    </tr>\n",
       "    <tr>\n",
       "      <th>148</th>\n",
       "      <td>370.042843</td>\n",
       "      <td>148.0</td>\n",
       "      <td>35.211716</td>\n",
       "      <td>138.899792</td>\n",
       "      <td>18.186987</td>\n",
       "      <td>2.526480</td>\n",
       "      <td>26.48</td>\n",
       "      <td>50</td>\n",
       "    </tr>\n",
       "    <tr>\n",
       "      <th>149</th>\n",
       "      <td>372.569323</td>\n",
       "      <td>149.0</td>\n",
       "      <td>35.211580</td>\n",
       "      <td>138.899905</td>\n",
       "      <td>26.912106</td>\n",
       "      <td>2.472085</td>\n",
       "      <td>25.91</td>\n",
       "      <td>50</td>\n",
       "    </tr>\n",
       "    <tr>\n",
       "      <th>150</th>\n",
       "      <td>375.041408</td>\n",
       "      <td>150.0</td>\n",
       "      <td>35.211380</td>\n",
       "      <td>138.900072</td>\n",
       "      <td>17.740966</td>\n",
       "      <td>2.490982</td>\n",
       "      <td>39.19</td>\n",
       "      <td>50</td>\n",
       "    </tr>\n",
       "    <tr>\n",
       "      <th>151</th>\n",
       "      <td>377.532389</td>\n",
       "      <td>151.0</td>\n",
       "      <td>35.211249</td>\n",
       "      <td>138.900182</td>\n",
       "      <td>17.616574</td>\n",
       "      <td>2.548689</td>\n",
       "      <td>25.64</td>\n",
       "      <td>50</td>\n",
       "    </tr>\n",
       "    <tr>\n",
       "      <th>152</th>\n",
       "      <td>380.081078</td>\n",
       "      <td>152.0</td>\n",
       "      <td>35.211118</td>\n",
       "      <td>138.900292</td>\n",
       "      <td>17.522186</td>\n",
       "      <td>2.501496</td>\n",
       "      <td>24.88</td>\n",
       "      <td>50</td>\n",
       "    </tr>\n",
       "    <tr>\n",
       "      <th>153</th>\n",
       "      <td>382.582575</td>\n",
       "      <td>153.0</td>\n",
       "      <td>35.210989</td>\n",
       "      <td>138.900402</td>\n",
       "      <td>26.171856</td>\n",
       "      <td>2.504871</td>\n",
       "      <td>25.22</td>\n",
       "      <td>50</td>\n",
       "    </tr>\n",
       "    <tr>\n",
       "      <th>154</th>\n",
       "      <td>385.087445</td>\n",
       "      <td>154.0</td>\n",
       "      <td>35.210796</td>\n",
       "      <td>138.900567</td>\n",
       "      <td>17.406070</td>\n",
       "      <td>2.508790</td>\n",
       "      <td>37.61</td>\n",
       "      <td>50</td>\n",
       "    </tr>\n",
       "    <tr>\n",
       "      <th>155</th>\n",
       "      <td>387.596235</td>\n",
       "      <td>155.0</td>\n",
       "      <td>35.210667</td>\n",
       "      <td>138.900676</td>\n",
       "      <td>17.394416</td>\n",
       "      <td>2.483169</td>\n",
       "      <td>24.98</td>\n",
       "      <td>50</td>\n",
       "    </tr>\n",
       "    <tr>\n",
       "      <th>156</th>\n",
       "      <td>390.079404</td>\n",
       "      <td>156.0</td>\n",
       "      <td>35.210539</td>\n",
       "      <td>138.900785</td>\n",
       "      <td>NaN</td>\n",
       "      <td>NaN</td>\n",
       "      <td>25.22</td>\n",
       "      <td>50</td>\n",
       "    </tr>\n",
       "  </tbody>\n",
       "</table>\n",
       "</div>"
      ],
      "text/plain": [
       "     timestamp_secs  image_id   latitude   longitude  \\\n",
       "147      367.540147     147.0  35.211853  138.899680   \n",
       "148      370.042843     148.0  35.211716  138.899792   \n",
       "149      372.569323     149.0  35.211580  138.899905   \n",
       "150      375.041408     150.0  35.211380  138.900072   \n",
       "151      377.532389     151.0  35.211249  138.900182   \n",
       "152      380.081078     152.0  35.211118  138.900292   \n",
       "153      382.582575     153.0  35.210989  138.900402   \n",
       "154      385.087445     154.0  35.210796  138.900567   \n",
       "155      387.596235     155.0  35.210667  138.900676   \n",
       "156      390.079404     156.0  35.210539  138.900785   \n",
       "\n",
       "     distance_cruised in metters  time_laps is Secs  speed in km/h  \\\n",
       "147                    18.411575           2.502697          41.21   \n",
       "148                    18.186987           2.526480          26.48   \n",
       "149                    26.912106           2.472085          25.91   \n",
       "150                    17.740966           2.490982          39.19   \n",
       "151                    17.616574           2.548689          25.64   \n",
       "152                    17.522186           2.501496          24.88   \n",
       "153                    26.171856           2.504871          25.22   \n",
       "154                    17.406070           2.508790          37.61   \n",
       "155                    17.394416           2.483169          24.98   \n",
       "156                          NaN                NaN          25.22   \n",
       "\n",
       "     speed_limit in Km/h  \n",
       "147                   50  \n",
       "148                   50  \n",
       "149                   50  \n",
       "150                   50  \n",
       "151                   50  \n",
       "152                   50  \n",
       "153                   50  \n",
       "154                   50  \n",
       "155                   50  \n",
       "156                   50  "
      ]
     },
     "execution_count": 153,
     "metadata": {},
     "output_type": "execute_result"
    }
   ],
   "source": [
    "  \n",
    "speed = [] #Instantiate an empty list called speed to store speed records list \n",
    "distance=[]\n",
    "time_laps=[]\n",
    "image_list = []\n",
    "\n",
    "\n",
    "for (index , row) in data_speed.iterrows(): #iterate over the car location corrdinates DataFrame \n",
    "    \n",
    "    if (index == 0)  : # to skip the first point (speed cannot be calculated for index = 0)\n",
    "        speed.append(0)\n",
    "    else:\n",
    "        distance .append (great_circle(data_speed.loc[index-1 , 'longitude'] , data_speed.loc[ index-1 , 'latitude'] , \n",
    "                                       data_speed.loc[index , 'longitude'] , data_speed.loc[ index , 'latitude']))\n",
    "        \n",
    "        time_laps.append(data_speed.loc[index , 'timestamp_secs']  - data_speed.loc[ index-1 , 'timestamp_secs']  )\n",
    "\n",
    "        speed_temp = round(((distance[-1])/(time_laps[-1])* 3.6),2) # temp variable that captures the speed for each iter\n",
    "        \n",
    "        if speed_temp > 50 : # if the speed exeeds the 50 km/h limit , add it the image_list\n",
    "            image_list.append([data_speed.loc[index , 'image_id'], speed_temp] ) \n",
    "            \n",
    "        speed.append( speed_temp )\n",
    "        speed_temp = 0\n",
    "        \n",
    "# adding all the intrest columns to the dataframe \n",
    "data_speed ['distance_cruised in metters'] = pd.DataFrame(distance) \n",
    "data_speed ['time_laps is Secs'] = pd.DataFrame(time_laps)\n",
    "data_speed ['speed in km/h'] = pd.DataFrame(speed)\n",
    "data_speed ['speed_limit in Km/h'] = 50\n",
    "\n",
    "# visualizing the first 10 rows\n",
    "data_speed.tail(10)\n",
    "    \n"
   ]
  },
  {
   "cell_type": "code",
   "execution_count": 154,
   "id": "9c419f94",
   "metadata": {},
   "outputs": [
    {
     "data": {
      "text/plain": [
       "[<matplotlib.lines.Line2D at 0x2220c895430>]"
      ]
     },
     "execution_count": 154,
     "metadata": {},
     "output_type": "execute_result"
    },
    {
     "data": {
      "image/png": "[encoded data removed]",
      "text/plain": [
       "<Figure size 432x288 with 1 Axes>"
      ]
     },
     "metadata": {
      "needs_background": "light"
     },
     "output_type": "display_data"
    }
   ],
   "source": [
    "plt.title('Speed over time (in red) against the speed limit of 50 Km/h  (in blue )')\n",
    "plt.plot(data_speed ['image_id'].values, data_speed ['speed in km/h'].values , 'r')\n",
    "plt.plot(data_speed ['image_id'].values, data_speed ['speed_limit in Km/h'].values)\n"
   ]
  },
  {
   "cell_type": "markdown",
   "id": "a034a9e2",
   "metadata": {},
   "source": []
  },
  {
   "cell_type": "markdown",
   "id": "17edc1b3",
   "metadata": {},
   "source": []
  },
  {
   "cell_type": "markdown",
   "id": "00625e56",
   "metadata": {},
   "source": [
    "Finally , we let's render the final list of image_ids where the vehicle exeeded the speed limit of 50 Km/h"
   ]
  },
  {
   "cell_type": "code",
   "execution_count": 155,
   "id": "21fe4f29",
   "metadata": {},
   "outputs": [
    {
     "data": {
      "text/html": [
       "<div>\n",
       "<style scoped>\n",
       "    .dataframe tbody tr th:only-of-type {\n",
       "        vertical-align: middle;\n",
       "    }\n",
       "\n",
       "    .dataframe tbody tr th {\n",
       "        vertical-align: top;\n",
       "    }\n",
       "\n",
       "    .dataframe thead th {\n",
       "        text-align: right;\n",
       "    }\n",
       "</style>\n",
       "<table border=\"1\" class=\"dataframe\">\n",
       "  <thead>\n",
       "    <tr style=\"text-align: right;\">\n",
       "      <th></th>\n",
       "      <th>Image_id</th>\n",
       "      <th>Speed in Km/h</th>\n",
       "    </tr>\n",
       "  </thead>\n",
       "  <tbody>\n",
       "    <tr>\n",
       "      <th>0</th>\n",
       "      <td>112.0</td>\n",
       "      <td>50.75</td>\n",
       "    </tr>\n",
       "    <tr>\n",
       "      <th>1</th>\n",
       "      <td>114.0</td>\n",
       "      <td>51.25</td>\n",
       "    </tr>\n",
       "    <tr>\n",
       "      <th>2</th>\n",
       "      <td>116.0</td>\n",
       "      <td>53.58</td>\n",
       "    </tr>\n",
       "    <tr>\n",
       "      <th>3</th>\n",
       "      <td>118.0</td>\n",
       "      <td>54.40</td>\n",
       "    </tr>\n",
       "    <tr>\n",
       "      <th>4</th>\n",
       "      <td>120.0</td>\n",
       "      <td>58.82</td>\n",
       "    </tr>\n",
       "    <tr>\n",
       "      <th>5</th>\n",
       "      <td>122.0</td>\n",
       "      <td>59.81</td>\n",
       "    </tr>\n",
       "    <tr>\n",
       "      <th>6</th>\n",
       "      <td>124.0</td>\n",
       "      <td>60.33</td>\n",
       "    </tr>\n",
       "    <tr>\n",
       "      <th>7</th>\n",
       "      <td>126.0</td>\n",
       "      <td>62.29</td>\n",
       "    </tr>\n",
       "    <tr>\n",
       "      <th>8</th>\n",
       "      <td>128.0</td>\n",
       "      <td>61.22</td>\n",
       "    </tr>\n",
       "    <tr>\n",
       "      <th>9</th>\n",
       "      <td>130.0</td>\n",
       "      <td>58.84</td>\n",
       "    </tr>\n",
       "    <tr>\n",
       "      <th>10</th>\n",
       "      <td>132.0</td>\n",
       "      <td>58.54</td>\n",
       "    </tr>\n",
       "    <tr>\n",
       "      <th>11</th>\n",
       "      <td>134.0</td>\n",
       "      <td>61.62</td>\n",
       "    </tr>\n",
       "    <tr>\n",
       "      <th>12</th>\n",
       "      <td>136.0</td>\n",
       "      <td>60.58</td>\n",
       "    </tr>\n",
       "    <tr>\n",
       "      <th>13</th>\n",
       "      <td>139.0</td>\n",
       "      <td>60.41</td>\n",
       "    </tr>\n",
       "    <tr>\n",
       "      <th>14</th>\n",
       "      <td>140.0</td>\n",
       "      <td>61.15</td>\n",
       "    </tr>\n",
       "    <tr>\n",
       "      <th>15</th>\n",
       "      <td>142.0</td>\n",
       "      <td>58.60</td>\n",
       "    </tr>\n",
       "    <tr>\n",
       "      <th>16</th>\n",
       "      <td>145.0</td>\n",
       "      <td>57.17</td>\n",
       "    </tr>\n",
       "  </tbody>\n",
       "</table>\n",
       "</div>"
      ],
      "text/plain": [
       "    Image_id  Speed in Km/h\n",
       "0      112.0          50.75\n",
       "1      114.0          51.25\n",
       "2      116.0          53.58\n",
       "3      118.0          54.40\n",
       "4      120.0          58.82\n",
       "5      122.0          59.81\n",
       "6      124.0          60.33\n",
       "7      126.0          62.29\n",
       "8      128.0          61.22\n",
       "9      130.0          58.84\n",
       "10     132.0          58.54\n",
       "11     134.0          61.62\n",
       "12     136.0          60.58\n",
       "13     139.0          60.41\n",
       "14     140.0          61.15\n",
       "15     142.0          58.60\n",
       "16     145.0          57.17"
      ]
     },
     "execution_count": 155,
     "metadata": {},
     "output_type": "execute_result"
    }
   ],
   "source": [
    "image_list = pd.DataFrame (image_list)\n",
    "image_list.columns =['Image_id', 'Speed in Km/h']\n",
    "image_list\n",
    "# there are 17 points in time where the car exeeded the 50 kn/h speed limit "
   ]
  },
  {
   "cell_type": "markdown",
   "id": "a827b359",
   "metadata": {},
   "source": [
    "# THank you !"
   ]
  },
  {
   "cell_type": "code",
   "execution_count": null,
   "id": "d51dbd74",
   "metadata": {},
   "outputs": [],
   "source": []
  }
 ],
 "metadata": {
  "kernelspec": {
   "display_name": "Python 3 (ipykernel)",
   "language": "python",
   "name": "python3"
  },
  "language_info": {
   "codemirror_mode": {
    "name": "ipython",
    "version": 3
   },
   "file_extension": ".py",
   "mimetype": "text/x-python",
   "name": "python",
   "nbconvert_exporter": "python",
   "pygments_lexer": "ipython3",
   "version": "3.9.1"
  }
 },
 "nbformat": 4,
 "nbformat_minor": 5
}
